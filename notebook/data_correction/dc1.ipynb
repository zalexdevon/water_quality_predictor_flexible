{
 "cells": [
  {
   "cell_type": "markdown",
   "metadata": {
    "id": "By1HgNi7uR5N"
   },
   "source": [
    "# Set up"
   ]
  },
  {
   "cell_type": "code",
   "execution_count": 1,
   "metadata": {
    "colab": {
     "base_uri": "https://localhost:8080/"
    },
    "executionInfo": {
     "elapsed": 8676,
     "status": "ok",
     "timestamp": 1746428646427,
     "user": {
      "displayName": "andong giao",
      "userId": "08579771938911194368"
     },
     "user_tz": -420
    },
    "id": "DxEb8CeyuTwl",
    "outputId": "d55c7e28-7c71-4da4-ead4-8c411e437bbe"
   },
   "outputs": [
    {
     "name": "stdout",
     "output_type": "stream",
     "text": [
      "Drive already mounted at /content/drive; to attempt to forcibly remount, call drive.mount(\"/content/drive\", force_remount=True).\n",
      "/content/drive/MyDrive/water_quality_predictor\n",
      "remote: Enumerating objects: 5, done.\u001b[K\n",
      "remote: Counting objects: 100% (5/5), done.\u001b[K\n",
      "remote: Compressing objects: 100% (1/1), done.\u001b[K\n",
      "remote: Total 3 (delta 2), reused 3 (delta 2), pack-reused 0 (from 0)\u001b[K\n",
      "Unpacking objects: 100% (3/3), 301 bytes | 1024 bytes/s, done.\n",
      "From https://github.com/zalexdevon/water_quality_predictor\n",
      "   8f4bf2f..b262210  main       -> origin/main\n",
      "Updating 8f4bf2f..b262210\n",
      "Fast-forward\n",
      " run.py | 3 \u001b[32m++\u001b[m\u001b[31m-\u001b[m\n",
      " 1 file changed, 2 insertions(+), 1 deletion(-)\n"
     ]
    }
   ],
   "source": [
    "project_folder = \"/content/drive/MyDrive/water_quality_predictor\"\n",
    "\n",
    "from google.colab import drive\n",
    "drive.mount('/content/drive')\n",
    "\n",
    "%cd \"{project_folder}\"\n",
    "!git pull"
   ]
  },
  {
   "cell_type": "markdown",
   "metadata": {
    "id": "rJC3sHLiuWFO"
   },
   "source": [
    "# Cài đặt môi trường"
   ]
  },
  {
   "cell_type": "code",
   "execution_count": 2,
   "metadata": {
    "colab": {
     "base_uri": "https://localhost:8080/",
     "height": 1000
    },
    "executionInfo": {
     "elapsed": 48859,
     "status": "ok",
     "timestamp": 1746428590774,
     "user": {
      "displayName": "andong giao",
      "userId": "08579771938911194368"
     },
     "user_tz": -420
    },
    "id": "fAgC5y1QuZzc",
    "outputId": "b41f1aee-dbd4-4e80-a431-ff3f6bb15297"
   },
   "outputs": [
    {
     "name": "stdout",
     "output_type": "stream",
     "text": [
      "Updating 6ee5793..8f4bf2f\n",
      "error: Your local changes to the following files would be overwritten by merge:\n",
      "\tsrc/classifier/components/data_correction.py\n",
      "\tsrc/classifier/components/data_transformation.py\n",
      "\tsrc/classifier/components/data_transformation_batch.py\n",
      "\tsrc/classifier/components/data_transformation_batch_weighted.py\n",
      "\tsrc/classifier/components/data_transformation_weighted.py\n",
      "\tsrc/classifier/config/configuration.py\n",
      "\tsrc/classifier/data_correction_code/dc3_new2.py\n",
      "\tsrc/classifier/entity/config_entity.py\n",
      "Please commit your changes or stash them before you merge.\n",
      "Aborting\n",
      "Obtaining file:///content/drive/MyDrive/water_quality_predictor (from -r requirements.txt (line 17))\n",
      "  Preparing metadata (setup.py) ... \u001b[?25l\u001b[?25hdone\n",
      "Requirement already satisfied: pandas in /usr/local/lib/python3.11/dist-packages (from -r requirements.txt (line 1)) (2.2.2)\n",
      "Requirement already satisfied: plotly in /usr/local/lib/python3.11/dist-packages (from -r requirements.txt (line 2)) (5.24.1)\n",
      "Collecting numpy==1.26.4 (from -r requirements.txt (line 3))\n",
      "  Downloading numpy-1.26.4-cp311-cp311-manylinux_2_17_x86_64.manylinux2014_x86_64.whl.metadata (61 kB)\n",
      "\u001b[2K     \u001b[90m━━━━━━━━━━━━━━━━━━━━━━━━━━━━━━━━━━━━━━━━\u001b[0m \u001b[32m61.0/61.0 kB\u001b[0m \u001b[31m3.5 MB/s\u001b[0m eta \u001b[36m0:00:00\u001b[0m\n",
      "\u001b[?25hCollecting dvc (from -r requirements.txt (line 4))\n",
      "  Downloading dvc-3.59.1-py3-none-any.whl.metadata (18 kB)\n",
      "Requirement already satisfied: matplotlib in /usr/local/lib/python3.11/dist-packages (from -r requirements.txt (line 5)) (3.10.0)\n",
      "Requirement already satisfied: notebook in /usr/local/lib/python3.11/dist-packages (from -r requirements.txt (line 6)) (6.5.7)\n",
      "Collecting scikit-learn==1.3.0 (from -r requirements.txt (line 7))\n",
      "  Downloading scikit_learn-1.3.0-cp311-cp311-manylinux_2_17_x86_64.manylinux2014_x86_64.whl.metadata (11 kB)\n",
      "Collecting python-box==6.0.2 (from -r requirements.txt (line 8))\n",
      "  Downloading python_box-6.0.2-py3-none-any.whl.metadata (7.7 kB)\n",
      "Requirement already satisfied: pyYAML in /usr/local/lib/python3.11/dist-packages (from -r requirements.txt (line 9)) (6.0.2)\n",
      "Collecting types-PyYAML (from -r requirements.txt (line 10))\n",
      "  Downloading types_pyyaml-6.0.12.20250402-py3-none-any.whl.metadata (1.8 kB)\n",
      "Requirement already satisfied: seaborn in /usr/local/lib/python3.11/dist-packages (from -r requirements.txt (line 11)) (0.13.2)\n",
      "Requirement already satisfied: xgboost in /usr/local/lib/python3.11/dist-packages (from -r requirements.txt (line 12)) (2.1.4)\n",
      "Requirement already satisfied: lightgbm in /usr/local/lib/python3.11/dist-packages (from -r requirements.txt (line 13)) (4.5.0)\n",
      "Requirement already satisfied: imbalanced-learn in /usr/local/lib/python3.11/dist-packages (from -r requirements.txt (line 14)) (0.13.0)\n",
      "Requirement already satisfied: scipy in /usr/local/lib/python3.11/dist-packages (from -r requirements.txt (line 15)) (1.15.2)\n",
      "Collecting zzzz_mylib_23_4==0.76 (from -r requirements.txt (line 16))\n",
      "  Downloading zzzz_mylib_23_4-0.76-py3-none-any.whl.metadata (137 bytes)\n",
      "Requirement already satisfied: joblib>=1.1.1 in /usr/local/lib/python3.11/dist-packages (from scikit-learn==1.3.0->-r requirements.txt (line 7)) (1.4.2)\n",
      "Requirement already satisfied: threadpoolctl>=2.0.0 in /usr/local/lib/python3.11/dist-packages (from scikit-learn==1.3.0->-r requirements.txt (line 7)) (3.6.0)\n",
      "Requirement already satisfied: python-dateutil>=2.8.2 in /usr/local/lib/python3.11/dist-packages (from pandas->-r requirements.txt (line 1)) (2.9.0.post0)\n",
      "Requirement already satisfied: pytz>=2020.1 in /usr/local/lib/python3.11/dist-packages (from pandas->-r requirements.txt (line 1)) (2025.2)\n",
      "Requirement already satisfied: tzdata>=2022.7 in /usr/local/lib/python3.11/dist-packages (from pandas->-r requirements.txt (line 1)) (2025.2)\n",
      "Requirement already satisfied: tenacity>=6.2.0 in /usr/local/lib/python3.11/dist-packages (from plotly->-r requirements.txt (line 2)) (9.1.2)\n",
      "Requirement already satisfied: packaging in /usr/local/lib/python3.11/dist-packages (from plotly->-r requirements.txt (line 2)) (24.2)\n",
      "Requirement already satisfied: attrs>=22.2.0 in /usr/local/lib/python3.11/dist-packages (from dvc->-r requirements.txt (line 4)) (25.3.0)\n",
      "Collecting celery (from dvc->-r requirements.txt (line 4))\n",
      "  Downloading celery-5.5.2-py3-none-any.whl.metadata (22 kB)\n",
      "Collecting colorama>=0.3.9 (from dvc->-r requirements.txt (line 4))\n",
      "  Downloading colorama-0.4.6-py2.py3-none-any.whl.metadata (17 kB)\n",
      "Collecting configobj>=5.0.9 (from dvc->-r requirements.txt (line 4))\n",
      "  Downloading configobj-5.0.9-py2.py3-none-any.whl.metadata (3.2 kB)\n",
      "Requirement already satisfied: distro>=1.3 in /usr/local/lib/python3.11/dist-packages (from dvc->-r requirements.txt (line 4)) (1.9.0)\n",
      "Collecting dpath<3,>=2.1.0 (from dvc->-r requirements.txt (line 4))\n",
      "  Downloading dpath-2.2.0-py3-none-any.whl.metadata (15 kB)\n",
      "Collecting dulwich (from dvc->-r requirements.txt (line 4))\n",
      "  Downloading dulwich-0.22.8-cp311-cp311-manylinux_2_17_x86_64.manylinux2014_x86_64.whl.metadata (4.9 kB)\n",
      "Collecting dvc-data<3.17,>=3.16.2 (from dvc->-r requirements.txt (line 4))\n",
      "  Downloading dvc_data-3.16.10-py3-none-any.whl.metadata (5.0 kB)\n",
      "Collecting dvc-http>=2.29.0 (from dvc->-r requirements.txt (line 4))\n",
      "  Downloading dvc_http-2.32.0-py3-none-any.whl.metadata (1.3 kB)\n",
      "Collecting dvc-objects (from dvc->-r requirements.txt (line 4))\n",
      "  Downloading dvc_objects-5.1.0-py3-none-any.whl.metadata (3.7 kB)\n",
      "Collecting dvc-render<2,>=1.0.1 (from dvc->-r requirements.txt (line 4))\n",
      "  Downloading dvc_render-1.0.2-py3-none-any.whl.metadata (5.4 kB)\n",
      "Collecting dvc-studio-client<1,>=0.21 (from dvc->-r requirements.txt (line 4))\n",
      "  Downloading dvc_studio_client-0.21.0-py3-none-any.whl.metadata (4.3 kB)\n",
      "Collecting dvc-task<1,>=0.3.0 (from dvc->-r requirements.txt (line 4))\n",
      "  Downloading dvc_task-0.40.2-py3-none-any.whl.metadata (10.0 kB)\n",
      "Collecting flatten_dict<1,>=0.4.1 (from dvc->-r requirements.txt (line 4))\n",
      "  Downloading flatten_dict-0.4.2-py2.py3-none-any.whl.metadata (9.2 kB)\n",
      "Collecting flufl.lock<9,>=8.1.0 (from dvc->-r requirements.txt (line 4))\n",
      "  Downloading flufl_lock-8.1.0-py3-none-any.whl.metadata (3.3 kB)\n",
      "Requirement already satisfied: fsspec>=2024.2.0 in /usr/local/lib/python3.11/dist-packages (from dvc->-r requirements.txt (line 4)) (2025.3.2)\n",
      "Collecting funcy>=1.14 (from dvc->-r requirements.txt (line 4))\n",
      "  Downloading funcy-2.0-py2.py3-none-any.whl.metadata (5.9 kB)\n",
      "Collecting grandalf<1,>=0.7 (from dvc->-r requirements.txt (line 4))\n",
      "  Downloading grandalf-0.8-py3-none-any.whl.metadata (1.7 kB)\n",
      "Collecting gto<2,>=1.6.0 (from dvc->-r requirements.txt (line 4))\n",
      "  Downloading gto-1.7.2-py3-none-any.whl.metadata (4.7 kB)\n",
      "Collecting hydra-core>=1.1 (from dvc->-r requirements.txt (line 4))\n",
      "  Downloading hydra_core-1.3.2-py3-none-any.whl.metadata (5.5 kB)\n",
      "Collecting iterative-telemetry>=0.0.7 (from dvc->-r requirements.txt (line 4))\n",
      "  Downloading iterative_telemetry-0.0.10-py3-none-any.whl.metadata (4.1 kB)\n",
      "Collecting kombu (from dvc->-r requirements.txt (line 4))\n",
      "  Downloading kombu-5.5.3-py3-none-any.whl.metadata (3.5 kB)\n",
      "Requirement already satisfied: networkx>=2.5 in /usr/local/lib/python3.11/dist-packages (from dvc->-r requirements.txt (line 4)) (3.4.2)\n",
      "Collecting omegaconf (from dvc->-r requirements.txt (line 4))\n",
      "  Downloading omegaconf-2.3.0-py3-none-any.whl.metadata (3.9 kB)\n",
      "Collecting pathspec>=0.10.3 (from dvc->-r requirements.txt (line 4))\n",
      "  Downloading pathspec-0.12.1-py3-none-any.whl.metadata (21 kB)\n",
      "Requirement already satisfied: platformdirs<5,>=3.1.1 in /usr/local/lib/python3.11/dist-packages (from dvc->-r requirements.txt (line 4)) (4.3.7)\n",
      "Requirement already satisfied: psutil>=5.8 in /usr/local/lib/python3.11/dist-packages (from dvc->-r requirements.txt (line 4)) (5.9.5)\n",
      "Requirement already satisfied: pydot>=1.2.4 in /usr/local/lib/python3.11/dist-packages (from dvc->-r requirements.txt (line 4)) (3.0.4)\n",
      "Collecting pygtrie>=2.3.2 (from dvc->-r requirements.txt (line 4))\n",
      "  Downloading pygtrie-2.5.0-py3-none-any.whl.metadata (7.5 kB)\n",
      "Requirement already satisfied: pyparsing>=2.4.7 in /usr/local/lib/python3.11/dist-packages (from dvc->-r requirements.txt (line 4)) (3.2.3)\n",
      "Requirement already satisfied: requests>=2.22 in /usr/local/lib/python3.11/dist-packages (from dvc->-r requirements.txt (line 4)) (2.32.3)\n",
      "Requirement already satisfied: rich>=12 in /usr/local/lib/python3.11/dist-packages (from dvc->-r requirements.txt (line 4)) (13.9.4)\n",
      "Collecting ruamel.yaml>=0.17.11 (from dvc->-r requirements.txt (line 4))\n",
      "  Downloading ruamel.yaml-0.18.10-py3-none-any.whl.metadata (23 kB)\n",
      "Collecting scmrepo<4,>=3.3.8 (from dvc->-r requirements.txt (line 4))\n",
      "  Downloading scmrepo-3.3.11-py3-none-any.whl.metadata (4.8 kB)\n",
      "Collecting shortuuid>=0.5 (from dvc->-r requirements.txt (line 4))\n",
      "  Downloading shortuuid-1.0.13-py3-none-any.whl.metadata (5.8 kB)\n",
      "Collecting shtab<2,>=1.3.4 (from dvc->-r requirements.txt (line 4))\n",
      "  Downloading shtab-1.7.2-py3-none-any.whl.metadata (7.4 kB)\n",
      "Requirement already satisfied: tabulate>=0.8.7 in /usr/local/lib/python3.11/dist-packages (from dvc->-r requirements.txt (line 4)) (0.9.0)\n",
      "Collecting tomlkit>=0.11.1 (from dvc->-r requirements.txt (line 4))\n",
      "  Downloading tomlkit-0.13.2-py3-none-any.whl.metadata (2.7 kB)\n",
      "Requirement already satisfied: tqdm<5,>=4.63.1 in /usr/local/lib/python3.11/dist-packages (from dvc->-r requirements.txt (line 4)) (4.67.1)\n",
      "Collecting voluptuous>=0.11.7 (from dvc->-r requirements.txt (line 4))\n",
      "  Downloading voluptuous-0.15.2-py3-none-any.whl.metadata (20 kB)\n",
      "Collecting zc.lockfile>=1.2.1 (from dvc->-r requirements.txt (line 4))\n",
      "  Downloading zc.lockfile-3.0.post1-py3-none-any.whl.metadata (6.2 kB)\n",
      "Requirement already satisfied: contourpy>=1.0.1 in /usr/local/lib/python3.11/dist-packages (from matplotlib->-r requirements.txt (line 5)) (1.3.2)\n",
      "Requirement already satisfied: cycler>=0.10 in /usr/local/lib/python3.11/dist-packages (from matplotlib->-r requirements.txt (line 5)) (0.12.1)\n",
      "Requirement already satisfied: fonttools>=4.22.0 in /usr/local/lib/python3.11/dist-packages (from matplotlib->-r requirements.txt (line 5)) (4.57.0)\n",
      "Requirement already satisfied: kiwisolver>=1.3.1 in /usr/local/lib/python3.11/dist-packages (from matplotlib->-r requirements.txt (line 5)) (1.4.8)\n",
      "Requirement already satisfied: pillow>=8 in /usr/local/lib/python3.11/dist-packages (from matplotlib->-r requirements.txt (line 5)) (11.2.1)\n",
      "Requirement already satisfied: jinja2 in /usr/local/lib/python3.11/dist-packages (from notebook->-r requirements.txt (line 6)) (3.1.6)\n",
      "Requirement already satisfied: tornado>=6.1 in /usr/local/lib/python3.11/dist-packages (from notebook->-r requirements.txt (line 6)) (6.4.2)\n",
      "Requirement already satisfied: pyzmq>=17 in /usr/local/lib/python3.11/dist-packages (from notebook->-r requirements.txt (line 6)) (24.0.1)\n",
      "Requirement already satisfied: argon2-cffi in /usr/local/lib/python3.11/dist-packages (from notebook->-r requirements.txt (line 6)) (23.1.0)\n",
      "Requirement already satisfied: traitlets>=4.2.1 in /usr/local/lib/python3.11/dist-packages (from notebook->-r requirements.txt (line 6)) (5.7.1)\n",
      "Requirement already satisfied: jupyter-core>=4.6.1 in /usr/local/lib/python3.11/dist-packages (from notebook->-r requirements.txt (line 6)) (5.7.2)\n",
      "Requirement already satisfied: jupyter-client<8,>=5.3.4 in /usr/local/lib/python3.11/dist-packages (from notebook->-r requirements.txt (line 6)) (6.1.12)\n",
      "Requirement already satisfied: ipython-genutils in /usr/local/lib/python3.11/dist-packages (from notebook->-r requirements.txt (line 6)) (0.2.0)\n",
      "Requirement already satisfied: nbformat in /usr/local/lib/python3.11/dist-packages (from notebook->-r requirements.txt (line 6)) (5.10.4)\n",
      "Requirement already satisfied: nbconvert>=5 in /usr/local/lib/python3.11/dist-packages (from notebook->-r requirements.txt (line 6)) (7.16.6)\n",
      "Requirement already satisfied: nest-asyncio>=1.5 in /usr/local/lib/python3.11/dist-packages (from notebook->-r requirements.txt (line 6)) (1.6.0)\n",
      "Requirement already satisfied: ipykernel in /usr/local/lib/python3.11/dist-packages (from notebook->-r requirements.txt (line 6)) (6.17.1)\n",
      "Requirement already satisfied: Send2Trash>=1.8.0 in /usr/local/lib/python3.11/dist-packages (from notebook->-r requirements.txt (line 6)) (1.8.3)\n",
      "Requirement already satisfied: terminado>=0.8.3 in /usr/local/lib/python3.11/dist-packages (from notebook->-r requirements.txt (line 6)) (0.18.1)\n",
      "Requirement already satisfied: prometheus-client in /usr/local/lib/python3.11/dist-packages (from notebook->-r requirements.txt (line 6)) (0.21.1)\n",
      "Requirement already satisfied: nbclassic>=0.4.7 in /usr/local/lib/python3.11/dist-packages (from notebook->-r requirements.txt (line 6)) (1.3.0)\n",
      "Requirement already satisfied: nvidia-nccl-cu12 in /usr/local/lib/python3.11/dist-packages (from xgboost->-r requirements.txt (line 12)) (2.21.5)\n",
      "INFO: pip is looking at multiple versions of imbalanced-learn to determine which version is compatible with other requirements. This could take a while.\n",
      "Collecting imbalanced-learn (from -r requirements.txt (line 14))\n",
      "  Downloading imbalanced_learn-0.12.4-py3-none-any.whl.metadata (8.3 kB)\n",
      "Collecting dictdiffer>=0.8.1 (from dvc-data<3.17,>=3.16.2->dvc->-r requirements.txt (line 4))\n",
      "  Downloading dictdiffer-0.9.0-py2.py3-none-any.whl.metadata (4.8 kB)\n",
      "Collecting diskcache>=5.2.1 (from dvc-data<3.17,>=3.16.2->dvc->-r requirements.txt (line 4))\n",
      "  Downloading diskcache-5.6.3-py3-none-any.whl.metadata (20 kB)\n",
      "Collecting sqltrie<1,>=0.11.0 (from dvc-data<3.17,>=3.16.2->dvc->-r requirements.txt (line 4))\n",
      "  Downloading sqltrie-0.11.2-py3-none-any.whl.metadata (3.3 kB)\n",
      "Requirement already satisfied: orjson<4,>=3 in /usr/local/lib/python3.11/dist-packages (from dvc-data<3.17,>=3.16.2->dvc->-r requirements.txt (line 4)) (3.10.17)\n",
      "Collecting aiohttp-retry>=2.5.0 (from dvc-http>=2.29.0->dvc->-r requirements.txt (line 4))\n",
      "  Downloading aiohttp_retry-2.9.1-py3-none-any.whl.metadata (8.8 kB)\n",
      "Collecting billiard<5.0,>=4.2.1 (from celery->dvc->-r requirements.txt (line 4))\n",
      "  Downloading billiard-4.2.1-py3-none-any.whl.metadata (4.4 kB)\n",
      "Collecting vine<6.0,>=5.1.0 (from celery->dvc->-r requirements.txt (line 4))\n",
      "  Downloading vine-5.1.0-py3-none-any.whl.metadata (2.7 kB)\n",
      "Requirement already satisfied: click<9.0,>=8.1.2 in /usr/local/lib/python3.11/dist-packages (from celery->dvc->-r requirements.txt (line 4)) (8.1.8)\n",
      "Collecting click-didyoumean>=0.3.0 (from celery->dvc->-r requirements.txt (line 4))\n",
      "  Downloading click_didyoumean-0.3.1-py3-none-any.whl.metadata (3.9 kB)\n",
      "Collecting click-repl>=0.2.0 (from celery->dvc->-r requirements.txt (line 4))\n",
      "  Downloading click_repl-0.3.0-py3-none-any.whl.metadata (3.6 kB)\n",
      "Collecting click-plugins>=1.1.1 (from celery->dvc->-r requirements.txt (line 4))\n",
      "  Downloading click_plugins-1.1.1-py2.py3-none-any.whl.metadata (6.4 kB)\n",
      "Requirement already satisfied: six<2.0,>=1.12 in /usr/local/lib/python3.11/dist-packages (from flatten_dict<1,>=0.4.1->dvc->-r requirements.txt (line 4)) (1.17.0)\n",
      "Requirement already satisfied: atpublic in /usr/local/lib/python3.11/dist-packages (from flufl.lock<9,>=8.1.0->dvc->-r requirements.txt (line 4)) (5.1)\n",
      "Requirement already satisfied: entrypoints in /usr/local/lib/python3.11/dist-packages (from gto<2,>=1.6.0->dvc->-r requirements.txt (line 4)) (0.4)\n",
      "Requirement already satisfied: pydantic!=2.0.0,<3,>=1.9.0 in /usr/local/lib/python3.11/dist-packages (from gto<2,>=1.6.0->dvc->-r requirements.txt (line 4)) (2.11.3)\n",
      "Collecting semver>=2.13.0 (from gto<2,>=1.6.0->dvc->-r requirements.txt (line 4))\n",
      "  Downloading semver-3.0.4-py3-none-any.whl.metadata (6.8 kB)\n",
      "Requirement already satisfied: typer>=0.4.1 in /usr/local/lib/python3.11/dist-packages (from gto<2,>=1.6.0->dvc->-r requirements.txt (line 4)) (0.15.3)\n",
      "Collecting antlr4-python3-runtime==4.9.* (from hydra-core>=1.1->dvc->-r requirements.txt (line 4))\n",
      "  Downloading antlr4-python3-runtime-4.9.3.tar.gz (117 kB)\n",
      "\u001b[2K     \u001b[90m━━━━━━━━━━━━━━━━━━━━━━━━━━━━━━━━━━━━━━━\u001b[0m \u001b[32m117.0/117.0 kB\u001b[0m \u001b[31m5.4 MB/s\u001b[0m eta \u001b[36m0:00:00\u001b[0m\n",
      "\u001b[?25h  Preparing metadata (setup.py) ... \u001b[?25l\u001b[?25hdone\n",
      "Collecting appdirs (from iterative-telemetry>=0.0.7->dvc->-r requirements.txt (line 4))\n",
      "  Downloading appdirs-1.4.4-py2.py3-none-any.whl.metadata (9.0 kB)\n",
      "Requirement already satisfied: filelock in /usr/local/lib/python3.11/dist-packages (from iterative-telemetry>=0.0.7->dvc->-r requirements.txt (line 4)) (3.18.0)\n",
      "Collecting amqp<6.0.0,>=5.1.1 (from kombu->dvc->-r requirements.txt (line 4))\n",
      "  Downloading amqp-5.3.1-py3-none-any.whl.metadata (8.9 kB)\n",
      "Requirement already satisfied: notebook-shim>=0.2.3 in /usr/local/lib/python3.11/dist-packages (from nbclassic>=0.4.7->notebook->-r requirements.txt (line 6)) (0.2.4)\n",
      "Requirement already satisfied: beautifulsoup4 in /usr/local/lib/python3.11/dist-packages (from nbconvert>=5->notebook->-r requirements.txt (line 6)) (4.13.4)\n",
      "Requirement already satisfied: bleach!=5.0.0 in /usr/local/lib/python3.11/dist-packages (from bleach[css]!=5.0.0->nbconvert>=5->notebook->-r requirements.txt (line 6)) (6.2.0)\n",
      "Requirement already satisfied: defusedxml in /usr/local/lib/python3.11/dist-packages (from nbconvert>=5->notebook->-r requirements.txt (line 6)) (0.7.1)\n",
      "Requirement already satisfied: jupyterlab-pygments in /usr/local/lib/python3.11/dist-packages (from nbconvert>=5->notebook->-r requirements.txt (line 6)) (0.3.0)\n",
      "Requirement already satisfied: markupsafe>=2.0 in /usr/local/lib/python3.11/dist-packages (from nbconvert>=5->notebook->-r requirements.txt (line 6)) (3.0.2)\n",
      "Requirement already satisfied: mistune<4,>=2.0.3 in /usr/local/lib/python3.11/dist-packages (from nbconvert>=5->notebook->-r requirements.txt (line 6)) (3.1.3)\n",
      "Requirement already satisfied: nbclient>=0.5.0 in /usr/local/lib/python3.11/dist-packages (from nbconvert>=5->notebook->-r requirements.txt (line 6)) (0.10.2)\n",
      "Requirement already satisfied: pandocfilters>=1.4.1 in /usr/local/lib/python3.11/dist-packages (from nbconvert>=5->notebook->-r requirements.txt (line 6)) (1.5.1)\n",
      "Requirement already satisfied: pygments>=2.4.1 in /usr/local/lib/python3.11/dist-packages (from nbconvert>=5->notebook->-r requirements.txt (line 6)) (2.19.1)\n",
      "Requirement already satisfied: fastjsonschema>=2.15 in /usr/local/lib/python3.11/dist-packages (from nbformat->notebook->-r requirements.txt (line 6)) (2.21.1)\n",
      "Requirement already satisfied: jsonschema>=2.6 in /usr/local/lib/python3.11/dist-packages (from nbformat->notebook->-r requirements.txt (line 6)) (4.23.0)\n",
      "Requirement already satisfied: charset-normalizer<4,>=2 in /usr/local/lib/python3.11/dist-packages (from requests>=2.22->dvc->-r requirements.txt (line 4)) (3.4.1)\n",
      "Requirement already satisfied: idna<4,>=2.5 in /usr/local/lib/python3.11/dist-packages (from requests>=2.22->dvc->-r requirements.txt (line 4)) (3.10)\n",
      "Requirement already satisfied: urllib3<3,>=1.21.1 in /usr/local/lib/python3.11/dist-packages (from requests>=2.22->dvc->-r requirements.txt (line 4)) (2.4.0)\n",
      "Requirement already satisfied: certifi>=2017.4.17 in /usr/local/lib/python3.11/dist-packages (from requests>=2.22->dvc->-r requirements.txt (line 4)) (2025.4.26)\n",
      "Requirement already satisfied: markdown-it-py>=2.2.0 in /usr/local/lib/python3.11/dist-packages (from rich>=12->dvc->-r requirements.txt (line 4)) (3.0.0)\n",
      "Collecting ruamel.yaml.clib>=0.2.7 (from ruamel.yaml>=0.17.11->dvc->-r requirements.txt (line 4))\n",
      "  Downloading ruamel.yaml.clib-0.2.12-cp311-cp311-manylinux_2_17_x86_64.manylinux2014_x86_64.whl.metadata (2.7 kB)\n",
      "Requirement already satisfied: gitpython>3 in /usr/local/lib/python3.11/dist-packages (from scmrepo<4,>=3.3.8->dvc->-r requirements.txt (line 4)) (3.1.44)\n",
      "Requirement already satisfied: pygit2>=1.14.0 in /usr/local/lib/python3.11/dist-packages (from scmrepo<4,>=3.3.8->dvc->-r requirements.txt (line 4)) (1.18.0)\n",
      "Collecting asyncssh<3,>=2.13.1 (from scmrepo<4,>=3.3.8->dvc->-r requirements.txt (line 4))\n",
      "  Downloading asyncssh-2.21.0-py3-none-any.whl.metadata (9.9 kB)\n",
      "Requirement already satisfied: ptyprocess in /usr/local/lib/python3.11/dist-packages (from terminado>=0.8.3->notebook->-r requirements.txt (line 6)) (0.7.0)\n",
      "Requirement already satisfied: setuptools in /usr/local/lib/python3.11/dist-packages (from zc.lockfile>=1.2.1->dvc->-r requirements.txt (line 4)) (75.2.0)\n",
      "Requirement already satisfied: argon2-cffi-bindings in /usr/local/lib/python3.11/dist-packages (from argon2-cffi->notebook->-r requirements.txt (line 6)) (21.2.0)\n",
      "Requirement already satisfied: debugpy>=1.0 in /usr/local/lib/python3.11/dist-packages (from ipykernel->notebook->-r requirements.txt (line 6)) (1.8.0)\n",
      "Requirement already satisfied: ipython>=7.23.1 in /usr/local/lib/python3.11/dist-packages (from ipykernel->notebook->-r requirements.txt (line 6)) (7.34.0)\n",
      "Requirement already satisfied: matplotlib-inline>=0.1 in /usr/local/lib/python3.11/dist-packages (from ipykernel->notebook->-r requirements.txt (line 6)) (0.1.7)\n",
      "Requirement already satisfied: aiohttp in /usr/local/lib/python3.11/dist-packages (from aiohttp-retry>=2.5.0->dvc-http>=2.29.0->dvc->-r requirements.txt (line 4)) (3.11.15)\n",
      "Requirement already satisfied: cryptography>=39.0 in /usr/local/lib/python3.11/dist-packages (from asyncssh<3,>=2.13.1->scmrepo<4,>=3.3.8->dvc->-r requirements.txt (line 4)) (43.0.3)\n",
      "Requirement already satisfied: typing_extensions>=4.0.0 in /usr/local/lib/python3.11/dist-packages (from asyncssh<3,>=2.13.1->scmrepo<4,>=3.3.8->dvc->-r requirements.txt (line 4)) (4.13.2)\n",
      "Requirement already satisfied: webencodings in /usr/local/lib/python3.11/dist-packages (from bleach!=5.0.0->bleach[css]!=5.0.0->nbconvert>=5->notebook->-r requirements.txt (line 6)) (0.5.1)\n",
      "Requirement already satisfied: tinycss2<1.5,>=1.1.0 in /usr/local/lib/python3.11/dist-packages (from bleach[css]!=5.0.0->nbconvert>=5->notebook->-r requirements.txt (line 6)) (1.4.0)\n",
      "Requirement already satisfied: prompt-toolkit>=3.0.36 in /usr/local/lib/python3.11/dist-packages (from click-repl>=0.2.0->celery->dvc->-r requirements.txt (line 4)) (3.0.51)\n",
      "Requirement already satisfied: gitdb<5,>=4.0.1 in /usr/local/lib/python3.11/dist-packages (from gitpython>3->scmrepo<4,>=3.3.8->dvc->-r requirements.txt (line 4)) (4.0.12)\n",
      "Collecting jedi>=0.16 (from ipython>=7.23.1->ipykernel->notebook->-r requirements.txt (line 6))\n",
      "  Downloading jedi-0.19.2-py2.py3-none-any.whl.metadata (22 kB)\n",
      "Requirement already satisfied: decorator in /usr/local/lib/python3.11/dist-packages (from ipython>=7.23.1->ipykernel->notebook->-r requirements.txt (line 6)) (4.4.2)\n",
      "Requirement already satisfied: pickleshare in /usr/local/lib/python3.11/dist-packages (from ipython>=7.23.1->ipykernel->notebook->-r requirements.txt (line 6)) (0.7.5)\n",
      "Requirement already satisfied: backcall in /usr/local/lib/python3.11/dist-packages (from ipython>=7.23.1->ipykernel->notebook->-r requirements.txt (line 6)) (0.2.0)\n",
      "Requirement already satisfied: pexpect>4.3 in /usr/local/lib/python3.11/dist-packages (from ipython>=7.23.1->ipykernel->notebook->-r requirements.txt (line 6)) (4.9.0)\n",
      "Requirement already satisfied: jsonschema-specifications>=2023.03.6 in /usr/local/lib/python3.11/dist-packages (from jsonschema>=2.6->nbformat->notebook->-r requirements.txt (line 6)) (2025.4.1)\n",
      "Requirement already satisfied: referencing>=0.28.4 in /usr/local/lib/python3.11/dist-packages (from jsonschema>=2.6->nbformat->notebook->-r requirements.txt (line 6)) (0.36.2)\n",
      "Requirement already satisfied: rpds-py>=0.7.1 in /usr/local/lib/python3.11/dist-packages (from jsonschema>=2.6->nbformat->notebook->-r requirements.txt (line 6)) (0.24.0)\n",
      "Requirement already satisfied: mdurl~=0.1 in /usr/local/lib/python3.11/dist-packages (from markdown-it-py>=2.2.0->rich>=12->dvc->-r requirements.txt (line 4)) (0.1.2)\n",
      "Requirement already satisfied: jupyter-server<3,>=1.8 in /usr/local/lib/python3.11/dist-packages (from notebook-shim>=0.2.3->nbclassic>=0.4.7->notebook->-r requirements.txt (line 6)) (1.16.0)\n",
      "Requirement already satisfied: annotated-types>=0.6.0 in /usr/local/lib/python3.11/dist-packages (from pydantic!=2.0.0,<3,>=1.9.0->gto<2,>=1.6.0->dvc->-r requirements.txt (line 4)) (0.7.0)\n",
      "Requirement already satisfied: pydantic-core==2.33.1 in /usr/local/lib/python3.11/dist-packages (from pydantic!=2.0.0,<3,>=1.9.0->gto<2,>=1.6.0->dvc->-r requirements.txt (line 4)) (2.33.1)\n",
      "Requirement already satisfied: typing-inspection>=0.4.0 in /usr/local/lib/python3.11/dist-packages (from pydantic!=2.0.0,<3,>=1.9.0->gto<2,>=1.6.0->dvc->-r requirements.txt (line 4)) (0.4.0)\n",
      "Requirement already satisfied: cffi>=1.17.0 in /usr/local/lib/python3.11/dist-packages (from pygit2>=1.14.0->scmrepo<4,>=3.3.8->dvc->-r requirements.txt (line 4)) (1.17.1)\n",
      "Requirement already satisfied: shellingham>=1.3.0 in /usr/local/lib/python3.11/dist-packages (from typer>=0.4.1->gto<2,>=1.6.0->dvc->-r requirements.txt (line 4)) (1.5.4)\n",
      "Requirement already satisfied: soupsieve>1.2 in /usr/local/lib/python3.11/dist-packages (from beautifulsoup4->nbconvert>=5->notebook->-r requirements.txt (line 6)) (2.7)\n",
      "Requirement already satisfied: aiohappyeyeballs>=2.3.0 in /usr/local/lib/python3.11/dist-packages (from aiohttp->aiohttp-retry>=2.5.0->dvc-http>=2.29.0->dvc->-r requirements.txt (line 4)) (2.6.1)\n",
      "Requirement already satisfied: aiosignal>=1.1.2 in /usr/local/lib/python3.11/dist-packages (from aiohttp->aiohttp-retry>=2.5.0->dvc-http>=2.29.0->dvc->-r requirements.txt (line 4)) (1.3.2)\n",
      "Requirement already satisfied: frozenlist>=1.1.1 in /usr/local/lib/python3.11/dist-packages (from aiohttp->aiohttp-retry>=2.5.0->dvc-http>=2.29.0->dvc->-r requirements.txt (line 4)) (1.6.0)\n",
      "Requirement already satisfied: multidict<7.0,>=4.5 in /usr/local/lib/python3.11/dist-packages (from aiohttp->aiohttp-retry>=2.5.0->dvc-http>=2.29.0->dvc->-r requirements.txt (line 4)) (6.4.3)\n",
      "Requirement already satisfied: propcache>=0.2.0 in /usr/local/lib/python3.11/dist-packages (from aiohttp->aiohttp-retry>=2.5.0->dvc-http>=2.29.0->dvc->-r requirements.txt (line 4)) (0.3.1)\n",
      "Requirement already satisfied: yarl<2.0,>=1.17.0 in /usr/local/lib/python3.11/dist-packages (from aiohttp->aiohttp-retry>=2.5.0->dvc-http>=2.29.0->dvc->-r requirements.txt (line 4)) (1.20.0)\n",
      "Requirement already satisfied: pycparser in /usr/local/lib/python3.11/dist-packages (from cffi>=1.17.0->pygit2>=1.14.0->scmrepo<4,>=3.3.8->dvc->-r requirements.txt (line 4)) (2.22)\n",
      "Requirement already satisfied: smmap<6,>=3.0.1 in /usr/local/lib/python3.11/dist-packages (from gitdb<5,>=4.0.1->gitpython>3->scmrepo<4,>=3.3.8->dvc->-r requirements.txt (line 4)) (5.0.2)\n",
      "Requirement already satisfied: parso<0.9.0,>=0.8.4 in /usr/local/lib/python3.11/dist-packages (from jedi>=0.16->ipython>=7.23.1->ipykernel->notebook->-r requirements.txt (line 6)) (0.8.4)\n",
      "Requirement already satisfied: anyio>=3.1.0 in /usr/local/lib/python3.11/dist-packages (from jupyter-server<3,>=1.8->notebook-shim>=0.2.3->nbclassic>=0.4.7->notebook->-r requirements.txt (line 6)) (4.9.0)\n",
      "Requirement already satisfied: websocket-client in /usr/local/lib/python3.11/dist-packages (from jupyter-server<3,>=1.8->notebook-shim>=0.2.3->nbclassic>=0.4.7->notebook->-r requirements.txt (line 6)) (1.8.0)\n",
      "Requirement already satisfied: wcwidth in /usr/local/lib/python3.11/dist-packages (from prompt-toolkit>=3.0.36->click-repl>=0.2.0->celery->dvc->-r requirements.txt (line 4)) (0.2.13)\n",
      "Requirement already satisfied: sniffio>=1.1 in /usr/local/lib/python3.11/dist-packages (from anyio>=3.1.0->jupyter-server<3,>=1.8->notebook-shim>=0.2.3->nbclassic>=0.4.7->notebook->-r requirements.txt (line 6)) (1.3.1)\n",
      "Downloading numpy-1.26.4-cp311-cp311-manylinux_2_17_x86_64.manylinux2014_x86_64.whl (18.3 MB)\n",
      "\u001b[2K   \u001b[90m━━━━━━━━━━━━━━━━━━━━━━━━━━━━━━━━━━━━━━━━\u001b[0m \u001b[32m18.3/18.3 MB\u001b[0m \u001b[31m88.1 MB/s\u001b[0m eta \u001b[36m0:00:00\u001b[0m\n",
      "\u001b[?25hDownloading scikit_learn-1.3.0-cp311-cp311-manylinux_2_17_x86_64.manylinux2014_x86_64.whl (10.9 MB)\n",
      "\u001b[2K   \u001b[90m━━━━━━━━━━━━━━━━━━━━━━━━━━━━━━━━━━━━━━━━\u001b[0m \u001b[32m10.9/10.9 MB\u001b[0m \u001b[31m102.6 MB/s\u001b[0m eta \u001b[36m0:00:00\u001b[0m\n",
      "\u001b[?25hDownloading python_box-6.0.2-py3-none-any.whl (26 kB)\n",
      "Downloading zzzz_mylib_23_4-0.76-py3-none-any.whl (30 kB)\n",
      "Downloading dvc-3.59.1-py3-none-any.whl (457 kB)\n",
      "\u001b[2K   \u001b[90m━━━━━━━━━━━━━━━━━━━━━━━━━━━━━━━━━━━━━━━━\u001b[0m \u001b[32m457.7/457.7 kB\u001b[0m \u001b[31m30.8 MB/s\u001b[0m eta \u001b[36m0:00:00\u001b[0m\n",
      "\u001b[?25hDownloading types_pyyaml-6.0.12.20250402-py3-none-any.whl (20 kB)\n",
      "Downloading imbalanced_learn-0.12.4-py3-none-any.whl (258 kB)\n",
      "\u001b[2K   \u001b[90m━━━━━━━━━━━━━━━━━━━━━━━━━━━━━━━━━━━━━━━━\u001b[0m \u001b[32m258.3/258.3 kB\u001b[0m \u001b[31m15.6 MB/s\u001b[0m eta \u001b[36m0:00:00\u001b[0m\n",
      "\u001b[?25hDownloading colorama-0.4.6-py2.py3-none-any.whl (25 kB)\n",
      "Downloading configobj-5.0.9-py2.py3-none-any.whl (35 kB)\n",
      "Downloading dpath-2.2.0-py3-none-any.whl (17 kB)\n",
      "Downloading dvc_data-3.16.10-py3-none-any.whl (77 kB)\n",
      "\u001b[2K   \u001b[90m━━━━━━━━━━━━━━━━━━━━━━━━━━━━━━━━━━━━━━━━\u001b[0m \u001b[32m77.3/77.3 kB\u001b[0m \u001b[31m5.5 MB/s\u001b[0m eta \u001b[36m0:00:00\u001b[0m\n",
      "\u001b[?25hDownloading dvc_http-2.32.0-py3-none-any.whl (12 kB)\n",
      "Downloading dvc_objects-5.1.0-py3-none-any.whl (33 kB)\n",
      "Downloading dvc_render-1.0.2-py3-none-any.whl (22 kB)\n",
      "Downloading dvc_studio_client-0.21.0-py3-none-any.whl (16 kB)\n",
      "Downloading dvc_task-0.40.2-py3-none-any.whl (21 kB)\n",
      "Downloading celery-5.5.2-py3-none-any.whl (438 kB)\n",
      "\u001b[2K   \u001b[90m━━━━━━━━━━━━━━━━━━━━━━━━━━━━━━━━━━━━━━━━\u001b[0m \u001b[32m438.6/438.6 kB\u001b[0m \u001b[31m28.7 MB/s\u001b[0m eta \u001b[36m0:00:00\u001b[0m\n",
      "\u001b[?25hDownloading flatten_dict-0.4.2-py2.py3-none-any.whl (9.7 kB)\n",
      "Downloading flufl_lock-8.1.0-py3-none-any.whl (11 kB)\n",
      "Downloading funcy-2.0-py2.py3-none-any.whl (30 kB)\n",
      "Downloading grandalf-0.8-py3-none-any.whl (41 kB)\n",
      "\u001b[2K   \u001b[90m━━━━━━━━━━━━━━━━━━━━━━━━━━━━━━━━━━━━━━━━\u001b[0m \u001b[32m41.8/41.8 kB\u001b[0m \u001b[31m2.7 MB/s\u001b[0m eta \u001b[36m0:00:00\u001b[0m\n",
      "\u001b[?25hDownloading gto-1.7.2-py3-none-any.whl (45 kB)\n",
      "\u001b[2K   \u001b[90m━━━━━━━━━━━━━━━━━━━━━━━━━━━━━━━━━━━━━━━━\u001b[0m \u001b[32m45.2/45.2 kB\u001b[0m \u001b[31m2.8 MB/s\u001b[0m eta \u001b[36m0:00:00\u001b[0m\n",
      "\u001b[?25hDownloading hydra_core-1.3.2-py3-none-any.whl (154 kB)\n",
      "\u001b[2K   \u001b[90m━━━━━━━━━━━━━━━━━━━━━━━━━━━━━━━━━━━━━━━━\u001b[0m \u001b[32m154.5/154.5 kB\u001b[0m \u001b[31m11.6 MB/s\u001b[0m eta \u001b[36m0:00:00\u001b[0m\n",
      "\u001b[?25hDownloading iterative_telemetry-0.0.10-py3-none-any.whl (10 kB)\n",
      "Downloading kombu-5.5.3-py3-none-any.whl (209 kB)\n",
      "\u001b[2K   \u001b[90m━━━━━━━━━━━━━━━━━━━━━━━━━━━━━━━━━━━━━━━━\u001b[0m \u001b[32m209.9/209.9 kB\u001b[0m \u001b[31m13.7 MB/s\u001b[0m eta \u001b[36m0:00:00\u001b[0m\n",
      "\u001b[?25hDownloading vine-5.1.0-py3-none-any.whl (9.6 kB)\n",
      "Downloading omegaconf-2.3.0-py3-none-any.whl (79 kB)\n",
      "\u001b[2K   \u001b[90m━━━━━━━━━━━━━━━━━━━━━━━━━━━━━━━━━━━━━━━━\u001b[0m \u001b[32m79.5/79.5 kB\u001b[0m \u001b[31m6.1 MB/s\u001b[0m eta \u001b[36m0:00:00\u001b[0m\n",
      "\u001b[?25hDownloading pathspec-0.12.1-py3-none-any.whl (31 kB)\n",
      "Downloading pygtrie-2.5.0-py3-none-any.whl (25 kB)\n",
      "Downloading ruamel.yaml-0.18.10-py3-none-any.whl (117 kB)\n",
      "\u001b[2K   \u001b[90m━━━━━━━━━━━━━━━━━━━━━━━━━━━━━━━━━━━━━━━━\u001b[0m \u001b[32m117.7/117.7 kB\u001b[0m \u001b[31m7.2 MB/s\u001b[0m eta \u001b[36m0:00:00\u001b[0m\n",
      "\u001b[?25hDownloading scmrepo-3.3.11-py3-none-any.whl (73 kB)\n",
      "\u001b[2K   \u001b[90m━━━━━━━━━━━━━━━━━━━━━━━━━━━━━━━━━━━━━━━━\u001b[0m \u001b[32m73.1/73.1 kB\u001b[0m \u001b[31m5.3 MB/s\u001b[0m eta \u001b[36m0:00:00\u001b[0m\n",
      "\u001b[?25hDownloading dulwich-0.22.8-cp311-cp311-manylinux_2_17_x86_64.manylinux2014_x86_64.whl (1.0 MB)\n",
      "\u001b[2K   \u001b[90m━━━━━━━━━━━━━━━━━━━━━━━━━━━━━━━━━━━━━━━━\u001b[0m \u001b[32m1.0/1.0 MB\u001b[0m \u001b[31m54.4 MB/s\u001b[0m eta \u001b[36m0:00:00\u001b[0m\n",
      "\u001b[?25hDownloading shortuuid-1.0.13-py3-none-any.whl (10 kB)\n",
      "Downloading shtab-1.7.2-py3-none-any.whl (14 kB)\n",
      "Downloading tomlkit-0.13.2-py3-none-any.whl (37 kB)\n",
      "Downloading voluptuous-0.15.2-py3-none-any.whl (31 kB)\n",
      "Downloading zc.lockfile-3.0.post1-py3-none-any.whl (9.8 kB)\n",
      "Downloading aiohttp_retry-2.9.1-py3-none-any.whl (10.0 kB)\n",
      "Downloading amqp-5.3.1-py3-none-any.whl (50 kB)\n",
      "\u001b[2K   \u001b[90m━━━━━━━━━━━━━━━━━━━━━━━━━━━━━━━━━━━━━━━━\u001b[0m \u001b[32m50.9/50.9 kB\u001b[0m \u001b[31m3.2 MB/s\u001b[0m eta \u001b[36m0:00:00\u001b[0m\n",
      "\u001b[?25hDownloading asyncssh-2.21.0-py3-none-any.whl (374 kB)\n",
      "\u001b[2K   \u001b[90m━━━━━━━━━━━━━━━━━━━━━━━━━━━━━━━━━━━━━━━━\u001b[0m \u001b[32m374.9/374.9 kB\u001b[0m \u001b[31m24.1 MB/s\u001b[0m eta \u001b[36m0:00:00\u001b[0m\n",
      "\u001b[?25hDownloading billiard-4.2.1-py3-none-any.whl (86 kB)\n",
      "\u001b[2K   \u001b[90m━━━━━━━━━━━━━━━━━━━━━━━━━━━━━━━━━━━━━━━━\u001b[0m \u001b[32m86.8/86.8 kB\u001b[0m \u001b[31m5.6 MB/s\u001b[0m eta \u001b[36m0:00:00\u001b[0m\n",
      "\u001b[?25hDownloading click_didyoumean-0.3.1-py3-none-any.whl (3.6 kB)\n",
      "Downloading click_plugins-1.1.1-py2.py3-none-any.whl (7.5 kB)\n",
      "Downloading click_repl-0.3.0-py3-none-any.whl (10 kB)\n",
      "Downloading dictdiffer-0.9.0-py2.py3-none-any.whl (16 kB)\n",
      "Downloading diskcache-5.6.3-py3-none-any.whl (45 kB)\n",
      "\u001b[2K   \u001b[90m━━━━━━━━━━━━━━━━━━━━━━━━━━━━━━━━━━━━━━━━\u001b[0m \u001b[32m45.5/45.5 kB\u001b[0m \u001b[31m3.4 MB/s\u001b[0m eta \u001b[36m0:00:00\u001b[0m\n",
      "\u001b[?25hDownloading ruamel.yaml.clib-0.2.12-cp311-cp311-manylinux_2_17_x86_64.manylinux2014_x86_64.whl (739 kB)\n",
      "\u001b[2K   \u001b[90m━━━━━━━━━━━━━━━━━━━━━━━━━━━━━━━━━━━━━━━━\u001b[0m \u001b[32m739.1/739.1 kB\u001b[0m \u001b[31m36.0 MB/s\u001b[0m eta \u001b[36m0:00:00\u001b[0m\n",
      "\u001b[?25hDownloading semver-3.0.4-py3-none-any.whl (17 kB)\n",
      "Downloading sqltrie-0.11.2-py3-none-any.whl (17 kB)\n",
      "Downloading appdirs-1.4.4-py2.py3-none-any.whl (9.6 kB)\n",
      "Downloading jedi-0.19.2-py2.py3-none-any.whl (1.6 MB)\n",
      "\u001b[2K   \u001b[90m━━━━━━━━━━━━━━━━━━━━━━━━━━━━━━━━━━━━━━━━\u001b[0m \u001b[32m1.6/1.6 MB\u001b[0m \u001b[31m54.3 MB/s\u001b[0m eta \u001b[36m0:00:00\u001b[0m\n",
      "\u001b[?25hBuilding wheels for collected packages: antlr4-python3-runtime\n",
      "  Building wheel for antlr4-python3-runtime (setup.py) ... \u001b[?25l\u001b[?25hdone\n",
      "  Created wheel for antlr4-python3-runtime: filename=antlr4_python3_runtime-4.9.3-py3-none-any.whl size=144554 sha256=236d2240564d5a772b7c34b8b5fbd4c822a730546a7fe434917522ee21fc7f08\n",
      "  Stored in directory: /root/.cache/pip/wheels/1a/97/32/461f837398029ad76911109f07047fde1d7b661a147c7c56d1\n",
      "Successfully built antlr4-python3-runtime\n",
      "Installing collected packages: zzzz_mylib_23_4, pygtrie, funcy, dictdiffer, classifier, appdirs, antlr4-python3-runtime, zc.lockfile, voluptuous, vine, types-PyYAML, tomlkit, sqltrie, shtab, shortuuid, semver, ruamel.yaml.clib, python-box, pathspec, omegaconf, numpy, jedi, grandalf, flufl.lock, flatten_dict, dvc-render, dvc-objects, dulwich, dpath, diskcache, configobj, colorama, click-plugins, click-didyoumean, billiard, ruamel.yaml, iterative-telemetry, hydra-core, dvc-studio-client, dvc-data, click-repl, amqp, scikit-learn, kombu, asyncssh, aiohttp-retry, scmrepo, imbalanced-learn, dvc-http, celery, gto, dvc-task, dvc\n",
      "  Running setup.py develop for classifier\n",
      "  Attempting uninstall: python-box\n",
      "    Found existing installation: python-box 7.3.2\n",
      "    Uninstalling python-box-7.3.2:\n",
      "      Successfully uninstalled python-box-7.3.2\n",
      "  Attempting uninstall: numpy\n",
      "    Found existing installation: numpy 2.0.2\n",
      "    Uninstalling numpy-2.0.2:\n",
      "      Successfully uninstalled numpy-2.0.2\n",
      "  Attempting uninstall: scikit-learn\n",
      "    Found existing installation: scikit-learn 1.6.1\n",
      "    Uninstalling scikit-learn-1.6.1:\n",
      "      Successfully uninstalled scikit-learn-1.6.1\n",
      "  Attempting uninstall: imbalanced-learn\n",
      "    Found existing installation: imbalanced-learn 0.13.0\n",
      "    Uninstalling imbalanced-learn-0.13.0:\n",
      "      Successfully uninstalled imbalanced-learn-0.13.0\n",
      "\u001b[31mERROR: pip's dependency resolver does not currently take into account all the packages that are installed. This behaviour is the source of the following dependency conflicts.\n",
      "mlxtend 0.23.4 requires scikit-learn>=1.3.1, but you have scikit-learn 1.3.0 which is incompatible.\n",
      "thinc 8.3.6 requires numpy<3.0.0,>=2.0.0, but you have numpy 1.26.4 which is incompatible.\u001b[0m\u001b[31m\n",
      "\u001b[0mSuccessfully installed aiohttp-retry-2.9.1 amqp-5.3.1 antlr4-python3-runtime-4.9.3 appdirs-1.4.4 asyncssh-2.21.0 billiard-4.2.1 celery-5.5.2 classifier-0.0.0 click-didyoumean-0.3.1 click-plugins-1.1.1 click-repl-0.3.0 colorama-0.4.6 configobj-5.0.9 dictdiffer-0.9.0 diskcache-5.6.3 dpath-2.2.0 dulwich-0.22.8 dvc-3.59.1 dvc-data-3.16.10 dvc-http-2.32.0 dvc-objects-5.1.0 dvc-render-1.0.2 dvc-studio-client-0.21.0 dvc-task-0.40.2 flatten_dict-0.4.2 flufl.lock-8.1.0 funcy-2.0 grandalf-0.8 gto-1.7.2 hydra-core-1.3.2 imbalanced-learn-0.12.4 iterative-telemetry-0.0.10 jedi-0.19.2 kombu-5.5.3 numpy-1.26.4 omegaconf-2.3.0 pathspec-0.12.1 pygtrie-2.5.0 python-box-6.0.2 ruamel.yaml-0.18.10 ruamel.yaml.clib-0.2.12 scikit-learn-1.3.0 scmrepo-3.3.11 semver-3.0.4 shortuuid-1.0.13 shtab-1.7.2 sqltrie-0.11.2 tomlkit-0.13.2 types-PyYAML-6.0.12.20250402 vine-5.1.0 voluptuous-0.15.2 zc.lockfile-3.0.post1 zzzz_mylib_23_4-0.76\n"
     ]
    },
    {
     "data": {
      "application/vnd.colab-display-data+json": {
       "id": "e576e2cf47d24eb8ba88b67a21504dd8",
       "pip_warning": {
        "packages": [
         "pydevd_plugins"
        ]
       }
      }
     },
     "metadata": {},
     "output_type": "display_data"
    }
   ],
   "source": [
    "!git pull\n",
    "!pip install -r requirements.txt"
   ]
  },
  {
   "cell_type": "markdown",
   "metadata": {
    "id": "BGxfy25L9OhN"
   },
   "source": [
    "# Thư viện"
   ]
  },
  {
   "cell_type": "code",
   "execution_count": null,
   "metadata": {
    "executionInfo": {
     "elapsed": 36389,
     "status": "ok",
     "timestamp": 1746428682842,
     "user": {
      "displayName": "andong giao",
      "userId": "08579771938911194368"
     },
     "user_tz": -420
    },
    "id": "j0zeB6nw9QaO"
   },
   "outputs": [],
   "source": [
    "import pandas as pd\n",
    "import numpy as np\n",
    "from Mylib import myfuncs\n",
    "from sklearn.compose import ColumnTransformer\n",
    "from sklearn.impute import SimpleImputer\n",
    "from sklearn.pipeline import Pipeline\n",
    "import plotly.express as px\n",
    "import os\n",
    "from src.data_correction import dc1, dc\n",
    "\n",
    "np.set_printoptions(suppress=True)"
   ]
  },
  {
   "cell_type": "markdown",
   "metadata": {
    "id": "SoFV-T_QuAj4"
   },
   "source": [
    "# Đọc dữ liệu\n"
   ]
  },
  {
   "cell_type": "code",
   "execution_count": null,
   "metadata": {
    "colab": {
     "base_uri": "https://localhost:8080/",
     "height": 377
    },
    "executionInfo": {
     "elapsed": 2607,
     "status": "ok",
     "timestamp": 1746180984743,
     "user": {
      "displayName": "andong giao",
      "userId": "08579771938911194368"
     },
     "user_tz": -420
    },
    "id": "WTIzwRStuAj5",
    "outputId": "c5647919-5809-439f-fe3b-1e094373eb8e"
   },
   "outputs": [
    {
     "data": {
      "application/vnd.google.colaboratory.intrinsic+json": {
       "type": "dataframe",
       "variable_name": "df"
      },
      "text/html": [
       "\n",
       "  <div id=\"df-596e515d-7228-4471-b8df-a9023faf5aa8\" class=\"colab-df-container\">\n",
       "    <div>\n",
       "<style scoped>\n",
       "    .dataframe tbody tr th:only-of-type {\n",
       "        vertical-align: middle;\n",
       "    }\n",
       "\n",
       "    .dataframe tbody tr th {\n",
       "        vertical-align: top;\n",
       "    }\n",
       "\n",
       "    .dataframe thead th {\n",
       "        text-align: right;\n",
       "    }\n",
       "</style>\n",
       "<table border=\"1\" class=\"dataframe\">\n",
       "  <thead>\n",
       "    <tr style=\"text-align: right;\">\n",
       "      <th></th>\n",
       "      <th>pH</th>\n",
       "      <th>Iron</th>\n",
       "      <th>Nitrate</th>\n",
       "      <th>Chloride</th>\n",
       "      <th>Lead</th>\n",
       "      <th>Zinc</th>\n",
       "      <th>Color</th>\n",
       "      <th>Turbidity</th>\n",
       "      <th>Fluoride</th>\n",
       "      <th>Copper</th>\n",
       "      <th>...</th>\n",
       "      <th>Sulfate</th>\n",
       "      <th>Conductivity</th>\n",
       "      <th>Chlorine</th>\n",
       "      <th>Manganese</th>\n",
       "      <th>Total Dissolved Solids</th>\n",
       "      <th>Source</th>\n",
       "      <th>Water Temperature</th>\n",
       "      <th>Air Temperature</th>\n",
       "      <th>Target</th>\n",
       "      <th>taken_time</th>\n",
       "    </tr>\n",
       "  </thead>\n",
       "  <tbody>\n",
       "    <tr>\n",
       "      <th>116899</th>\n",
       "      <td>7.034305</td>\n",
       "      <td>3.510000e-14</td>\n",
       "      <td>2.859233</td>\n",
       "      <td>132.125438</td>\n",
       "      <td>6.540000e-235</td>\n",
       "      <td>2.152380</td>\n",
       "      <td>Light Yellow</td>\n",
       "      <td>1.377299</td>\n",
       "      <td>1.551360</td>\n",
       "      <td>0.095312</td>\n",
       "      <td>...</td>\n",
       "      <td>335.357965</td>\n",
       "      <td>344.015095</td>\n",
       "      <td>3.756497</td>\n",
       "      <td>0.000332</td>\n",
       "      <td>504.928844</td>\n",
       "      <td>Reservoir</td>\n",
       "      <td>7.116495</td>\n",
       "      <td>72.255851</td>\n",
       "      <td>1</td>\n",
       "      <td>1900-01-01</td>\n",
       "    </tr>\n",
       "    <tr>\n",
       "      <th>155434</th>\n",
       "      <td>6.599581</td>\n",
       "      <td>3.990000e-07</td>\n",
       "      <td>5.371393</td>\n",
       "      <td>199.138779</td>\n",
       "      <td>1.330000e-58</td>\n",
       "      <td>1.552503</td>\n",
       "      <td>Near Colorless</td>\n",
       "      <td>0.071201</td>\n",
       "      <td>1.776722</td>\n",
       "      <td>0.420041</td>\n",
       "      <td>...</td>\n",
       "      <td>199.562148</td>\n",
       "      <td>421.907595</td>\n",
       "      <td>3.922976</td>\n",
       "      <td>0.021912</td>\n",
       "      <td>403.644429</td>\n",
       "      <td>Spring</td>\n",
       "      <td>23.035464</td>\n",
       "      <td>26.433255</td>\n",
       "      <td>0</td>\n",
       "      <td>1900-01-01</td>\n",
       "    </tr>\n",
       "    <tr>\n",
       "      <th>165968</th>\n",
       "      <td>7.670866</td>\n",
       "      <td>9.310000e-06</td>\n",
       "      <td>1.156363</td>\n",
       "      <td>245.548989</td>\n",
       "      <td>7.130000e-66</td>\n",
       "      <td>0.608690</td>\n",
       "      <td>Colorless</td>\n",
       "      <td>0.428635</td>\n",
       "      <td>0.506733</td>\n",
       "      <td>0.234863</td>\n",
       "      <td>...</td>\n",
       "      <td>79.666497</td>\n",
       "      <td>499.280918</td>\n",
       "      <td>3.755862</td>\n",
       "      <td>0.002062</td>\n",
       "      <td>391.642190</td>\n",
       "      <td>Spring</td>\n",
       "      <td>5.728718</td>\n",
       "      <td>54.360327</td>\n",
       "      <td>0</td>\n",
       "      <td>1900-01-01</td>\n",
       "    </tr>\n",
       "    <tr>\n",
       "      <th>150476</th>\n",
       "      <td>8.024941</td>\n",
       "      <td>8.664510e-02</td>\n",
       "      <td>3.146721</td>\n",
       "      <td>174.001989</td>\n",
       "      <td>2.460000e-113</td>\n",
       "      <td>1.151119</td>\n",
       "      <td>Colorless</td>\n",
       "      <td>0.583815</td>\n",
       "      <td>0.543565</td>\n",
       "      <td>0.169842</td>\n",
       "      <td>...</td>\n",
       "      <td>112.425132</td>\n",
       "      <td>304.724172</td>\n",
       "      <td>3.713097</td>\n",
       "      <td>0.002520</td>\n",
       "      <td>53.432049</td>\n",
       "      <td>River</td>\n",
       "      <td>26.853255</td>\n",
       "      <td>71.579596</td>\n",
       "      <td>0</td>\n",
       "      <td>1900-01-01</td>\n",
       "    </tr>\n",
       "    <tr>\n",
       "      <th>255559</th>\n",
       "      <td>6.738499</td>\n",
       "      <td>3.550000e-11</td>\n",
       "      <td>3.481104</td>\n",
       "      <td>225.121948</td>\n",
       "      <td>5.470000e-05</td>\n",
       "      <td>1.494975</td>\n",
       "      <td>Faint Yellow</td>\n",
       "      <td>0.863283</td>\n",
       "      <td>1.961606</td>\n",
       "      <td>NaN</td>\n",
       "      <td>...</td>\n",
       "      <td>103.405765</td>\n",
       "      <td>377.043871</td>\n",
       "      <td>1.744797</td>\n",
       "      <td>0.000029</td>\n",
       "      <td>157.238713</td>\n",
       "      <td>Well</td>\n",
       "      <td>9.778199</td>\n",
       "      <td>66.545395</td>\n",
       "      <td>0</td>\n",
       "      <td>1900-01-01</td>\n",
       "    </tr>\n",
       "  </tbody>\n",
       "</table>\n",
       "<p>5 rows × 21 columns</p>\n",
       "</div>\n",
       "    <div class=\"colab-df-buttons\">\n",
       "\n",
       "  <div class=\"colab-df-container\">\n",
       "    <button class=\"colab-df-convert\" onclick=\"convertToInteractive('df-596e515d-7228-4471-b8df-a9023faf5aa8')\"\n",
       "            title=\"Convert this dataframe to an interactive table.\"\n",
       "            style=\"display:none;\">\n",
       "\n",
       "  <svg xmlns=\"http://www.w3.org/2000/svg\" height=\"24px\" viewBox=\"0 -960 960 960\">\n",
       "    <path d=\"M120-120v-720h720v720H120Zm60-500h600v-160H180v160Zm220 220h160v-160H400v160Zm0 220h160v-160H400v160ZM180-400h160v-160H180v160Zm440 0h160v-160H620v160ZM180-180h160v-160H180v160Zm440 0h160v-160H620v160Z\"/>\n",
       "  </svg>\n",
       "    </button>\n",
       "\n",
       "  <style>\n",
       "    .colab-df-container {\n",
       "      display:flex;\n",
       "      gap: 12px;\n",
       "    }\n",
       "\n",
       "    .colab-df-convert {\n",
       "      background-color: #E8F0FE;\n",
       "      border: none;\n",
       "      border-radius: 50%;\n",
       "      cursor: pointer;\n",
       "      display: none;\n",
       "      fill: #1967D2;\n",
       "      height: 32px;\n",
       "      padding: 0 0 0 0;\n",
       "      width: 32px;\n",
       "    }\n",
       "\n",
       "    .colab-df-convert:hover {\n",
       "      background-color: #E2EBFA;\n",
       "      box-shadow: 0px 1px 2px rgba(60, 64, 67, 0.3), 0px 1px 3px 1px rgba(60, 64, 67, 0.15);\n",
       "      fill: #174EA6;\n",
       "    }\n",
       "\n",
       "    .colab-df-buttons div {\n",
       "      margin-bottom: 4px;\n",
       "    }\n",
       "\n",
       "    [theme=dark] .colab-df-convert {\n",
       "      background-color: #3B4455;\n",
       "      fill: #D2E3FC;\n",
       "    }\n",
       "\n",
       "    [theme=dark] .colab-df-convert:hover {\n",
       "      background-color: #434B5C;\n",
       "      box-shadow: 0px 1px 3px 1px rgba(0, 0, 0, 0.15);\n",
       "      filter: drop-shadow(0px 1px 2px rgba(0, 0, 0, 0.3));\n",
       "      fill: #FFFFFF;\n",
       "    }\n",
       "  </style>\n",
       "\n",
       "    <script>\n",
       "      const buttonEl =\n",
       "        document.querySelector('#df-596e515d-7228-4471-b8df-a9023faf5aa8 button.colab-df-convert');\n",
       "      buttonEl.style.display =\n",
       "        google.colab.kernel.accessAllowed ? 'block' : 'none';\n",
       "\n",
       "      async function convertToInteractive(key) {\n",
       "        const element = document.querySelector('#df-596e515d-7228-4471-b8df-a9023faf5aa8');\n",
       "        const dataTable =\n",
       "          await google.colab.kernel.invokeFunction('convertToInteractive',\n",
       "                                                    [key], {});\n",
       "        if (!dataTable) return;\n",
       "\n",
       "        const docLinkHtml = 'Like what you see? Visit the ' +\n",
       "          '<a target=\"_blank\" href=https://colab.research.google.com/notebooks/data_table.ipynb>data table notebook</a>'\n",
       "          + ' to learn more about interactive tables.';\n",
       "        element.innerHTML = '';\n",
       "        dataTable['output_type'] = 'display_data';\n",
       "        await google.colab.output.renderOutput(dataTable, element);\n",
       "        const docLink = document.createElement('div');\n",
       "        docLink.innerHTML = docLinkHtml;\n",
       "        element.appendChild(docLink);\n",
       "      }\n",
       "    </script>\n",
       "  </div>\n",
       "\n",
       "\n",
       "    <div id=\"df-56b039b9-5297-494e-a202-0be595511980\">\n",
       "      <button class=\"colab-df-quickchart\" onclick=\"quickchart('df-56b039b9-5297-494e-a202-0be595511980')\"\n",
       "                title=\"Suggest charts\"\n",
       "                style=\"display:none;\">\n",
       "\n",
       "<svg xmlns=\"http://www.w3.org/2000/svg\" height=\"24px\"viewBox=\"0 0 24 24\"\n",
       "     width=\"24px\">\n",
       "    <g>\n",
       "        <path d=\"M19 3H5c-1.1 0-2 .9-2 2v14c0 1.1.9 2 2 2h14c1.1 0 2-.9 2-2V5c0-1.1-.9-2-2-2zM9 17H7v-7h2v7zm4 0h-2V7h2v10zm4 0h-2v-4h2v4z\"/>\n",
       "    </g>\n",
       "</svg>\n",
       "      </button>\n",
       "\n",
       "<style>\n",
       "  .colab-df-quickchart {\n",
       "      --bg-color: #E8F0FE;\n",
       "      --fill-color: #1967D2;\n",
       "      --hover-bg-color: #E2EBFA;\n",
       "      --hover-fill-color: #174EA6;\n",
       "      --disabled-fill-color: #AAA;\n",
       "      --disabled-bg-color: #DDD;\n",
       "  }\n",
       "\n",
       "  [theme=dark] .colab-df-quickchart {\n",
       "      --bg-color: #3B4455;\n",
       "      --fill-color: #D2E3FC;\n",
       "      --hover-bg-color: #434B5C;\n",
       "      --hover-fill-color: #FFFFFF;\n",
       "      --disabled-bg-color: #3B4455;\n",
       "      --disabled-fill-color: #666;\n",
       "  }\n",
       "\n",
       "  .colab-df-quickchart {\n",
       "    background-color: var(--bg-color);\n",
       "    border: none;\n",
       "    border-radius: 50%;\n",
       "    cursor: pointer;\n",
       "    display: none;\n",
       "    fill: var(--fill-color);\n",
       "    height: 32px;\n",
       "    padding: 0;\n",
       "    width: 32px;\n",
       "  }\n",
       "\n",
       "  .colab-df-quickchart:hover {\n",
       "    background-color: var(--hover-bg-color);\n",
       "    box-shadow: 0 1px 2px rgba(60, 64, 67, 0.3), 0 1px 3px 1px rgba(60, 64, 67, 0.15);\n",
       "    fill: var(--button-hover-fill-color);\n",
       "  }\n",
       "\n",
       "  .colab-df-quickchart-complete:disabled,\n",
       "  .colab-df-quickchart-complete:disabled:hover {\n",
       "    background-color: var(--disabled-bg-color);\n",
       "    fill: var(--disabled-fill-color);\n",
       "    box-shadow: none;\n",
       "  }\n",
       "\n",
       "  .colab-df-spinner {\n",
       "    border: 2px solid var(--fill-color);\n",
       "    border-color: transparent;\n",
       "    border-bottom-color: var(--fill-color);\n",
       "    animation:\n",
       "      spin 1s steps(1) infinite;\n",
       "  }\n",
       "\n",
       "  @keyframes spin {\n",
       "    0% {\n",
       "      border-color: transparent;\n",
       "      border-bottom-color: var(--fill-color);\n",
       "      border-left-color: var(--fill-color);\n",
       "    }\n",
       "    20% {\n",
       "      border-color: transparent;\n",
       "      border-left-color: var(--fill-color);\n",
       "      border-top-color: var(--fill-color);\n",
       "    }\n",
       "    30% {\n",
       "      border-color: transparent;\n",
       "      border-left-color: var(--fill-color);\n",
       "      border-top-color: var(--fill-color);\n",
       "      border-right-color: var(--fill-color);\n",
       "    }\n",
       "    40% {\n",
       "      border-color: transparent;\n",
       "      border-right-color: var(--fill-color);\n",
       "      border-top-color: var(--fill-color);\n",
       "    }\n",
       "    60% {\n",
       "      border-color: transparent;\n",
       "      border-right-color: var(--fill-color);\n",
       "    }\n",
       "    80% {\n",
       "      border-color: transparent;\n",
       "      border-right-color: var(--fill-color);\n",
       "      border-bottom-color: var(--fill-color);\n",
       "    }\n",
       "    90% {\n",
       "      border-color: transparent;\n",
       "      border-bottom-color: var(--fill-color);\n",
       "    }\n",
       "  }\n",
       "</style>\n",
       "\n",
       "      <script>\n",
       "        async function quickchart(key) {\n",
       "          const quickchartButtonEl =\n",
       "            document.querySelector('#' + key + ' button');\n",
       "          quickchartButtonEl.disabled = true;  // To prevent multiple clicks.\n",
       "          quickchartButtonEl.classList.add('colab-df-spinner');\n",
       "          try {\n",
       "            const charts = await google.colab.kernel.invokeFunction(\n",
       "                'suggestCharts', [key], {});\n",
       "          } catch (error) {\n",
       "            console.error('Error during call to suggestCharts:', error);\n",
       "          }\n",
       "          quickchartButtonEl.classList.remove('colab-df-spinner');\n",
       "          quickchartButtonEl.classList.add('colab-df-quickchart-complete');\n",
       "        }\n",
       "        (() => {\n",
       "          let quickchartButtonEl =\n",
       "            document.querySelector('#df-56b039b9-5297-494e-a202-0be595511980 button');\n",
       "          quickchartButtonEl.style.display =\n",
       "            google.colab.kernel.accessAllowed ? 'block' : 'none';\n",
       "        })();\n",
       "      </script>\n",
       "    </div>\n",
       "\n",
       "    </div>\n",
       "  </div>\n"
      ],
      "text/plain": [
       "              pH          Iron   Nitrate    Chloride           Lead      Zinc  \\\n",
       "116899  7.034305  3.510000e-14  2.859233  132.125438  6.540000e-235  2.152380   \n",
       "155434  6.599581  3.990000e-07  5.371393  199.138779   1.330000e-58  1.552503   \n",
       "165968  7.670866  9.310000e-06  1.156363  245.548989   7.130000e-66  0.608690   \n",
       "150476  8.024941  8.664510e-02  3.146721  174.001989  2.460000e-113  1.151119   \n",
       "255559  6.738499  3.550000e-11  3.481104  225.121948   5.470000e-05  1.494975   \n",
       "\n",
       "                 Color  Turbidity  Fluoride    Copper  ...     Sulfate  \\\n",
       "116899    Light Yellow   1.377299  1.551360  0.095312  ...  335.357965   \n",
       "155434  Near Colorless   0.071201  1.776722  0.420041  ...  199.562148   \n",
       "165968       Colorless   0.428635  0.506733  0.234863  ...   79.666497   \n",
       "150476       Colorless   0.583815  0.543565  0.169842  ...  112.425132   \n",
       "255559    Faint Yellow   0.863283  1.961606       NaN  ...  103.405765   \n",
       "\n",
       "        Conductivity  Chlorine  Manganese  Total Dissolved Solids     Source  \\\n",
       "116899    344.015095  3.756497   0.000332              504.928844  Reservoir   \n",
       "155434    421.907595  3.922976   0.021912              403.644429     Spring   \n",
       "165968    499.280918  3.755862   0.002062              391.642190     Spring   \n",
       "150476    304.724172  3.713097   0.002520               53.432049      River   \n",
       "255559    377.043871  1.744797   0.000029              157.238713       Well   \n",
       "\n",
       "       Water Temperature  Air Temperature  Target  taken_time  \n",
       "116899          7.116495        72.255851       1  1900-01-01  \n",
       "155434         23.035464        26.433255       0  1900-01-01  \n",
       "165968          5.728718        54.360327       0  1900-01-01  \n",
       "150476         26.853255        71.579596       0  1900-01-01  \n",
       "255559          9.778199        66.545395       0  1900-01-01  \n",
       "\n",
       "[5 rows x 21 columns]"
      ]
     },
     "execution_count": 22,
     "metadata": {},
     "output_type": "execute_result"
    }
   ],
   "source": [
    "df = myfuncs.load_python_object(\"artifacts/data_ingestion/train_data.pkl\")\n",
    "\n",
    "df.head()\n"
   ]
  },
  {
   "cell_type": "code",
   "execution_count": null,
   "metadata": {
    "colab": {
     "base_uri": "https://localhost:8080/"
    },
    "executionInfo": {
     "elapsed": 30,
     "status": "ok",
     "timestamp": 1746180987969,
     "user": {
      "displayName": "andong giao",
      "userId": "08579771938911194368"
     },
     "user_tz": -420
    },
    "id": "aTgERqugMDZb",
    "outputId": "6aafe518-8a76-41b0-f9bd-998391532f5f"
   },
   "outputs": [
    {
     "data": {
      "text/plain": [
       "Index(['pH', 'Iron', 'Nitrate', 'Chloride', 'Lead', 'Zinc', 'Color',\n",
       "       'Turbidity', 'Fluoride', 'Copper', 'Odor', 'Sulfate', 'Conductivity',\n",
       "       'Chlorine', 'Manganese', 'Total Dissolved Solids', 'Source',\n",
       "       'Water Temperature', 'Air Temperature', 'Target', 'taken_time'],\n",
       "      dtype='object')"
      ]
     },
     "execution_count": 23,
     "metadata": {},
     "output_type": "execute_result"
    }
   ],
   "source": [
    "df.columns"
   ]
  },
  {
   "cell_type": "code",
   "execution_count": null,
   "metadata": {
    "colab": {
     "base_uri": "https://localhost:8080/"
    },
    "executionInfo": {
     "elapsed": 35,
     "status": "ok",
     "timestamp": 1746180830436,
     "user": {
      "displayName": "andong giao",
      "userId": "08579771938911194368"
     },
     "user_tz": -420
    },
    "id": "hUnP12kyMZqA",
    "outputId": "affc6b2a-74a6-4bbc-8cd7-14671678cb65"
   },
   "outputs": [
    {
     "data": {
      "text/plain": [
       "array(['Reservoir', 'Spring', 'River', 'Well', 'Lake', 'Ground', nan,\n",
       "       'Stream', 'Aquifer'], dtype=object)"
      ]
     },
     "execution_count": 18,
     "metadata": {},
     "output_type": "execute_result"
    }
   ],
   "source": [
    "df['Source'].unique()"
   ]
  },
  {
   "cell_type": "markdown",
   "metadata": {
    "id": "t7jQ5mqmxqMn"
   },
   "source": [
    "# Ý nghĩa các cột\n",
    "\n",
    "| Cot                       | Y nghia                                                               |  Phan loai |\n",
    "| ------------------------- | --------------------------------------------------------------------- | --------- |\n",
    "| pH                |   độ PH                              |  num   |\n",
    "| Iron                |  nồng độ Sắt                             |  num   |\n",
    "| Nitrate                |  nồng độ Nitrat                           |  num   |\n",
    "| Chloride                |  nồng độ ion âm Clo                        |  num   |\n",
    "| Lead                |  nồng độ chì                        |  num   |\n",
    "| Zinc                |  nồng độ kẽm                     |  num   |\n",
    "| Color                |  màu sắc của nước                    |  ord   |\n",
    "| Turbidity                |  độ đục của nước                    |  num   |\n",
    "| Fluoride                |  nồng độ của Flo                |  num   |\n",
    "| Copper                |  nồng độ của đồng             |  num   |\n",
    "| Odor                |  cảm giác ngửi của mũi về nước           |  num   |\n",
    "| Sulfate                |  nồng độ sunfat          |  num   |\n",
    "| Conductivity                |  độ dẫn điện         |  num   |\n",
    "| Chlorine                |  nồng độ của khí Clo        |  num   |\n",
    "| Manganese                |  nồng độ của mangan        |  num   |\n",
    "| Total Dissolved Solids                |  tổng chất rắn hòa tan        |  num   |\n",
    "| Source           |  nguồn nước   |  nom   |\n",
    "| Water Temperature           | nhiệt độ nước   |  num   |\n",
    "| Air Temperature       | nhiệt độ không khí  |  num   |\n",
    "| Target       | có dơ hay không  |  target   |\n",
    "| **taken_time**       | thời gian lấy mẫu  |  date_time   |"
   ]
  },
  {
   "cell_type": "markdown",
   "metadata": {
    "id": "qCXGCXt0uAkA"
   },
   "source": [
    "# Xóa các cột không liên quan"
   ]
  },
  {
   "cell_type": "code",
   "execution_count": null,
   "metadata": {
    "colab": {
     "base_uri": "https://localhost:8080/"
    },
    "executionInfo": {
     "elapsed": 39,
     "status": "ok",
     "timestamp": 1746181092049,
     "user": {
      "displayName": "andong giao",
      "userId": "08579771938911194368"
     },
     "user_tz": -420
    },
    "id": "rwThUMxYuAkC",
    "outputId": "78acc73e-e0d1-4708-a5bb-f1756b7357c9"
   },
   "outputs": [
    {
     "data": {
      "text/plain": [
       "Index(['pH', 'Iron', 'Nitrate', 'Chloride', 'Lead', 'Zinc', 'Color',\n",
       "       'Turbidity', 'Fluoride', 'Copper', 'Odor', 'Sulfate', 'Conductivity',\n",
       "       'Chlorine', 'Manganese', 'Total Dissolved Solids', 'Source',\n",
       "       'Water Temperature', 'Air Temperature', 'Target'],\n",
       "      dtype='object')"
      ]
     },
     "execution_count": 24,
     "metadata": {},
     "output_type": "execute_result"
    }
   ],
   "source": [
    "df = df.drop(\n",
    "    columns=[\n",
    "        \"taken_time\",\n",
    "    ]\n",
    ")\n",
    "\n",
    "df.columns"
   ]
  },
  {
   "cell_type": "markdown",
   "metadata": {
    "id": "uyt6WyhjuAkD"
   },
   "source": [
    "# Xóa các cột có tỉ lệ missing lớn"
   ]
  },
  {
   "cell_type": "code",
   "execution_count": null,
   "metadata": {
    "colab": {
     "base_uri": "https://localhost:8080/",
     "height": 711
    },
    "executionInfo": {
     "elapsed": 37,
     "status": "ok",
     "timestamp": 1746181096549,
     "user": {
      "displayName": "andong giao",
      "userId": "08579771938911194368"
     },
     "user_tz": -420
    },
    "id": "Xlmx7a2QuAkD",
    "outputId": "6c82ce31-21bd-4fd6-c88c-07e3392770c9"
   },
   "outputs": [
    {
     "data": {
      "text/html": [
       "<div>\n",
       "<style scoped>\n",
       "    .dataframe tbody tr th:only-of-type {\n",
       "        vertical-align: middle;\n",
       "    }\n",
       "\n",
       "    .dataframe tbody tr th {\n",
       "        vertical-align: top;\n",
       "    }\n",
       "\n",
       "    .dataframe thead th {\n",
       "        text-align: right;\n",
       "    }\n",
       "</style>\n",
       "<table border=\"1\" class=\"dataframe\">\n",
       "  <thead>\n",
       "    <tr style=\"text-align: right;\">\n",
       "      <th></th>\n",
       "      <th>0</th>\n",
       "    </tr>\n",
       "  </thead>\n",
       "  <tbody>\n",
       "    <tr>\n",
       "      <th>Copper</th>\n",
       "      <td>3.310748</td>\n",
       "    </tr>\n",
       "    <tr>\n",
       "      <th>Sulfate</th>\n",
       "      <td>3.265541</td>\n",
       "    </tr>\n",
       "    <tr>\n",
       "      <th>Fluoride</th>\n",
       "      <td>3.141639</td>\n",
       "    </tr>\n",
       "    <tr>\n",
       "      <th>Odor</th>\n",
       "      <td>3.027225</td>\n",
       "    </tr>\n",
       "    <tr>\n",
       "      <th>Chloride</th>\n",
       "      <td>2.928996</td>\n",
       "    </tr>\n",
       "    <tr>\n",
       "      <th>Water Temperature</th>\n",
       "      <td>2.830768</td>\n",
       "    </tr>\n",
       "    <tr>\n",
       "      <th>Conductivity</th>\n",
       "      <td>2.720819</td>\n",
       "    </tr>\n",
       "    <tr>\n",
       "      <th>Zinc</th>\n",
       "      <td>2.538315</td>\n",
       "    </tr>\n",
       "    <tr>\n",
       "      <th>pH</th>\n",
       "      <td>1.918805</td>\n",
       "    </tr>\n",
       "    <tr>\n",
       "      <th>Manganese</th>\n",
       "      <td>1.877505</td>\n",
       "    </tr>\n",
       "    <tr>\n",
       "      <th>Nitrate</th>\n",
       "      <td>1.813321</td>\n",
       "    </tr>\n",
       "    <tr>\n",
       "      <th>Source</th>\n",
       "      <td>1.457801</td>\n",
       "    </tr>\n",
       "    <tr>\n",
       "      <th>Chlorine</th>\n",
       "      <td>0.988983</td>\n",
       "    </tr>\n",
       "    <tr>\n",
       "      <th>Turbidity</th>\n",
       "      <td>0.789177</td>\n",
       "    </tr>\n",
       "    <tr>\n",
       "      <th>Iron</th>\n",
       "      <td>0.683693</td>\n",
       "    </tr>\n",
       "    <tr>\n",
       "      <th>Air Temperature</th>\n",
       "      <td>0.522955</td>\n",
       "    </tr>\n",
       "    <tr>\n",
       "      <th>Lead</th>\n",
       "      <td>0.447610</td>\n",
       "    </tr>\n",
       "    <tr>\n",
       "      <th>Color</th>\n",
       "      <td>0.093205</td>\n",
       "    </tr>\n",
       "    <tr>\n",
       "      <th>Total Dissolved Solids</th>\n",
       "      <td>0.027906</td>\n",
       "    </tr>\n",
       "    <tr>\n",
       "      <th>Target</th>\n",
       "      <td>0.000000</td>\n",
       "    </tr>\n",
       "  </tbody>\n",
       "</table>\n",
       "</div><br><label><b>dtype:</b> float64</label>"
      ],
      "text/plain": [
       "Copper                    3.310748\n",
       "Sulfate                   3.265541\n",
       "Fluoride                  3.141639\n",
       "Odor                      3.027225\n",
       "Chloride                  2.928996\n",
       "Water Temperature         2.830768\n",
       "Conductivity              2.720819\n",
       "Zinc                      2.538315\n",
       "pH                        1.918805\n",
       "Manganese                 1.877505\n",
       "Nitrate                   1.813321\n",
       "Source                    1.457801\n",
       "Chlorine                  0.988983\n",
       "Turbidity                 0.789177\n",
       "Iron                      0.683693\n",
       "Air Temperature           0.522955\n",
       "Lead                      0.447610\n",
       "Color                     0.093205\n",
       "Total Dissolved Solids    0.027906\n",
       "Target                    0.000000\n",
       "dtype: float64"
      ]
     },
     "execution_count": 25,
     "metadata": {},
     "output_type": "execute_result"
    }
   ],
   "source": [
    "null_percent = df.isnull().mean() * 100\n",
    "null_percent = null_percent.sort_values(ascending=False)\n",
    "null_percent\n"
   ]
  },
  {
   "cell_type": "markdown",
   "metadata": {
    "id": "p8C5CA_JuAkE"
   },
   "source": [
    "Tỉ lệ missing của các cột đều khá nhỏ -> Không xóa cột nào hết\n"
   ]
  },
  {
   "cell_type": "code",
   "execution_count": null,
   "metadata": {
    "colab": {
     "base_uri": "https://localhost:8080/"
    },
    "executionInfo": {
     "elapsed": 12,
     "status": "ok",
     "timestamp": 1746181174617,
     "user": {
      "displayName": "andong giao",
      "userId": "08579771938911194368"
     },
     "user_tz": -420
    },
    "id": "myb_b0XmuAkF",
    "outputId": "4bc30f83-4979-4bc8-8d7b-abd2ce085741"
   },
   "outputs": [
    {
     "data": {
      "text/plain": [
       "(179174, 20)"
      ]
     },
     "execution_count": 26,
     "metadata": {},
     "output_type": "execute_result"
    }
   ],
   "source": [
    "df.shape\n"
   ]
  },
  {
   "cell_type": "markdown",
   "metadata": {
    "id": "iH1h5EO0uAkG"
   },
   "source": [
    "# Đổi tên cột"
   ]
  },
  {
   "cell_type": "code",
   "execution_count": null,
   "metadata": {
    "colab": {
     "base_uri": "https://localhost:8080/"
    },
    "executionInfo": {
     "elapsed": 5,
     "status": "ok",
     "timestamp": 1746181179837,
     "user": {
      "displayName": "andong giao",
      "userId": "08579771938911194368"
     },
     "user_tz": -420
    },
    "id": "bs0ZfyNUP4Fi",
    "outputId": "2b09825a-1c68-4d33-d8ac-411b923c1a1d"
   },
   "outputs": [
    {
     "data": {
      "text/plain": [
       "Index(['pH', 'Iron', 'Nitrate', 'Chloride', 'Lead', 'Zinc', 'Color',\n",
       "       'Turbidity', 'Fluoride', 'Copper', 'Odor', 'Sulfate', 'Conductivity',\n",
       "       'Chlorine', 'Manganese', 'Total Dissolved Solids', 'Source',\n",
       "       'Water Temperature', 'Air Temperature', 'Target'],\n",
       "      dtype='object')"
      ]
     },
     "execution_count": 27,
     "metadata": {},
     "output_type": "execute_result"
    }
   ],
   "source": [
    "df.columns"
   ]
  },
  {
   "cell_type": "code",
   "execution_count": null,
   "metadata": {
    "colab": {
     "base_uri": "https://localhost:8080/"
    },
    "executionInfo": {
     "elapsed": 50,
     "status": "ok",
     "timestamp": 1746181342808,
     "user": {
      "displayName": "andong giao",
      "userId": "08579771938911194368"
     },
     "user_tz": -420
    },
    "id": "ZQYuJqM0uAkH",
    "outputId": "c8165913-883b-4c8a-af0a-45d5ffe661bb"
   },
   "outputs": [
    {
     "data": {
      "text/plain": [
       "Index(['pH_num', 'Iron_num', 'Nitrate_num', 'Chloride_num', 'Lead_num',\n",
       "       'Zinc_num', 'Color_ord', 'Turbidity_num', 'Fluoride_num', 'Copper_num',\n",
       "       'Odor_num', 'Sulfate_num', 'Conductivity_num', 'Chlorine_num',\n",
       "       'Manganese_num', 'Total_Dissolved_Solids_num', 'Source_nom',\n",
       "       'Water_Temperature_num', 'Air_Temperature_num', 'Target_target'],\n",
       "      dtype='object')"
      ]
     },
     "execution_count": 28,
     "metadata": {},
     "output_type": "execute_result"
    }
   ],
   "source": [
    "rename_dict = {\n",
    "    \"pH\": \"pH_num\",\n",
    "    \"Iron\": \"Iron_num\",\n",
    "    \"Nitrate\": \"Nitrate_num\",\n",
    "    \"Chloride\": \"Chloride_num\",\n",
    "    \"Lead\": \"Lead_num\",\n",
    "    \"Zinc\": \"Zinc_num\",\n",
    "    \"Color\": \"Color_ord\",\n",
    "    \"Turbidity\": \"Turbidity_num\",\n",
    "    \"Fluoride\": \"Fluoride_num\",\n",
    "    \"Copper\": \"Copper_num\",\n",
    "    \"Odor\": \"Odor_num\",\n",
    "    \"Sulfate\": \"Sulfate_num\",\n",
    "    \"Conductivity\": \"Conductivity_num\",\n",
    "    \"Chlorine\": \"Chlorine_num\",\n",
    "    \"Manganese\": \"Manganese_num\",\n",
    "    \"Total Dissolved Solids\": \"Total_Dissolved_Solids_num\",\n",
    "    \"Source\": \"Source_nom\",\n",
    "    \"Water Temperature\": \"Water_Temperature_num\",\n",
    "    \"Air Temperature\": \"Air_Temperature_num\",\n",
    "    \"Target\": \"Target_target\",\n",
    "\n",
    "}\n",
    "\n",
    "\n",
    "df = df.rename(columns=rename_dict)\n",
    "\n",
    "df.columns\n"
   ]
  },
  {
   "cell_type": "markdown",
   "metadata": {
    "id": "5w3egjBAuAkI"
   },
   "source": [
    "# Sắp xếp các cột theo đúng thứ tự"
   ]
  },
  {
   "cell_type": "code",
   "execution_count": null,
   "metadata": {
    "colab": {
     "base_uri": "https://localhost:8080/",
     "height": 313
    },
    "executionInfo": {
     "elapsed": 63,
     "status": "ok",
     "timestamp": 1746181355558,
     "user": {
      "displayName": "andong giao",
      "userId": "08579771938911194368"
     },
     "user_tz": -420
    },
    "id": "w6OLi_omuAkI",
    "outputId": "e7873850-e0f8-40f3-bab0-1e445c6f6d6c"
   },
   "outputs": [
    {
     "data": {
      "application/vnd.google.colaboratory.intrinsic+json": {
       "type": "dataframe",
       "variable_name": "df"
      },
      "text/html": [
       "\n",
       "  <div id=\"df-491ad916-0320-4a6b-8d35-7753aea96c2c\" class=\"colab-df-container\">\n",
       "    <div>\n",
       "<style scoped>\n",
       "    .dataframe tbody tr th:only-of-type {\n",
       "        vertical-align: middle;\n",
       "    }\n",
       "\n",
       "    .dataframe tbody tr th {\n",
       "        vertical-align: top;\n",
       "    }\n",
       "\n",
       "    .dataframe thead th {\n",
       "        text-align: right;\n",
       "    }\n",
       "</style>\n",
       "<table border=\"1\" class=\"dataframe\">\n",
       "  <thead>\n",
       "    <tr style=\"text-align: right;\">\n",
       "      <th></th>\n",
       "      <th>pH_num</th>\n",
       "      <th>Iron_num</th>\n",
       "      <th>Nitrate_num</th>\n",
       "      <th>Chloride_num</th>\n",
       "      <th>Lead_num</th>\n",
       "      <th>Zinc_num</th>\n",
       "      <th>Turbidity_num</th>\n",
       "      <th>Fluoride_num</th>\n",
       "      <th>Copper_num</th>\n",
       "      <th>Odor_num</th>\n",
       "      <th>Sulfate_num</th>\n",
       "      <th>Conductivity_num</th>\n",
       "      <th>Chlorine_num</th>\n",
       "      <th>Manganese_num</th>\n",
       "      <th>Total_Dissolved_Solids_num</th>\n",
       "      <th>Water_Temperature_num</th>\n",
       "      <th>Air_Temperature_num</th>\n",
       "      <th>Source_nom</th>\n",
       "      <th>Color_ord</th>\n",
       "      <th>Target_target</th>\n",
       "    </tr>\n",
       "  </thead>\n",
       "  <tbody>\n",
       "    <tr>\n",
       "      <th>116899</th>\n",
       "      <td>7.034305</td>\n",
       "      <td>3.510000e-14</td>\n",
       "      <td>2.859233</td>\n",
       "      <td>132.125438</td>\n",
       "      <td>6.540000e-235</td>\n",
       "      <td>2.152380</td>\n",
       "      <td>1.377299</td>\n",
       "      <td>1.551360</td>\n",
       "      <td>0.095312</td>\n",
       "      <td>2.927038</td>\n",
       "      <td>335.357965</td>\n",
       "      <td>344.015095</td>\n",
       "      <td>3.756497</td>\n",
       "      <td>0.000332</td>\n",
       "      <td>504.928844</td>\n",
       "      <td>7.116495</td>\n",
       "      <td>72.255851</td>\n",
       "      <td>Reservoir</td>\n",
       "      <td>Light Yellow</td>\n",
       "      <td>1</td>\n",
       "    </tr>\n",
       "    <tr>\n",
       "      <th>155434</th>\n",
       "      <td>6.599581</td>\n",
       "      <td>3.990000e-07</td>\n",
       "      <td>5.371393</td>\n",
       "      <td>199.138779</td>\n",
       "      <td>1.330000e-58</td>\n",
       "      <td>1.552503</td>\n",
       "      <td>0.071201</td>\n",
       "      <td>1.776722</td>\n",
       "      <td>0.420041</td>\n",
       "      <td>1.569571</td>\n",
       "      <td>199.562148</td>\n",
       "      <td>421.907595</td>\n",
       "      <td>3.922976</td>\n",
       "      <td>0.021912</td>\n",
       "      <td>403.644429</td>\n",
       "      <td>23.035464</td>\n",
       "      <td>26.433255</td>\n",
       "      <td>Spring</td>\n",
       "      <td>Near Colorless</td>\n",
       "      <td>0</td>\n",
       "    </tr>\n",
       "    <tr>\n",
       "      <th>165968</th>\n",
       "      <td>7.670866</td>\n",
       "      <td>9.310000e-06</td>\n",
       "      <td>1.156363</td>\n",
       "      <td>245.548989</td>\n",
       "      <td>7.130000e-66</td>\n",
       "      <td>0.608690</td>\n",
       "      <td>0.428635</td>\n",
       "      <td>0.506733</td>\n",
       "      <td>0.234863</td>\n",
       "      <td>2.942056</td>\n",
       "      <td>79.666497</td>\n",
       "      <td>499.280918</td>\n",
       "      <td>3.755862</td>\n",
       "      <td>0.002062</td>\n",
       "      <td>391.642190</td>\n",
       "      <td>5.728718</td>\n",
       "      <td>54.360327</td>\n",
       "      <td>Spring</td>\n",
       "      <td>Colorless</td>\n",
       "      <td>0</td>\n",
       "    </tr>\n",
       "    <tr>\n",
       "      <th>150476</th>\n",
       "      <td>8.024941</td>\n",
       "      <td>8.664510e-02</td>\n",
       "      <td>3.146721</td>\n",
       "      <td>174.001989</td>\n",
       "      <td>2.460000e-113</td>\n",
       "      <td>1.151119</td>\n",
       "      <td>0.583815</td>\n",
       "      <td>0.543565</td>\n",
       "      <td>0.169842</td>\n",
       "      <td>0.581440</td>\n",
       "      <td>112.425132</td>\n",
       "      <td>304.724172</td>\n",
       "      <td>3.713097</td>\n",
       "      <td>0.002520</td>\n",
       "      <td>53.432049</td>\n",
       "      <td>26.853255</td>\n",
       "      <td>71.579596</td>\n",
       "      <td>River</td>\n",
       "      <td>Colorless</td>\n",
       "      <td>0</td>\n",
       "    </tr>\n",
       "    <tr>\n",
       "      <th>255559</th>\n",
       "      <td>6.738499</td>\n",
       "      <td>3.550000e-11</td>\n",
       "      <td>3.481104</td>\n",
       "      <td>225.121948</td>\n",
       "      <td>5.470000e-05</td>\n",
       "      <td>1.494975</td>\n",
       "      <td>0.863283</td>\n",
       "      <td>1.961606</td>\n",
       "      <td>NaN</td>\n",
       "      <td>2.915724</td>\n",
       "      <td>103.405765</td>\n",
       "      <td>377.043871</td>\n",
       "      <td>1.744797</td>\n",
       "      <td>0.000029</td>\n",
       "      <td>157.238713</td>\n",
       "      <td>9.778199</td>\n",
       "      <td>66.545395</td>\n",
       "      <td>Well</td>\n",
       "      <td>Faint Yellow</td>\n",
       "      <td>0</td>\n",
       "    </tr>\n",
       "  </tbody>\n",
       "</table>\n",
       "</div>\n",
       "    <div class=\"colab-df-buttons\">\n",
       "\n",
       "  <div class=\"colab-df-container\">\n",
       "    <button class=\"colab-df-convert\" onclick=\"convertToInteractive('df-491ad916-0320-4a6b-8d35-7753aea96c2c')\"\n",
       "            title=\"Convert this dataframe to an interactive table.\"\n",
       "            style=\"display:none;\">\n",
       "\n",
       "  <svg xmlns=\"http://www.w3.org/2000/svg\" height=\"24px\" viewBox=\"0 -960 960 960\">\n",
       "    <path d=\"M120-120v-720h720v720H120Zm60-500h600v-160H180v160Zm220 220h160v-160H400v160Zm0 220h160v-160H400v160ZM180-400h160v-160H180v160Zm440 0h160v-160H620v160ZM180-180h160v-160H180v160Zm440 0h160v-160H620v160Z\"/>\n",
       "  </svg>\n",
       "    </button>\n",
       "\n",
       "  <style>\n",
       "    .colab-df-container {\n",
       "      display:flex;\n",
       "      gap: 12px;\n",
       "    }\n",
       "\n",
       "    .colab-df-convert {\n",
       "      background-color: #E8F0FE;\n",
       "      border: none;\n",
       "      border-radius: 50%;\n",
       "      cursor: pointer;\n",
       "      display: none;\n",
       "      fill: #1967D2;\n",
       "      height: 32px;\n",
       "      padding: 0 0 0 0;\n",
       "      width: 32px;\n",
       "    }\n",
       "\n",
       "    .colab-df-convert:hover {\n",
       "      background-color: #E2EBFA;\n",
       "      box-shadow: 0px 1px 2px rgba(60, 64, 67, 0.3), 0px 1px 3px 1px rgba(60, 64, 67, 0.15);\n",
       "      fill: #174EA6;\n",
       "    }\n",
       "\n",
       "    .colab-df-buttons div {\n",
       "      margin-bottom: 4px;\n",
       "    }\n",
       "\n",
       "    [theme=dark] .colab-df-convert {\n",
       "      background-color: #3B4455;\n",
       "      fill: #D2E3FC;\n",
       "    }\n",
       "\n",
       "    [theme=dark] .colab-df-convert:hover {\n",
       "      background-color: #434B5C;\n",
       "      box-shadow: 0px 1px 3px 1px rgba(0, 0, 0, 0.15);\n",
       "      filter: drop-shadow(0px 1px 2px rgba(0, 0, 0, 0.3));\n",
       "      fill: #FFFFFF;\n",
       "    }\n",
       "  </style>\n",
       "\n",
       "    <script>\n",
       "      const buttonEl =\n",
       "        document.querySelector('#df-491ad916-0320-4a6b-8d35-7753aea96c2c button.colab-df-convert');\n",
       "      buttonEl.style.display =\n",
       "        google.colab.kernel.accessAllowed ? 'block' : 'none';\n",
       "\n",
       "      async function convertToInteractive(key) {\n",
       "        const element = document.querySelector('#df-491ad916-0320-4a6b-8d35-7753aea96c2c');\n",
       "        const dataTable =\n",
       "          await google.colab.kernel.invokeFunction('convertToInteractive',\n",
       "                                                    [key], {});\n",
       "        if (!dataTable) return;\n",
       "\n",
       "        const docLinkHtml = 'Like what you see? Visit the ' +\n",
       "          '<a target=\"_blank\" href=https://colab.research.google.com/notebooks/data_table.ipynb>data table notebook</a>'\n",
       "          + ' to learn more about interactive tables.';\n",
       "        element.innerHTML = '';\n",
       "        dataTable['output_type'] = 'display_data';\n",
       "        await google.colab.output.renderOutput(dataTable, element);\n",
       "        const docLink = document.createElement('div');\n",
       "        docLink.innerHTML = docLinkHtml;\n",
       "        element.appendChild(docLink);\n",
       "      }\n",
       "    </script>\n",
       "  </div>\n",
       "\n",
       "\n",
       "    <div id=\"df-ee48904d-2cc3-4b99-beab-1e26a2e14ed2\">\n",
       "      <button class=\"colab-df-quickchart\" onclick=\"quickchart('df-ee48904d-2cc3-4b99-beab-1e26a2e14ed2')\"\n",
       "                title=\"Suggest charts\"\n",
       "                style=\"display:none;\">\n",
       "\n",
       "<svg xmlns=\"http://www.w3.org/2000/svg\" height=\"24px\"viewBox=\"0 0 24 24\"\n",
       "     width=\"24px\">\n",
       "    <g>\n",
       "        <path d=\"M19 3H5c-1.1 0-2 .9-2 2v14c0 1.1.9 2 2 2h14c1.1 0 2-.9 2-2V5c0-1.1-.9-2-2-2zM9 17H7v-7h2v7zm4 0h-2V7h2v10zm4 0h-2v-4h2v4z\"/>\n",
       "    </g>\n",
       "</svg>\n",
       "      </button>\n",
       "\n",
       "<style>\n",
       "  .colab-df-quickchart {\n",
       "      --bg-color: #E8F0FE;\n",
       "      --fill-color: #1967D2;\n",
       "      --hover-bg-color: #E2EBFA;\n",
       "      --hover-fill-color: #174EA6;\n",
       "      --disabled-fill-color: #AAA;\n",
       "      --disabled-bg-color: #DDD;\n",
       "  }\n",
       "\n",
       "  [theme=dark] .colab-df-quickchart {\n",
       "      --bg-color: #3B4455;\n",
       "      --fill-color: #D2E3FC;\n",
       "      --hover-bg-color: #434B5C;\n",
       "      --hover-fill-color: #FFFFFF;\n",
       "      --disabled-bg-color: #3B4455;\n",
       "      --disabled-fill-color: #666;\n",
       "  }\n",
       "\n",
       "  .colab-df-quickchart {\n",
       "    background-color: var(--bg-color);\n",
       "    border: none;\n",
       "    border-radius: 50%;\n",
       "    cursor: pointer;\n",
       "    display: none;\n",
       "    fill: var(--fill-color);\n",
       "    height: 32px;\n",
       "    padding: 0;\n",
       "    width: 32px;\n",
       "  }\n",
       "\n",
       "  .colab-df-quickchart:hover {\n",
       "    background-color: var(--hover-bg-color);\n",
       "    box-shadow: 0 1px 2px rgba(60, 64, 67, 0.3), 0 1px 3px 1px rgba(60, 64, 67, 0.15);\n",
       "    fill: var(--button-hover-fill-color);\n",
       "  }\n",
       "\n",
       "  .colab-df-quickchart-complete:disabled,\n",
       "  .colab-df-quickchart-complete:disabled:hover {\n",
       "    background-color: var(--disabled-bg-color);\n",
       "    fill: var(--disabled-fill-color);\n",
       "    box-shadow: none;\n",
       "  }\n",
       "\n",
       "  .colab-df-spinner {\n",
       "    border: 2px solid var(--fill-color);\n",
       "    border-color: transparent;\n",
       "    border-bottom-color: var(--fill-color);\n",
       "    animation:\n",
       "      spin 1s steps(1) infinite;\n",
       "  }\n",
       "\n",
       "  @keyframes spin {\n",
       "    0% {\n",
       "      border-color: transparent;\n",
       "      border-bottom-color: var(--fill-color);\n",
       "      border-left-color: var(--fill-color);\n",
       "    }\n",
       "    20% {\n",
       "      border-color: transparent;\n",
       "      border-left-color: var(--fill-color);\n",
       "      border-top-color: var(--fill-color);\n",
       "    }\n",
       "    30% {\n",
       "      border-color: transparent;\n",
       "      border-left-color: var(--fill-color);\n",
       "      border-top-color: var(--fill-color);\n",
       "      border-right-color: var(--fill-color);\n",
       "    }\n",
       "    40% {\n",
       "      border-color: transparent;\n",
       "      border-right-color: var(--fill-color);\n",
       "      border-top-color: var(--fill-color);\n",
       "    }\n",
       "    60% {\n",
       "      border-color: transparent;\n",
       "      border-right-color: var(--fill-color);\n",
       "    }\n",
       "    80% {\n",
       "      border-color: transparent;\n",
       "      border-right-color: var(--fill-color);\n",
       "      border-bottom-color: var(--fill-color);\n",
       "    }\n",
       "    90% {\n",
       "      border-color: transparent;\n",
       "      border-bottom-color: var(--fill-color);\n",
       "    }\n",
       "  }\n",
       "</style>\n",
       "\n",
       "      <script>\n",
       "        async function quickchart(key) {\n",
       "          const quickchartButtonEl =\n",
       "            document.querySelector('#' + key + ' button');\n",
       "          quickchartButtonEl.disabled = true;  // To prevent multiple clicks.\n",
       "          quickchartButtonEl.classList.add('colab-df-spinner');\n",
       "          try {\n",
       "            const charts = await google.colab.kernel.invokeFunction(\n",
       "                'suggestCharts', [key], {});\n",
       "          } catch (error) {\n",
       "            console.error('Error during call to suggestCharts:', error);\n",
       "          }\n",
       "          quickchartButtonEl.classList.remove('colab-df-spinner');\n",
       "          quickchartButtonEl.classList.add('colab-df-quickchart-complete');\n",
       "        }\n",
       "        (() => {\n",
       "          let quickchartButtonEl =\n",
       "            document.querySelector('#df-ee48904d-2cc3-4b99-beab-1e26a2e14ed2 button');\n",
       "          quickchartButtonEl.style.display =\n",
       "            google.colab.kernel.accessAllowed ? 'block' : 'none';\n",
       "        })();\n",
       "      </script>\n",
       "    </div>\n",
       "\n",
       "    </div>\n",
       "  </div>\n"
      ],
      "text/plain": [
       "          pH_num      Iron_num  Nitrate_num  Chloride_num       Lead_num  \\\n",
       "116899  7.034305  3.510000e-14     2.859233    132.125438  6.540000e-235   \n",
       "155434  6.599581  3.990000e-07     5.371393    199.138779   1.330000e-58   \n",
       "165968  7.670866  9.310000e-06     1.156363    245.548989   7.130000e-66   \n",
       "150476  8.024941  8.664510e-02     3.146721    174.001989  2.460000e-113   \n",
       "255559  6.738499  3.550000e-11     3.481104    225.121948   5.470000e-05   \n",
       "\n",
       "        Zinc_num  Turbidity_num  Fluoride_num  Copper_num  Odor_num  \\\n",
       "116899  2.152380       1.377299      1.551360    0.095312  2.927038   \n",
       "155434  1.552503       0.071201      1.776722    0.420041  1.569571   \n",
       "165968  0.608690       0.428635      0.506733    0.234863  2.942056   \n",
       "150476  1.151119       0.583815      0.543565    0.169842  0.581440   \n",
       "255559  1.494975       0.863283      1.961606         NaN  2.915724   \n",
       "\n",
       "        Sulfate_num  Conductivity_num  Chlorine_num  Manganese_num  \\\n",
       "116899   335.357965        344.015095      3.756497       0.000332   \n",
       "155434   199.562148        421.907595      3.922976       0.021912   \n",
       "165968    79.666497        499.280918      3.755862       0.002062   \n",
       "150476   112.425132        304.724172      3.713097       0.002520   \n",
       "255559   103.405765        377.043871      1.744797       0.000029   \n",
       "\n",
       "        Total_Dissolved_Solids_num  Water_Temperature_num  \\\n",
       "116899                  504.928844               7.116495   \n",
       "155434                  403.644429              23.035464   \n",
       "165968                  391.642190               5.728718   \n",
       "150476                   53.432049              26.853255   \n",
       "255559                  157.238713               9.778199   \n",
       "\n",
       "        Air_Temperature_num Source_nom       Color_ord  Target_target  \n",
       "116899            72.255851  Reservoir    Light Yellow              1  \n",
       "155434            26.433255     Spring  Near Colorless              0  \n",
       "165968            54.360327     Spring       Colorless              0  \n",
       "150476            71.579596      River       Colorless              0  \n",
       "255559            66.545395       Well    Faint Yellow              0  "
      ]
     },
     "execution_count": 29,
     "metadata": {},
     "output_type": "execute_result"
    }
   ],
   "source": [
    "numeric_cols, numericCat_cols, cat_cols, binary_cols, nominal_cols, ordinal_cols, target_col = myfuncs.get_different_types_cols_from_df_4(df)\n",
    "\n",
    "\n",
    "df = df[\n",
    "    numeric_cols\n",
    "    + numericCat_cols\n",
    "    + binary_cols\n",
    "    + nominal_cols\n",
    "    + ordinal_cols\n",
    "    + [target_col]\n",
    "]\n",
    "\n",
    "\n",
    "df.head()\n"
   ]
  },
  {
   "cell_type": "markdown",
   "metadata": {
    "id": "KFOU-RiDuAkJ"
   },
   "source": [
    "# Kiểm tra kiểu dữ liệu các cột"
   ]
  },
  {
   "cell_type": "code",
   "execution_count": null,
   "metadata": {
    "colab": {
     "base_uri": "https://localhost:8080/"
    },
    "executionInfo": {
     "elapsed": 60,
     "status": "ok",
     "timestamp": 1746181357964,
     "user": {
      "displayName": "andong giao",
      "userId": "08579771938911194368"
     },
     "user_tz": -420
    },
    "id": "LhG1Gl4luAkJ",
    "outputId": "fa1281ae-b086-4c1d-8f04-dc73ecb674e5"
   },
   "outputs": [
    {
     "name": "stdout",
     "output_type": "stream",
     "text": [
      "<class 'pandas.core.frame.DataFrame'>\n",
      "Index: 179174 entries, 116899 to 167276\n",
      "Data columns (total 20 columns):\n",
      " #   Column                      Non-Null Count   Dtype  \n",
      "---  ------                      --------------   -----  \n",
      " 0   pH_num                      175736 non-null  float64\n",
      " 1   Iron_num                    177949 non-null  float64\n",
      " 2   Nitrate_num                 175925 non-null  float64\n",
      " 3   Chloride_num                173926 non-null  float64\n",
      " 4   Lead_num                    178372 non-null  float64\n",
      " 5   Zinc_num                    174626 non-null  float64\n",
      " 6   Turbidity_num               177760 non-null  float64\n",
      " 7   Fluoride_num                173545 non-null  float64\n",
      " 8   Copper_num                  173242 non-null  float64\n",
      " 9   Odor_num                    173750 non-null  float64\n",
      " 10  Sulfate_num                 173323 non-null  float64\n",
      " 11  Conductivity_num            174299 non-null  float64\n",
      " 12  Chlorine_num                177402 non-null  float64\n",
      " 13  Manganese_num               175810 non-null  float64\n",
      " 14  Total_Dissolved_Solids_num  179124 non-null  float64\n",
      " 15  Water_Temperature_num       174102 non-null  float64\n",
      " 16  Air_Temperature_num         178237 non-null  float64\n",
      " 17  Source_nom                  176562 non-null  object \n",
      " 18  Color_ord                   179007 non-null  object \n",
      " 19  Target_target               179174 non-null  int64  \n",
      "dtypes: float64(17), int64(1), object(2)\n",
      "memory usage: 28.7+ MB\n"
     ]
    }
   ],
   "source": [
    "df.info()\n"
   ]
  },
  {
   "cell_type": "markdown",
   "metadata": {
    "id": "UV5B0fkCuAkK"
   },
   "source": [
    "Các cột từ 17 trở đi bị sai dữ liệu\n"
   ]
  },
  {
   "cell_type": "markdown",
   "metadata": {
    "id": "ZLhWxQA3uAkK"
   },
   "source": [
    "## Chuyển kdl = kdl mong muốn + NAN\n"
   ]
  },
  {
   "cell_type": "code",
   "execution_count": null,
   "metadata": {
    "colab": {
     "base_uri": "https://localhost:8080/"
    },
    "executionInfo": {
     "elapsed": 71,
     "status": "ok",
     "timestamp": 1746181399652,
     "user": {
      "displayName": "andong giao",
      "userId": "08579771938911194368"
     },
     "user_tz": -420
    },
    "id": "Z6xA5oTQuAkL",
    "outputId": "ceb7c475-94ec-40f6-c555-914bf7264269"
   },
   "outputs": [
    {
     "name": "stdout",
     "output_type": "stream",
     "text": [
      "Source_nom -> {<class 'float'>, <class 'str'>}\n",
      "Color_ord -> {<class 'float'>, <class 'str'>}\n",
      "Target_target -> {<class 'int'>}\n"
     ]
    }
   ],
   "source": [
    "for col in df.columns.tolist()[17:]:\n",
    "  print(f\"{col} -> {set(map(type, df[col]))}\")\n"
   ]
  },
  {
   "cell_type": "code",
   "execution_count": null,
   "metadata": {
    "colab": {
     "base_uri": "https://localhost:8080/"
    },
    "executionInfo": {
     "elapsed": 206,
     "status": "ok",
     "timestamp": 1746181534260,
     "user": {
      "displayName": "andong giao",
      "userId": "08579771938911194368"
     },
     "user_tz": -420
    },
    "id": "K-pOgT1ehchA",
    "outputId": "7219e82e-5548-495e-8509-6e54f29b89f0"
   },
   "outputs": [
    {
     "name": "stdout",
     "output_type": "stream",
     "text": [
      "Source_nom -> [nan]\n",
      "Color_ord -> [nan]\n"
     ]
    }
   ],
   "source": [
    "for col_name in ['Source_nom', 'Color_ord']:\n",
    "  float_values = df[col_name][df[col_name].apply(lambda item: isinstance(item, float))].unique().tolist()\n",
    "  print(f\"{col_name} -> {float_values}\")\n"
   ]
  },
  {
   "cell_type": "code",
   "execution_count": null,
   "metadata": {
    "colab": {
     "base_uri": "https://localhost:8080/"
    },
    "executionInfo": {
     "elapsed": 47,
     "status": "ok",
     "timestamp": 1746181554653,
     "user": {
      "displayName": "andong giao",
      "userId": "08579771938911194368"
     },
     "user_tz": -420
    },
    "id": "oxrlKsdah9YY",
    "outputId": "e2595f23-ba6b-485d-e74a-d852951407ed"
   },
   "outputs": [
    {
     "data": {
      "text/plain": [
       "array([1, 0])"
      ]
     },
     "execution_count": 35,
     "metadata": {},
     "output_type": "execute_result"
    }
   ],
   "source": [
    "df['Target_target'].unique()"
   ]
  },
  {
   "cell_type": "markdown",
   "metadata": {
    "id": "EYKOvVIyiAiQ"
   },
   "source": [
    "Tất cả các cột đều thỏa"
   ]
  },
  {
   "cell_type": "markdown",
   "metadata": {
    "id": "FBveKr2RuAkj"
   },
   "source": [
    "# Kiểm tra nội dung các cột `binary`\n"
   ]
  },
  {
   "cell_type": "code",
   "execution_count": null,
   "metadata": {
    "id": "oN-kAyP7uAkj"
   },
   "outputs": [],
   "source": [
    "for col in binary_cols:\n",
    "  print(f\"{col} -> {df[col].unique().tolist()}\")"
   ]
  },
  {
   "cell_type": "markdown",
   "metadata": {
    "id": "yJByrymIuAkk"
   },
   "source": [
    "Không có cột nào hết\n"
   ]
  },
  {
   "cell_type": "markdown",
   "metadata": {
    "id": "8nvGKhguuAkk"
   },
   "source": [
    "# Kiểm tra nội dung các cột `nominal`\n"
   ]
  },
  {
   "cell_type": "code",
   "execution_count": null,
   "metadata": {
    "colab": {
     "base_uri": "https://localhost:8080/"
    },
    "executionInfo": {
     "elapsed": 5,
     "status": "ok",
     "timestamp": 1746181573823,
     "user": {
      "displayName": "andong giao",
      "userId": "08579771938911194368"
     },
     "user_tz": -420
    },
    "id": "rh6rbQpZuAkl",
    "outputId": "000de8fe-f6e0-465d-d095-e765ee7db56d"
   },
   "outputs": [
    {
     "name": "stdout",
     "output_type": "stream",
     "text": [
      "Source_nom -> ['Reservoir', 'Spring', 'River', 'Well', 'Lake', 'Ground', nan, 'Stream', 'Aquifer']\n"
     ]
    }
   ],
   "source": [
    "for col in nominal_cols:\n",
    "    print(f\"{col} -> {df[col].unique().tolist()}\")\n"
   ]
  },
  {
   "cell_type": "markdown",
   "metadata": {
    "id": "rnG2GmXOuAkm"
   },
   "source": [
    "# Kiểm tra nội dung các cột `ordinal`\n"
   ]
  },
  {
   "cell_type": "code",
   "execution_count": null,
   "metadata": {
    "colab": {
     "base_uri": "https://localhost:8080/"
    },
    "executionInfo": {
     "elapsed": 32,
     "status": "ok",
     "timestamp": 1746181579896,
     "user": {
      "displayName": "andong giao",
      "userId": "08579771938911194368"
     },
     "user_tz": -420
    },
    "id": "3ER0XEmTuAkm",
    "outputId": "7777915d-65ba-4d33-d943-7a3e3b125170"
   },
   "outputs": [
    {
     "name": "stdout",
     "output_type": "stream",
     "text": [
      "Color_ord -> ['Light Yellow', 'Near Colorless', 'Colorless', 'Faint Yellow', 'Yellow', nan]\n"
     ]
    }
   ],
   "source": [
    "for col in ordinal_cols:\n",
    "    print(f\"{col} -> {df[col].unique().tolist()}\")\n"
   ]
  },
  {
   "cell_type": "markdown",
   "metadata": {
    "id": "P1Q44GEFuAkn"
   },
   "source": [
    "# Kiểm tra nội dung các cột `target`\n"
   ]
  },
  {
   "cell_type": "code",
   "execution_count": null,
   "metadata": {
    "colab": {
     "base_uri": "https://localhost:8080/"
    },
    "executionInfo": {
     "elapsed": 19,
     "status": "ok",
     "timestamp": 1746181586015,
     "user": {
      "displayName": "andong giao",
      "userId": "08579771938911194368"
     },
     "user_tz": -420
    },
    "id": "OvyFGLdwuAkn",
    "outputId": "1e433662-4944-4941-c0f3-78dc630867f5"
   },
   "outputs": [
    {
     "name": "stdout",
     "output_type": "stream",
     "text": [
      "Target_target -> [1, 0]\n"
     ]
    }
   ],
   "source": [
    "print(f\"{target_col} -> {df[target_col].unique().tolist()}\")\n"
   ]
  },
  {
   "cell_type": "markdown",
   "metadata": {
    "id": "5ZvvPPQKuAkn"
   },
   "source": [
    "# Fill missing value\n"
   ]
  },
  {
   "cell_type": "code",
   "execution_count": null,
   "metadata": {
    "colab": {
     "base_uri": "https://localhost:8080/",
     "height": 278
    },
    "executionInfo": {
     "elapsed": 633,
     "status": "ok",
     "timestamp": 1746181595241,
     "user": {
      "displayName": "andong giao",
      "userId": "08579771938911194368"
     },
     "user_tz": -420
    },
    "id": "FASd-LqfuAko",
    "outputId": "e43835bf-2324-44d2-a955-56a371c72570"
   },
   "outputs": [
    {
     "data": {
      "application/vnd.google.colaboratory.intrinsic+json": {
       "type": "dataframe",
       "variable_name": "df"
      },
      "text/html": [
       "\n",
       "  <div id=\"df-c8d7b12d-db17-431a-abaa-8b623fbd2127\" class=\"colab-df-container\">\n",
       "    <div>\n",
       "<style scoped>\n",
       "    .dataframe tbody tr th:only-of-type {\n",
       "        vertical-align: middle;\n",
       "    }\n",
       "\n",
       "    .dataframe tbody tr th {\n",
       "        vertical-align: top;\n",
       "    }\n",
       "\n",
       "    .dataframe thead th {\n",
       "        text-align: right;\n",
       "    }\n",
       "</style>\n",
       "<table border=\"1\" class=\"dataframe\">\n",
       "  <thead>\n",
       "    <tr style=\"text-align: right;\">\n",
       "      <th></th>\n",
       "      <th>pH_num</th>\n",
       "      <th>Iron_num</th>\n",
       "      <th>Nitrate_num</th>\n",
       "      <th>Chloride_num</th>\n",
       "      <th>Lead_num</th>\n",
       "      <th>Zinc_num</th>\n",
       "      <th>Turbidity_num</th>\n",
       "      <th>Fluoride_num</th>\n",
       "      <th>Copper_num</th>\n",
       "      <th>Odor_num</th>\n",
       "      <th>Sulfate_num</th>\n",
       "      <th>Conductivity_num</th>\n",
       "      <th>Chlorine_num</th>\n",
       "      <th>Manganese_num</th>\n",
       "      <th>Total_Dissolved_Solids_num</th>\n",
       "      <th>Water_Temperature_num</th>\n",
       "      <th>Air_Temperature_num</th>\n",
       "      <th>Source_nom</th>\n",
       "      <th>Color_ord</th>\n",
       "      <th>Target_target</th>\n",
       "    </tr>\n",
       "  </thead>\n",
       "  <tbody>\n",
       "    <tr>\n",
       "      <th>0</th>\n",
       "      <td>7.034305</td>\n",
       "      <td>0.0</td>\n",
       "      <td>2.859233</td>\n",
       "      <td>132.125438</td>\n",
       "      <td>0.0</td>\n",
       "      <td>2.15238</td>\n",
       "      <td>1.377299</td>\n",
       "      <td>1.55136</td>\n",
       "      <td>0.095312</td>\n",
       "      <td>2.927038</td>\n",
       "      <td>335.357965</td>\n",
       "      <td>344.015095</td>\n",
       "      <td>3.756497</td>\n",
       "      <td>0.000332</td>\n",
       "      <td>504.928844</td>\n",
       "      <td>7.116495</td>\n",
       "      <td>72.255851</td>\n",
       "      <td>Reservoir</td>\n",
       "      <td>Light Yellow</td>\n",
       "      <td>1</td>\n",
       "    </tr>\n",
       "    <tr>\n",
       "      <th>1</th>\n",
       "      <td>6.599581</td>\n",
       "      <td>0.0</td>\n",
       "      <td>5.371393</td>\n",
       "      <td>199.138779</td>\n",
       "      <td>0.0</td>\n",
       "      <td>1.552503</td>\n",
       "      <td>0.071201</td>\n",
       "      <td>1.776722</td>\n",
       "      <td>0.420041</td>\n",
       "      <td>1.569571</td>\n",
       "      <td>199.562148</td>\n",
       "      <td>421.907595</td>\n",
       "      <td>3.922976</td>\n",
       "      <td>0.021912</td>\n",
       "      <td>403.644429</td>\n",
       "      <td>23.035464</td>\n",
       "      <td>26.433255</td>\n",
       "      <td>Spring</td>\n",
       "      <td>Near Colorless</td>\n",
       "      <td>0</td>\n",
       "    </tr>\n",
       "    <tr>\n",
       "      <th>2</th>\n",
       "      <td>7.670866</td>\n",
       "      <td>0.000009</td>\n",
       "      <td>1.156363</td>\n",
       "      <td>245.548989</td>\n",
       "      <td>0.0</td>\n",
       "      <td>0.60869</td>\n",
       "      <td>0.428635</td>\n",
       "      <td>0.506733</td>\n",
       "      <td>0.234863</td>\n",
       "      <td>2.942056</td>\n",
       "      <td>79.666497</td>\n",
       "      <td>499.280918</td>\n",
       "      <td>3.755862</td>\n",
       "      <td>0.002062</td>\n",
       "      <td>391.64219</td>\n",
       "      <td>5.728718</td>\n",
       "      <td>54.360327</td>\n",
       "      <td>Spring</td>\n",
       "      <td>Colorless</td>\n",
       "      <td>0</td>\n",
       "    </tr>\n",
       "    <tr>\n",
       "      <th>3</th>\n",
       "      <td>8.024941</td>\n",
       "      <td>0.086645</td>\n",
       "      <td>3.146721</td>\n",
       "      <td>174.001989</td>\n",
       "      <td>0.0</td>\n",
       "      <td>1.151119</td>\n",
       "      <td>0.583815</td>\n",
       "      <td>0.543565</td>\n",
       "      <td>0.169842</td>\n",
       "      <td>0.58144</td>\n",
       "      <td>112.425132</td>\n",
       "      <td>304.724172</td>\n",
       "      <td>3.713097</td>\n",
       "      <td>0.00252</td>\n",
       "      <td>53.432049</td>\n",
       "      <td>26.853255</td>\n",
       "      <td>71.579596</td>\n",
       "      <td>River</td>\n",
       "      <td>Colorless</td>\n",
       "      <td>0</td>\n",
       "    </tr>\n",
       "    <tr>\n",
       "      <th>4</th>\n",
       "      <td>6.738499</td>\n",
       "      <td>0.0</td>\n",
       "      <td>3.481104</td>\n",
       "      <td>225.121948</td>\n",
       "      <td>0.000055</td>\n",
       "      <td>1.494975</td>\n",
       "      <td>0.863283</td>\n",
       "      <td>1.961606</td>\n",
       "      <td>0.492943</td>\n",
       "      <td>2.915724</td>\n",
       "      <td>103.405765</td>\n",
       "      <td>377.043871</td>\n",
       "      <td>1.744797</td>\n",
       "      <td>0.000029</td>\n",
       "      <td>157.238713</td>\n",
       "      <td>9.778199</td>\n",
       "      <td>66.545395</td>\n",
       "      <td>Well</td>\n",
       "      <td>Faint Yellow</td>\n",
       "      <td>0</td>\n",
       "    </tr>\n",
       "  </tbody>\n",
       "</table>\n",
       "</div>\n",
       "    <div class=\"colab-df-buttons\">\n",
       "\n",
       "  <div class=\"colab-df-container\">\n",
       "    <button class=\"colab-df-convert\" onclick=\"convertToInteractive('df-c8d7b12d-db17-431a-abaa-8b623fbd2127')\"\n",
       "            title=\"Convert this dataframe to an interactive table.\"\n",
       "            style=\"display:none;\">\n",
       "\n",
       "  <svg xmlns=\"http://www.w3.org/2000/svg\" height=\"24px\" viewBox=\"0 -960 960 960\">\n",
       "    <path d=\"M120-120v-720h720v720H120Zm60-500h600v-160H180v160Zm220 220h160v-160H400v160Zm0 220h160v-160H400v160ZM180-400h160v-160H180v160Zm440 0h160v-160H620v160ZM180-180h160v-160H180v160Zm440 0h160v-160H620v160Z\"/>\n",
       "  </svg>\n",
       "    </button>\n",
       "\n",
       "  <style>\n",
       "    .colab-df-container {\n",
       "      display:flex;\n",
       "      gap: 12px;\n",
       "    }\n",
       "\n",
       "    .colab-df-convert {\n",
       "      background-color: #E8F0FE;\n",
       "      border: none;\n",
       "      border-radius: 50%;\n",
       "      cursor: pointer;\n",
       "      display: none;\n",
       "      fill: #1967D2;\n",
       "      height: 32px;\n",
       "      padding: 0 0 0 0;\n",
       "      width: 32px;\n",
       "    }\n",
       "\n",
       "    .colab-df-convert:hover {\n",
       "      background-color: #E2EBFA;\n",
       "      box-shadow: 0px 1px 2px rgba(60, 64, 67, 0.3), 0px 1px 3px 1px rgba(60, 64, 67, 0.15);\n",
       "      fill: #174EA6;\n",
       "    }\n",
       "\n",
       "    .colab-df-buttons div {\n",
       "      margin-bottom: 4px;\n",
       "    }\n",
       "\n",
       "    [theme=dark] .colab-df-convert {\n",
       "      background-color: #3B4455;\n",
       "      fill: #D2E3FC;\n",
       "    }\n",
       "\n",
       "    [theme=dark] .colab-df-convert:hover {\n",
       "      background-color: #434B5C;\n",
       "      box-shadow: 0px 1px 3px 1px rgba(0, 0, 0, 0.15);\n",
       "      filter: drop-shadow(0px 1px 2px rgba(0, 0, 0, 0.3));\n",
       "      fill: #FFFFFF;\n",
       "    }\n",
       "  </style>\n",
       "\n",
       "    <script>\n",
       "      const buttonEl =\n",
       "        document.querySelector('#df-c8d7b12d-db17-431a-abaa-8b623fbd2127 button.colab-df-convert');\n",
       "      buttonEl.style.display =\n",
       "        google.colab.kernel.accessAllowed ? 'block' : 'none';\n",
       "\n",
       "      async function convertToInteractive(key) {\n",
       "        const element = document.querySelector('#df-c8d7b12d-db17-431a-abaa-8b623fbd2127');\n",
       "        const dataTable =\n",
       "          await google.colab.kernel.invokeFunction('convertToInteractive',\n",
       "                                                    [key], {});\n",
       "        if (!dataTable) return;\n",
       "\n",
       "        const docLinkHtml = 'Like what you see? Visit the ' +\n",
       "          '<a target=\"_blank\" href=https://colab.research.google.com/notebooks/data_table.ipynb>data table notebook</a>'\n",
       "          + ' to learn more about interactive tables.';\n",
       "        element.innerHTML = '';\n",
       "        dataTable['output_type'] = 'display_data';\n",
       "        await google.colab.output.renderOutput(dataTable, element);\n",
       "        const docLink = document.createElement('div');\n",
       "        docLink.innerHTML = docLinkHtml;\n",
       "        element.appendChild(docLink);\n",
       "      }\n",
       "    </script>\n",
       "  </div>\n",
       "\n",
       "\n",
       "    <div id=\"df-ff91ab0c-7b9c-4914-8698-ce3308ad08b7\">\n",
       "      <button class=\"colab-df-quickchart\" onclick=\"quickchart('df-ff91ab0c-7b9c-4914-8698-ce3308ad08b7')\"\n",
       "                title=\"Suggest charts\"\n",
       "                style=\"display:none;\">\n",
       "\n",
       "<svg xmlns=\"http://www.w3.org/2000/svg\" height=\"24px\"viewBox=\"0 0 24 24\"\n",
       "     width=\"24px\">\n",
       "    <g>\n",
       "        <path d=\"M19 3H5c-1.1 0-2 .9-2 2v14c0 1.1.9 2 2 2h14c1.1 0 2-.9 2-2V5c0-1.1-.9-2-2-2zM9 17H7v-7h2v7zm4 0h-2V7h2v10zm4 0h-2v-4h2v4z\"/>\n",
       "    </g>\n",
       "</svg>\n",
       "      </button>\n",
       "\n",
       "<style>\n",
       "  .colab-df-quickchart {\n",
       "      --bg-color: #E8F0FE;\n",
       "      --fill-color: #1967D2;\n",
       "      --hover-bg-color: #E2EBFA;\n",
       "      --hover-fill-color: #174EA6;\n",
       "      --disabled-fill-color: #AAA;\n",
       "      --disabled-bg-color: #DDD;\n",
       "  }\n",
       "\n",
       "  [theme=dark] .colab-df-quickchart {\n",
       "      --bg-color: #3B4455;\n",
       "      --fill-color: #D2E3FC;\n",
       "      --hover-bg-color: #434B5C;\n",
       "      --hover-fill-color: #FFFFFF;\n",
       "      --disabled-bg-color: #3B4455;\n",
       "      --disabled-fill-color: #666;\n",
       "  }\n",
       "\n",
       "  .colab-df-quickchart {\n",
       "    background-color: var(--bg-color);\n",
       "    border: none;\n",
       "    border-radius: 50%;\n",
       "    cursor: pointer;\n",
       "    display: none;\n",
       "    fill: var(--fill-color);\n",
       "    height: 32px;\n",
       "    padding: 0;\n",
       "    width: 32px;\n",
       "  }\n",
       "\n",
       "  .colab-df-quickchart:hover {\n",
       "    background-color: var(--hover-bg-color);\n",
       "    box-shadow: 0 1px 2px rgba(60, 64, 67, 0.3), 0 1px 3px 1px rgba(60, 64, 67, 0.15);\n",
       "    fill: var(--button-hover-fill-color);\n",
       "  }\n",
       "\n",
       "  .colab-df-quickchart-complete:disabled,\n",
       "  .colab-df-quickchart-complete:disabled:hover {\n",
       "    background-color: var(--disabled-bg-color);\n",
       "    fill: var(--disabled-fill-color);\n",
       "    box-shadow: none;\n",
       "  }\n",
       "\n",
       "  .colab-df-spinner {\n",
       "    border: 2px solid var(--fill-color);\n",
       "    border-color: transparent;\n",
       "    border-bottom-color: var(--fill-color);\n",
       "    animation:\n",
       "      spin 1s steps(1) infinite;\n",
       "  }\n",
       "\n",
       "  @keyframes spin {\n",
       "    0% {\n",
       "      border-color: transparent;\n",
       "      border-bottom-color: var(--fill-color);\n",
       "      border-left-color: var(--fill-color);\n",
       "    }\n",
       "    20% {\n",
       "      border-color: transparent;\n",
       "      border-left-color: var(--fill-color);\n",
       "      border-top-color: var(--fill-color);\n",
       "    }\n",
       "    30% {\n",
       "      border-color: transparent;\n",
       "      border-left-color: var(--fill-color);\n",
       "      border-top-color: var(--fill-color);\n",
       "      border-right-color: var(--fill-color);\n",
       "    }\n",
       "    40% {\n",
       "      border-color: transparent;\n",
       "      border-right-color: var(--fill-color);\n",
       "      border-top-color: var(--fill-color);\n",
       "    }\n",
       "    60% {\n",
       "      border-color: transparent;\n",
       "      border-right-color: var(--fill-color);\n",
       "    }\n",
       "    80% {\n",
       "      border-color: transparent;\n",
       "      border-right-color: var(--fill-color);\n",
       "      border-bottom-color: var(--fill-color);\n",
       "    }\n",
       "    90% {\n",
       "      border-color: transparent;\n",
       "      border-bottom-color: var(--fill-color);\n",
       "    }\n",
       "  }\n",
       "</style>\n",
       "\n",
       "      <script>\n",
       "        async function quickchart(key) {\n",
       "          const quickchartButtonEl =\n",
       "            document.querySelector('#' + key + ' button');\n",
       "          quickchartButtonEl.disabled = true;  // To prevent multiple clicks.\n",
       "          quickchartButtonEl.classList.add('colab-df-spinner');\n",
       "          try {\n",
       "            const charts = await google.colab.kernel.invokeFunction(\n",
       "                'suggestCharts', [key], {});\n",
       "          } catch (error) {\n",
       "            console.error('Error during call to suggestCharts:', error);\n",
       "          }\n",
       "          quickchartButtonEl.classList.remove('colab-df-spinner');\n",
       "          quickchartButtonEl.classList.add('colab-df-quickchart-complete');\n",
       "        }\n",
       "        (() => {\n",
       "          let quickchartButtonEl =\n",
       "            document.querySelector('#df-ff91ab0c-7b9c-4914-8698-ce3308ad08b7 button');\n",
       "          quickchartButtonEl.style.display =\n",
       "            google.colab.kernel.accessAllowed ? 'block' : 'none';\n",
       "        })();\n",
       "      </script>\n",
       "    </div>\n",
       "\n",
       "    </div>\n",
       "  </div>\n"
      ],
      "text/plain": [
       "     pH_num  Iron_num Nitrate_num Chloride_num  Lead_num  Zinc_num  \\\n",
       "0  7.034305       0.0    2.859233   132.125438       0.0   2.15238   \n",
       "1  6.599581       0.0    5.371393   199.138779       0.0  1.552503   \n",
       "2  7.670866  0.000009    1.156363   245.548989       0.0   0.60869   \n",
       "3  8.024941  0.086645    3.146721   174.001989       0.0  1.151119   \n",
       "4  6.738499       0.0    3.481104   225.121948  0.000055  1.494975   \n",
       "\n",
       "  Turbidity_num Fluoride_num Copper_num  Odor_num Sulfate_num  \\\n",
       "0      1.377299      1.55136   0.095312  2.927038  335.357965   \n",
       "1      0.071201     1.776722   0.420041  1.569571  199.562148   \n",
       "2      0.428635     0.506733   0.234863  2.942056   79.666497   \n",
       "3      0.583815     0.543565   0.169842   0.58144  112.425132   \n",
       "4      0.863283     1.961606   0.492943  2.915724  103.405765   \n",
       "\n",
       "  Conductivity_num Chlorine_num Manganese_num Total_Dissolved_Solids_num  \\\n",
       "0       344.015095     3.756497      0.000332                 504.928844   \n",
       "1       421.907595     3.922976      0.021912                 403.644429   \n",
       "2       499.280918     3.755862      0.002062                  391.64219   \n",
       "3       304.724172     3.713097       0.00252                  53.432049   \n",
       "4       377.043871     1.744797      0.000029                 157.238713   \n",
       "\n",
       "  Water_Temperature_num Air_Temperature_num Source_nom       Color_ord  \\\n",
       "0              7.116495           72.255851  Reservoir    Light Yellow   \n",
       "1             23.035464           26.433255     Spring  Near Colorless   \n",
       "2              5.728718           54.360327     Spring       Colorless   \n",
       "3             26.853255           71.579596      River       Colorless   \n",
       "4              9.778199           66.545395       Well    Faint Yellow   \n",
       "\n",
       "  Target_target  \n",
       "0             1  \n",
       "1             0  \n",
       "2             0  \n",
       "3             0  \n",
       "4             0  "
      ]
     },
     "execution_count": 40,
     "metadata": {},
     "output_type": "execute_result"
    }
   ],
   "source": [
    "preprocessor = ColumnTransformer(\n",
    "    transformers=[\n",
    "        (\"num\", SimpleImputer(strategy=\"mean\"), numeric_cols),\n",
    "        (\"numCat\", SimpleImputer(strategy=\"most_frequent\"), numericCat_cols),\n",
    "        (\"cat\", SimpleImputer(strategy=\"most_frequent\"), cat_cols),\n",
    "        (\"target\", SimpleImputer(strategy=\"most_frequent\"), [target_col]),\n",
    "    ]\n",
    ")\n",
    "\n",
    "df = preprocessor.fit_transform(df)\n",
    "\n",
    "df = pd.DataFrame(\n",
    "    df, columns=numeric_cols + numericCat_cols + cat_cols + [target_col]\n",
    ")\n",
    "\n",
    "df.head()\n"
   ]
  },
  {
   "cell_type": "markdown",
   "metadata": {
    "id": "WFhO9esKuAko"
   },
   "source": [
    "# Chuyển đổi các cột về đúng kiểu dữ liệu\n"
   ]
  },
  {
   "cell_type": "code",
   "execution_count": null,
   "metadata": {
    "colab": {
     "base_uri": "https://localhost:8080/"
    },
    "executionInfo": {
     "elapsed": 351,
     "status": "ok",
     "timestamp": 1746181601988,
     "user": {
      "displayName": "andong giao",
      "userId": "08579771938911194368"
     },
     "user_tz": -420
    },
    "id": "NhxCJfYCuAkp",
    "outputId": "2be6f4ea-c35a-43cf-dfad-d2678894b3a9"
   },
   "outputs": [
    {
     "name": "stdout",
     "output_type": "stream",
     "text": [
      "<class 'pandas.core.frame.DataFrame'>\n",
      "RangeIndex: 179174 entries, 0 to 179173\n",
      "Data columns (total 20 columns):\n",
      " #   Column                      Non-Null Count   Dtype   \n",
      "---  ------                      --------------   -----   \n",
      " 0   pH_num                      179174 non-null  float32 \n",
      " 1   Iron_num                    179174 non-null  float32 \n",
      " 2   Nitrate_num                 179174 non-null  float32 \n",
      " 3   Chloride_num                179174 non-null  float32 \n",
      " 4   Lead_num                    179174 non-null  float32 \n",
      " 5   Zinc_num                    179174 non-null  float32 \n",
      " 6   Turbidity_num               179174 non-null  float32 \n",
      " 7   Fluoride_num                179174 non-null  float32 \n",
      " 8   Copper_num                  179174 non-null  float32 \n",
      " 9   Odor_num                    179174 non-null  float32 \n",
      " 10  Sulfate_num                 179174 non-null  float32 \n",
      " 11  Conductivity_num            179174 non-null  float32 \n",
      " 12  Chlorine_num                179174 non-null  float32 \n",
      " 13  Manganese_num               179174 non-null  float32 \n",
      " 14  Total_Dissolved_Solids_num  179174 non-null  float32 \n",
      " 15  Water_Temperature_num       179174 non-null  float32 \n",
      " 16  Air_Temperature_num         179174 non-null  float32 \n",
      " 17  Source_nom                  179174 non-null  category\n",
      " 18  Color_ord                   179174 non-null  category\n",
      " 19  Target_target               179174 non-null  category\n",
      "dtypes: category(3), float32(17)\n",
      "memory usage: 12.1 MB\n"
     ]
    }
   ],
   "source": [
    "df[numeric_cols] = df[numeric_cols].astype(\"float32\")\n",
    "df[numericCat_cols] = df[numericCat_cols].astype(\"float32\")\n",
    "df[cat_cols] = df[cat_cols].astype(\"category\")\n",
    "df[target_col] = df[target_col].astype(\"category\")\n",
    "\n",
    "df.info()\n"
   ]
  },
  {
   "cell_type": "code",
   "execution_count": null,
   "metadata": {
    "colab": {
     "base_uri": "https://localhost:8080/"
    },
    "executionInfo": {
     "elapsed": 13,
     "status": "ok",
     "timestamp": 1746181615008,
     "user": {
      "displayName": "andong giao",
      "userId": "08579771938911194368"
     },
     "user_tz": -420
    },
    "id": "Y7iOyM--RdDL",
    "outputId": "d12a6e88-7506-4706-b08b-932094dcd878"
   },
   "outputs": [
    {
     "data": {
      "text/plain": [
       "Index([0, 1], dtype='int64')"
      ]
     },
     "execution_count": 42,
     "metadata": {},
     "output_type": "execute_result"
    }
   ],
   "source": [
    "df['Target_target'].cat.categories"
   ]
  },
  {
   "cell_type": "markdown",
   "metadata": {
    "id": "HAb1yixEuAkq"
   },
   "source": [
    "# Loại bỏ duplicates\n"
   ]
  },
  {
   "cell_type": "code",
   "execution_count": null,
   "metadata": {
    "colab": {
     "base_uri": "https://localhost:8080/"
    },
    "executionInfo": {
     "elapsed": 602,
     "status": "ok",
     "timestamp": 1746181634199,
     "user": {
      "displayName": "andong giao",
      "userId": "08579771938911194368"
     },
     "user_tz": -420
    },
    "id": "IplkWKgduAkq",
    "outputId": "5856dcfc-0483-4904-9998-ef3ade2261b2"
   },
   "outputs": [
    {
     "name": "stdout",
     "output_type": "stream",
     "text": [
      "Tỉ lệ duplicates: 0.45877192003304046\n"
     ]
    }
   ],
   "source": [
    "print(f\"Tỉ lệ duplicates: {len(df.index[df.duplicated()]) / len(df.index) * 100}\")\n",
    "df = df.drop_duplicates().reset_index(drop=True)"
   ]
  },
  {
   "cell_type": "code",
   "execution_count": null,
   "metadata": {
    "colab": {
     "base_uri": "https://localhost:8080/"
    },
    "executionInfo": {
     "elapsed": 47,
     "status": "ok",
     "timestamp": 1746181640349,
     "user": {
      "displayName": "andong giao",
      "userId": "08579771938911194368"
     },
     "user_tz": -420
    },
    "id": "Fzcisa43TXYn",
    "outputId": "7634a105-e29c-4a1a-d120-96c9a0e75363"
   },
   "outputs": [
    {
     "data": {
      "text/plain": [
       "(178352, 20)"
      ]
     },
     "execution_count": 44,
     "metadata": {},
     "output_type": "execute_result"
    }
   ],
   "source": [
    "df.shape"
   ]
  },
  {
   "cell_type": "markdown",
   "metadata": {
    "id": "2AtNvDMnuAkp"
   },
   "source": [
    "# Chuẩn bị thứ tự cho các cột `ordinal`, `binary`\n"
   ]
  },
  {
   "cell_type": "code",
   "execution_count": null,
   "metadata": {
    "colab": {
     "base_uri": "https://localhost:8080/"
    },
    "executionInfo": {
     "elapsed": 6,
     "status": "ok",
     "timestamp": 1746181646467,
     "user": {
      "displayName": "andong giao",
      "userId": "08579771938911194368"
     },
     "user_tz": -420
    },
    "id": "2qsWGhRLVKEU",
    "outputId": "663a9722-8a2f-4f7e-a481-ce7ac5b4384c"
   },
   "outputs": [
    {
     "data": {
      "text/plain": [
       "['Color_ord']"
      ]
     },
     "execution_count": 45,
     "metadata": {},
     "output_type": "execute_result"
    }
   ],
   "source": [
    "binary_cols + ordinal_cols"
   ]
  },
  {
   "cell_type": "code",
   "execution_count": null,
   "metadata": {
    "colab": {
     "base_uri": "https://localhost:8080/"
    },
    "executionInfo": {
     "elapsed": 27,
     "status": "ok",
     "timestamp": 1746181651122,
     "user": {
      "displayName": "andong giao",
      "userId": "08579771938911194368"
     },
     "user_tz": -420
    },
    "id": "wMTX1hVutCPg",
    "outputId": "d0eede4a-f2b3-439e-e4c3-05e36db3bea3"
   },
   "outputs": [
    {
     "data": {
      "text/plain": [
       "['Light Yellow', 'Near Colorless', 'Colorless', 'Faint Yellow', 'Yellow']"
      ]
     },
     "execution_count": 46,
     "metadata": {},
     "output_type": "execute_result"
    }
   ],
   "source": [
    "a = df['Color_ord'].unique().tolist()\n",
    "a"
   ]
  },
  {
   "cell_type": "code",
   "execution_count": null,
   "metadata": {
    "id": "liyDhnrAuAkp"
   },
   "outputs": [],
   "source": [
    "feature_ordinal_dict = {\n",
    "    \"Color_ord\": ['Colorless','Near Colorless', 'Faint Yellow',  'Light Yellow','Yellow'],\n",
    "}"
   ]
  },
  {
   "cell_type": "markdown",
   "metadata": {},
   "source": [
    "# Các tham số"
   ]
  },
  {
   "cell_type": "code",
   "execution_count": null,
   "metadata": {},
   "outputs": [],
   "source": [
    "data_correction_name = \"dc1\""
   ]
  },
  {
   "cell_type": "markdown",
   "metadata": {},
   "source": [
    "# Run"
   ]
  },
  {
   "cell_type": "code",
   "execution_count": null,
   "metadata": {},
   "outputs": [],
   "source": [
    "# Các tham số \n",
    "train_data_path = \"artifacts/data_ingestion/train_data.pkl\"\n",
    "data_correction_path = f\"artifacts/data_correction/{data_correction_name}\"\n",
    "\n",
    "# Tạo thư mục\n",
    "myfuncs.create_directories([data_correction_path])\n",
    "\n",
    "# Load data \n",
    "df_train = myfuncs.load_python_object(train_data_path)    \n",
    "\n",
    "# Tạo transformer\n",
    "transformer = Pipeline(\n",
    "    steps=[\n",
    "        (\"1\", dc1.BeforeTransformer()),\n",
    "        (\"2\", dc1.MissingValueHandler()),\n",
    "        (\"3\", dc1.AfterTransformer()),\n",
    "    ]\n",
    ")\n",
    "\n",
    "# Correct data \n",
    "df_train_transformed = transformer.fit_transform(df_train)\n",
    "\n",
    "# Lưu data\n",
    "dc.save_data_for_data_correction(data_correction_path, transformer, df_train_transformed, feature_ordinal_dict)\n"
   ]
  }
 ],
 "metadata": {
  "colab": {
   "provenance": [],
   "toc_visible": true
  },
  "kernelspec": {
   "display_name": "Python 3",
   "name": "python3"
  },
  "language_info": {
   "name": "python"
  }
 },
 "nbformat": 4,
 "nbformat_minor": 0
}
