{
 "cells": [
  {
   "cell_type": "markdown",
   "metadata": {
    "id": "nVXnaCoXsNM0"
   },
   "source": [
    "# Set up"
   ]
  },
  {
   "cell_type": "code",
   "execution_count": null,
   "metadata": {
    "colab": {
     "base_uri": "https://localhost:8080/"
    },
    "executionInfo": {
     "elapsed": 8155,
     "status": "ok",
     "timestamp": 1746180897293,
     "user": {
      "displayName": "andong giao",
      "userId": "08579771938911194368"
     },
     "user_tz": -420
    },
    "id": "ntlFUnqz4C8L",
    "outputId": "e3c25216-d598-484d-eef7-b17b154cf1ed"
   },
   "outputs": [
    {
     "name": "stdout",
     "output_type": "stream",
     "text": [
      "Drive already mounted at /content/drive; to attempt to forcibly remount, call drive.mount(\"/content/drive\", force_remount=True).\n",
      "/content/drive/MyDrive/water_quality_predictor\n",
      "Already up to date.\n"
     ]
    }
   ],
   "source": [
    "project_folder = \"/content/drive/MyDrive/water_quality_predictor\"\n",
    "\n",
    "from google.colab import drive\n",
    "drive.mount('/content/drive')\n",
    "\n",
    "%cd \"{project_folder}\"\n",
    "!git pull"
   ]
  },
  {
   "cell_type": "markdown",
   "metadata": {
    "id": "PEue1Uv9RgT1"
   },
   "source": [
    "# Cài đặt môi trường"
   ]
  },
  {
   "cell_type": "code",
   "execution_count": null,
   "metadata": {
    "colab": {
     "base_uri": "https://localhost:8080/"
    },
    "executionInfo": {
     "elapsed": 19250,
     "status": "ok",
     "timestamp": 1746178543274,
     "user": {
      "displayName": "andong giao",
      "userId": "08579771938911194368"
     },
     "user_tz": -420
    },
    "id": "8JqHe9GvRiqu",
    "outputId": "c66b4e40-66d5-404d-f1b6-d97228780eee"
   },
   "outputs": [
    {
     "name": "stdout",
     "output_type": "stream",
     "text": [
      "Already up to date.\n",
      "Obtaining file:///content/drive/MyDrive/water_quality_predictor (from -r requirements.txt (line 17))\n",
      "  Preparing metadata (setup.py) ... \u001b[?25l\u001b[?25hdone\n",
      "Requirement already satisfied: pandas in /usr/local/lib/python3.11/dist-packages (from -r requirements.txt (line 1)) (2.2.2)\n",
      "Requirement already satisfied: plotly in /usr/local/lib/python3.11/dist-packages (from -r requirements.txt (line 2)) (5.24.1)\n",
      "Requirement already satisfied: numpy==1.26.4 in /usr/local/lib/python3.11/dist-packages (from -r requirements.txt (line 3)) (1.26.4)\n",
      "Requirement already satisfied: dvc in /usr/local/lib/python3.11/dist-packages (from -r requirements.txt (line 4)) (3.59.1)\n",
      "Requirement already satisfied: matplotlib in /usr/local/lib/python3.11/dist-packages (from -r requirements.txt (line 5)) (3.10.0)\n",
      "Requirement already satisfied: notebook in /usr/local/lib/python3.11/dist-packages (from -r requirements.txt (line 6)) (6.5.7)\n",
      "Requirement already satisfied: scikit-learn==1.3.0 in /usr/local/lib/python3.11/dist-packages (from -r requirements.txt (line 7)) (1.3.0)\n",
      "Requirement already satisfied: python-box==6.0.2 in /usr/local/lib/python3.11/dist-packages (from -r requirements.txt (line 8)) (6.0.2)\n",
      "Requirement already satisfied: pyYAML in /usr/local/lib/python3.11/dist-packages (from -r requirements.txt (line 9)) (6.0.2)\n",
      "Requirement already satisfied: types-PyYAML in /usr/local/lib/python3.11/dist-packages (from -r requirements.txt (line 10)) (6.0.12.20250402)\n",
      "Requirement already satisfied: seaborn in /usr/local/lib/python3.11/dist-packages (from -r requirements.txt (line 11)) (0.13.2)\n",
      "Requirement already satisfied: xgboost in /usr/local/lib/python3.11/dist-packages (from -r requirements.txt (line 12)) (2.1.4)\n",
      "Requirement already satisfied: lightgbm in /usr/local/lib/python3.11/dist-packages (from -r requirements.txt (line 13)) (4.5.0)\n",
      "Requirement already satisfied: imbalanced-learn in /usr/local/lib/python3.11/dist-packages (from -r requirements.txt (line 14)) (0.12.4)\n",
      "Requirement already satisfied: scipy in /usr/local/lib/python3.11/dist-packages (from -r requirements.txt (line 15)) (1.15.2)\n",
      "Requirement already satisfied: zzzz_mylib_23_4==0.53 in /usr/local/lib/python3.11/dist-packages (from -r requirements.txt (line 16)) (0.53)\n",
      "Requirement already satisfied: joblib>=1.1.1 in /usr/local/lib/python3.11/dist-packages (from scikit-learn==1.3.0->-r requirements.txt (line 7)) (1.4.2)\n",
      "Requirement already satisfied: threadpoolctl>=2.0.0 in /usr/local/lib/python3.11/dist-packages (from scikit-learn==1.3.0->-r requirements.txt (line 7)) (3.6.0)\n",
      "Requirement already satisfied: python-dateutil>=2.8.2 in /usr/local/lib/python3.11/dist-packages (from pandas->-r requirements.txt (line 1)) (2.9.0.post0)\n",
      "Requirement already satisfied: pytz>=2020.1 in /usr/local/lib/python3.11/dist-packages (from pandas->-r requirements.txt (line 1)) (2025.2)\n",
      "Requirement already satisfied: tzdata>=2022.7 in /usr/local/lib/python3.11/dist-packages (from pandas->-r requirements.txt (line 1)) (2025.2)\n",
      "Requirement already satisfied: tenacity>=6.2.0 in /usr/local/lib/python3.11/dist-packages (from plotly->-r requirements.txt (line 2)) (9.1.2)\n",
      "Requirement already satisfied: packaging in /usr/local/lib/python3.11/dist-packages (from plotly->-r requirements.txt (line 2)) (24.2)\n",
      "Requirement already satisfied: attrs>=22.2.0 in /usr/local/lib/python3.11/dist-packages (from dvc->-r requirements.txt (line 4)) (25.3.0)\n",
      "Requirement already satisfied: celery in /usr/local/lib/python3.11/dist-packages (from dvc->-r requirements.txt (line 4)) (5.5.2)\n",
      "Requirement already satisfied: colorama>=0.3.9 in /usr/local/lib/python3.11/dist-packages (from dvc->-r requirements.txt (line 4)) (0.4.6)\n",
      "Requirement already satisfied: configobj>=5.0.9 in /usr/local/lib/python3.11/dist-packages (from dvc->-r requirements.txt (line 4)) (5.0.9)\n",
      "Requirement already satisfied: distro>=1.3 in /usr/local/lib/python3.11/dist-packages (from dvc->-r requirements.txt (line 4)) (1.9.0)\n",
      "Requirement already satisfied: dpath<3,>=2.1.0 in /usr/local/lib/python3.11/dist-packages (from dvc->-r requirements.txt (line 4)) (2.2.0)\n",
      "Requirement already satisfied: dulwich in /usr/local/lib/python3.11/dist-packages (from dvc->-r requirements.txt (line 4)) (0.22.8)\n",
      "Requirement already satisfied: dvc-data<3.17,>=3.16.2 in /usr/local/lib/python3.11/dist-packages (from dvc->-r requirements.txt (line 4)) (3.16.10)\n",
      "Requirement already satisfied: dvc-http>=2.29.0 in /usr/local/lib/python3.11/dist-packages (from dvc->-r requirements.txt (line 4)) (2.32.0)\n",
      "Requirement already satisfied: dvc-objects in /usr/local/lib/python3.11/dist-packages (from dvc->-r requirements.txt (line 4)) (5.1.0)\n",
      "Requirement already satisfied: dvc-render<2,>=1.0.1 in /usr/local/lib/python3.11/dist-packages (from dvc->-r requirements.txt (line 4)) (1.0.2)\n",
      "Requirement already satisfied: dvc-studio-client<1,>=0.21 in /usr/local/lib/python3.11/dist-packages (from dvc->-r requirements.txt (line 4)) (0.21.0)\n",
      "Requirement already satisfied: dvc-task<1,>=0.3.0 in /usr/local/lib/python3.11/dist-packages (from dvc->-r requirements.txt (line 4)) (0.40.2)\n",
      "Requirement already satisfied: flatten_dict<1,>=0.4.1 in /usr/local/lib/python3.11/dist-packages (from dvc->-r requirements.txt (line 4)) (0.4.2)\n",
      "Requirement already satisfied: flufl.lock<9,>=8.1.0 in /usr/local/lib/python3.11/dist-packages (from dvc->-r requirements.txt (line 4)) (8.1.0)\n",
      "Requirement already satisfied: fsspec>=2024.2.0 in /usr/local/lib/python3.11/dist-packages (from dvc->-r requirements.txt (line 4)) (2025.3.2)\n",
      "Requirement already satisfied: funcy>=1.14 in /usr/local/lib/python3.11/dist-packages (from dvc->-r requirements.txt (line 4)) (2.0)\n",
      "Requirement already satisfied: grandalf<1,>=0.7 in /usr/local/lib/python3.11/dist-packages (from dvc->-r requirements.txt (line 4)) (0.8)\n",
      "Requirement already satisfied: gto<2,>=1.6.0 in /usr/local/lib/python3.11/dist-packages (from dvc->-r requirements.txt (line 4)) (1.7.2)\n",
      "Requirement already satisfied: hydra-core>=1.1 in /usr/local/lib/python3.11/dist-packages (from dvc->-r requirements.txt (line 4)) (1.3.2)\n",
      "Requirement already satisfied: iterative-telemetry>=0.0.7 in /usr/local/lib/python3.11/dist-packages (from dvc->-r requirements.txt (line 4)) (0.0.10)\n",
      "Requirement already satisfied: kombu in /usr/local/lib/python3.11/dist-packages (from dvc->-r requirements.txt (line 4)) (5.5.3)\n",
      "Requirement already satisfied: networkx>=2.5 in /usr/local/lib/python3.11/dist-packages (from dvc->-r requirements.txt (line 4)) (3.4.2)\n",
      "Requirement already satisfied: omegaconf in /usr/local/lib/python3.11/dist-packages (from dvc->-r requirements.txt (line 4)) (2.3.0)\n",
      "Requirement already satisfied: pathspec>=0.10.3 in /usr/local/lib/python3.11/dist-packages (from dvc->-r requirements.txt (line 4)) (0.12.1)\n",
      "Requirement already satisfied: platformdirs<5,>=3.1.1 in /usr/local/lib/python3.11/dist-packages (from dvc->-r requirements.txt (line 4)) (4.3.7)\n",
      "Requirement already satisfied: psutil>=5.8 in /usr/local/lib/python3.11/dist-packages (from dvc->-r requirements.txt (line 4)) (5.9.5)\n",
      "Requirement already satisfied: pydot>=1.2.4 in /usr/local/lib/python3.11/dist-packages (from dvc->-r requirements.txt (line 4)) (3.0.4)\n",
      "Requirement already satisfied: pygtrie>=2.3.2 in /usr/local/lib/python3.11/dist-packages (from dvc->-r requirements.txt (line 4)) (2.5.0)\n",
      "Requirement already satisfied: pyparsing>=2.4.7 in /usr/local/lib/python3.11/dist-packages (from dvc->-r requirements.txt (line 4)) (3.2.3)\n",
      "Requirement already satisfied: requests>=2.22 in /usr/local/lib/python3.11/dist-packages (from dvc->-r requirements.txt (line 4)) (2.32.3)\n",
      "Requirement already satisfied: rich>=12 in /usr/local/lib/python3.11/dist-packages (from dvc->-r requirements.txt (line 4)) (13.9.4)\n",
      "Requirement already satisfied: ruamel.yaml>=0.17.11 in /usr/local/lib/python3.11/dist-packages (from dvc->-r requirements.txt (line 4)) (0.18.10)\n",
      "Requirement already satisfied: scmrepo<4,>=3.3.8 in /usr/local/lib/python3.11/dist-packages (from dvc->-r requirements.txt (line 4)) (3.3.11)\n",
      "Requirement already satisfied: shortuuid>=0.5 in /usr/local/lib/python3.11/dist-packages (from dvc->-r requirements.txt (line 4)) (1.0.13)\n",
      "Requirement already satisfied: shtab<2,>=1.3.4 in /usr/local/lib/python3.11/dist-packages (from dvc->-r requirements.txt (line 4)) (1.7.2)\n",
      "Requirement already satisfied: tabulate>=0.8.7 in /usr/local/lib/python3.11/dist-packages (from dvc->-r requirements.txt (line 4)) (0.9.0)\n",
      "Requirement already satisfied: tomlkit>=0.11.1 in /usr/local/lib/python3.11/dist-packages (from dvc->-r requirements.txt (line 4)) (0.13.2)\n",
      "Requirement already satisfied: tqdm<5,>=4.63.1 in /usr/local/lib/python3.11/dist-packages (from dvc->-r requirements.txt (line 4)) (4.67.1)\n",
      "Requirement already satisfied: voluptuous>=0.11.7 in /usr/local/lib/python3.11/dist-packages (from dvc->-r requirements.txt (line 4)) (0.15.2)\n",
      "Requirement already satisfied: zc.lockfile>=1.2.1 in /usr/local/lib/python3.11/dist-packages (from dvc->-r requirements.txt (line 4)) (3.0.post1)\n",
      "Requirement already satisfied: contourpy>=1.0.1 in /usr/local/lib/python3.11/dist-packages (from matplotlib->-r requirements.txt (line 5)) (1.3.2)\n",
      "Requirement already satisfied: cycler>=0.10 in /usr/local/lib/python3.11/dist-packages (from matplotlib->-r requirements.txt (line 5)) (0.12.1)\n",
      "Requirement already satisfied: fonttools>=4.22.0 in /usr/local/lib/python3.11/dist-packages (from matplotlib->-r requirements.txt (line 5)) (4.57.0)\n",
      "Requirement already satisfied: kiwisolver>=1.3.1 in /usr/local/lib/python3.11/dist-packages (from matplotlib->-r requirements.txt (line 5)) (1.4.8)\n",
      "Requirement already satisfied: pillow>=8 in /usr/local/lib/python3.11/dist-packages (from matplotlib->-r requirements.txt (line 5)) (11.2.1)\n",
      "Requirement already satisfied: jinja2 in /usr/local/lib/python3.11/dist-packages (from notebook->-r requirements.txt (line 6)) (3.1.6)\n",
      "Requirement already satisfied: tornado>=6.1 in /usr/local/lib/python3.11/dist-packages (from notebook->-r requirements.txt (line 6)) (6.4.2)\n",
      "Requirement already satisfied: pyzmq>=17 in /usr/local/lib/python3.11/dist-packages (from notebook->-r requirements.txt (line 6)) (24.0.1)\n",
      "Requirement already satisfied: argon2-cffi in /usr/local/lib/python3.11/dist-packages (from notebook->-r requirements.txt (line 6)) (23.1.0)\n",
      "Requirement already satisfied: traitlets>=4.2.1 in /usr/local/lib/python3.11/dist-packages (from notebook->-r requirements.txt (line 6)) (5.7.1)\n",
      "Requirement already satisfied: jupyter-core>=4.6.1 in /usr/local/lib/python3.11/dist-packages (from notebook->-r requirements.txt (line 6)) (5.7.2)\n",
      "Requirement already satisfied: jupyter-client<8,>=5.3.4 in /usr/local/lib/python3.11/dist-packages (from notebook->-r requirements.txt (line 6)) (6.1.12)\n",
      "Requirement already satisfied: ipython-genutils in /usr/local/lib/python3.11/dist-packages (from notebook->-r requirements.txt (line 6)) (0.2.0)\n",
      "Requirement already satisfied: nbformat in /usr/local/lib/python3.11/dist-packages (from notebook->-r requirements.txt (line 6)) (5.10.4)\n",
      "Requirement already satisfied: nbconvert>=5 in /usr/local/lib/python3.11/dist-packages (from notebook->-r requirements.txt (line 6)) (7.16.6)\n",
      "Requirement already satisfied: nest-asyncio>=1.5 in /usr/local/lib/python3.11/dist-packages (from notebook->-r requirements.txt (line 6)) (1.6.0)\n",
      "Requirement already satisfied: ipykernel in /usr/local/lib/python3.11/dist-packages (from notebook->-r requirements.txt (line 6)) (6.17.1)\n",
      "Requirement already satisfied: Send2Trash>=1.8.0 in /usr/local/lib/python3.11/dist-packages (from notebook->-r requirements.txt (line 6)) (1.8.3)\n",
      "Requirement already satisfied: terminado>=0.8.3 in /usr/local/lib/python3.11/dist-packages (from notebook->-r requirements.txt (line 6)) (0.18.1)\n",
      "Requirement already satisfied: prometheus-client in /usr/local/lib/python3.11/dist-packages (from notebook->-r requirements.txt (line 6)) (0.21.1)\n",
      "Requirement already satisfied: nbclassic>=0.4.7 in /usr/local/lib/python3.11/dist-packages (from notebook->-r requirements.txt (line 6)) (1.3.0)\n",
      "Requirement already satisfied: nvidia-nccl-cu12 in /usr/local/lib/python3.11/dist-packages (from xgboost->-r requirements.txt (line 12)) (2.21.5)\n",
      "Requirement already satisfied: dictdiffer>=0.8.1 in /usr/local/lib/python3.11/dist-packages (from dvc-data<3.17,>=3.16.2->dvc->-r requirements.txt (line 4)) (0.9.0)\n",
      "Requirement already satisfied: diskcache>=5.2.1 in /usr/local/lib/python3.11/dist-packages (from dvc-data<3.17,>=3.16.2->dvc->-r requirements.txt (line 4)) (5.6.3)\n",
      "Requirement already satisfied: sqltrie<1,>=0.11.0 in /usr/local/lib/python3.11/dist-packages (from dvc-data<3.17,>=3.16.2->dvc->-r requirements.txt (line 4)) (0.11.2)\n",
      "Requirement already satisfied: orjson<4,>=3 in /usr/local/lib/python3.11/dist-packages (from dvc-data<3.17,>=3.16.2->dvc->-r requirements.txt (line 4)) (3.10.17)\n",
      "Requirement already satisfied: aiohttp-retry>=2.5.0 in /usr/local/lib/python3.11/dist-packages (from dvc-http>=2.29.0->dvc->-r requirements.txt (line 4)) (2.9.1)\n",
      "Requirement already satisfied: billiard<5.0,>=4.2.1 in /usr/local/lib/python3.11/dist-packages (from celery->dvc->-r requirements.txt (line 4)) (4.2.1)\n",
      "Requirement already satisfied: vine<6.0,>=5.1.0 in /usr/local/lib/python3.11/dist-packages (from celery->dvc->-r requirements.txt (line 4)) (5.1.0)\n",
      "Requirement already satisfied: click<9.0,>=8.1.2 in /usr/local/lib/python3.11/dist-packages (from celery->dvc->-r requirements.txt (line 4)) (8.1.8)\n",
      "Requirement already satisfied: click-didyoumean>=0.3.0 in /usr/local/lib/python3.11/dist-packages (from celery->dvc->-r requirements.txt (line 4)) (0.3.1)\n",
      "Requirement already satisfied: click-repl>=0.2.0 in /usr/local/lib/python3.11/dist-packages (from celery->dvc->-r requirements.txt (line 4)) (0.3.0)\n",
      "Requirement already satisfied: click-plugins>=1.1.1 in /usr/local/lib/python3.11/dist-packages (from celery->dvc->-r requirements.txt (line 4)) (1.1.1)\n",
      "Requirement already satisfied: six<2.0,>=1.12 in /usr/local/lib/python3.11/dist-packages (from flatten_dict<1,>=0.4.1->dvc->-r requirements.txt (line 4)) (1.17.0)\n",
      "Requirement already satisfied: atpublic in /usr/local/lib/python3.11/dist-packages (from flufl.lock<9,>=8.1.0->dvc->-r requirements.txt (line 4)) (5.1)\n",
      "Requirement already satisfied: entrypoints in /usr/local/lib/python3.11/dist-packages (from gto<2,>=1.6.0->dvc->-r requirements.txt (line 4)) (0.4)\n",
      "Requirement already satisfied: pydantic!=2.0.0,<3,>=1.9.0 in /usr/local/lib/python3.11/dist-packages (from gto<2,>=1.6.0->dvc->-r requirements.txt (line 4)) (2.11.3)\n",
      "Requirement already satisfied: semver>=2.13.0 in /usr/local/lib/python3.11/dist-packages (from gto<2,>=1.6.0->dvc->-r requirements.txt (line 4)) (3.0.4)\n",
      "Requirement already satisfied: typer>=0.4.1 in /usr/local/lib/python3.11/dist-packages (from gto<2,>=1.6.0->dvc->-r requirements.txt (line 4)) (0.15.3)\n",
      "Requirement already satisfied: antlr4-python3-runtime==4.9.* in /usr/local/lib/python3.11/dist-packages (from hydra-core>=1.1->dvc->-r requirements.txt (line 4)) (4.9.3)\n",
      "Requirement already satisfied: appdirs in /usr/local/lib/python3.11/dist-packages (from iterative-telemetry>=0.0.7->dvc->-r requirements.txt (line 4)) (1.4.4)\n",
      "Requirement already satisfied: filelock in /usr/local/lib/python3.11/dist-packages (from iterative-telemetry>=0.0.7->dvc->-r requirements.txt (line 4)) (3.18.0)\n",
      "Requirement already satisfied: amqp<6.0.0,>=5.1.1 in /usr/local/lib/python3.11/dist-packages (from kombu->dvc->-r requirements.txt (line 4)) (5.3.1)\n",
      "Requirement already satisfied: notebook-shim>=0.2.3 in /usr/local/lib/python3.11/dist-packages (from nbclassic>=0.4.7->notebook->-r requirements.txt (line 6)) (0.2.4)\n",
      "Requirement already satisfied: beautifulsoup4 in /usr/local/lib/python3.11/dist-packages (from nbconvert>=5->notebook->-r requirements.txt (line 6)) (4.13.4)\n",
      "Requirement already satisfied: bleach!=5.0.0 in /usr/local/lib/python3.11/dist-packages (from bleach[css]!=5.0.0->nbconvert>=5->notebook->-r requirements.txt (line 6)) (6.2.0)\n",
      "Requirement already satisfied: defusedxml in /usr/local/lib/python3.11/dist-packages (from nbconvert>=5->notebook->-r requirements.txt (line 6)) (0.7.1)\n",
      "Requirement already satisfied: jupyterlab-pygments in /usr/local/lib/python3.11/dist-packages (from nbconvert>=5->notebook->-r requirements.txt (line 6)) (0.3.0)\n",
      "Requirement already satisfied: markupsafe>=2.0 in /usr/local/lib/python3.11/dist-packages (from nbconvert>=5->notebook->-r requirements.txt (line 6)) (3.0.2)\n",
      "Requirement already satisfied: mistune<4,>=2.0.3 in /usr/local/lib/python3.11/dist-packages (from nbconvert>=5->notebook->-r requirements.txt (line 6)) (3.1.3)\n",
      "Requirement already satisfied: nbclient>=0.5.0 in /usr/local/lib/python3.11/dist-packages (from nbconvert>=5->notebook->-r requirements.txt (line 6)) (0.10.2)\n",
      "Requirement already satisfied: pandocfilters>=1.4.1 in /usr/local/lib/python3.11/dist-packages (from nbconvert>=5->notebook->-r requirements.txt (line 6)) (1.5.1)\n",
      "Requirement already satisfied: pygments>=2.4.1 in /usr/local/lib/python3.11/dist-packages (from nbconvert>=5->notebook->-r requirements.txt (line 6)) (2.19.1)\n",
      "Requirement already satisfied: fastjsonschema>=2.15 in /usr/local/lib/python3.11/dist-packages (from nbformat->notebook->-r requirements.txt (line 6)) (2.21.1)\n",
      "Requirement already satisfied: jsonschema>=2.6 in /usr/local/lib/python3.11/dist-packages (from nbformat->notebook->-r requirements.txt (line 6)) (4.23.0)\n",
      "Requirement already satisfied: charset-normalizer<4,>=2 in /usr/local/lib/python3.11/dist-packages (from requests>=2.22->dvc->-r requirements.txt (line 4)) (3.4.1)\n",
      "Requirement already satisfied: idna<4,>=2.5 in /usr/local/lib/python3.11/dist-packages (from requests>=2.22->dvc->-r requirements.txt (line 4)) (3.10)\n",
      "Requirement already satisfied: urllib3<3,>=1.21.1 in /usr/local/lib/python3.11/dist-packages (from requests>=2.22->dvc->-r requirements.txt (line 4)) (2.4.0)\n",
      "Requirement already satisfied: certifi>=2017.4.17 in /usr/local/lib/python3.11/dist-packages (from requests>=2.22->dvc->-r requirements.txt (line 4)) (2025.4.26)\n",
      "Requirement already satisfied: markdown-it-py>=2.2.0 in /usr/local/lib/python3.11/dist-packages (from rich>=12->dvc->-r requirements.txt (line 4)) (3.0.0)\n",
      "Requirement already satisfied: ruamel.yaml.clib>=0.2.7 in /usr/local/lib/python3.11/dist-packages (from ruamel.yaml>=0.17.11->dvc->-r requirements.txt (line 4)) (0.2.12)\n",
      "Requirement already satisfied: gitpython>3 in /usr/local/lib/python3.11/dist-packages (from scmrepo<4,>=3.3.8->dvc->-r requirements.txt (line 4)) (3.1.44)\n",
      "Requirement already satisfied: pygit2>=1.14.0 in /usr/local/lib/python3.11/dist-packages (from scmrepo<4,>=3.3.8->dvc->-r requirements.txt (line 4)) (1.18.0)\n",
      "Requirement already satisfied: asyncssh<3,>=2.13.1 in /usr/local/lib/python3.11/dist-packages (from scmrepo<4,>=3.3.8->dvc->-r requirements.txt (line 4)) (2.20.0)\n",
      "Requirement already satisfied: ptyprocess in /usr/local/lib/python3.11/dist-packages (from terminado>=0.8.3->notebook->-r requirements.txt (line 6)) (0.7.0)\n",
      "Requirement already satisfied: setuptools in /usr/local/lib/python3.11/dist-packages (from zc.lockfile>=1.2.1->dvc->-r requirements.txt (line 4)) (75.2.0)\n",
      "Requirement already satisfied: argon2-cffi-bindings in /usr/local/lib/python3.11/dist-packages (from argon2-cffi->notebook->-r requirements.txt (line 6)) (21.2.0)\n",
      "Requirement already satisfied: debugpy>=1.0 in /usr/local/lib/python3.11/dist-packages (from ipykernel->notebook->-r requirements.txt (line 6)) (1.8.0)\n",
      "Requirement already satisfied: ipython>=7.23.1 in /usr/local/lib/python3.11/dist-packages (from ipykernel->notebook->-r requirements.txt (line 6)) (7.34.0)\n",
      "Requirement already satisfied: matplotlib-inline>=0.1 in /usr/local/lib/python3.11/dist-packages (from ipykernel->notebook->-r requirements.txt (line 6)) (0.1.7)\n",
      "Requirement already satisfied: aiohttp in /usr/local/lib/python3.11/dist-packages (from aiohttp-retry>=2.5.0->dvc-http>=2.29.0->dvc->-r requirements.txt (line 4)) (3.11.15)\n",
      "Requirement already satisfied: cryptography>=39.0 in /usr/local/lib/python3.11/dist-packages (from asyncssh<3,>=2.13.1->scmrepo<4,>=3.3.8->dvc->-r requirements.txt (line 4)) (43.0.3)\n",
      "Requirement already satisfied: typing_extensions>=4.0.0 in /usr/local/lib/python3.11/dist-packages (from asyncssh<3,>=2.13.1->scmrepo<4,>=3.3.8->dvc->-r requirements.txt (line 4)) (4.13.2)\n",
      "Requirement already satisfied: webencodings in /usr/local/lib/python3.11/dist-packages (from bleach!=5.0.0->bleach[css]!=5.0.0->nbconvert>=5->notebook->-r requirements.txt (line 6)) (0.5.1)\n",
      "Requirement already satisfied: tinycss2<1.5,>=1.1.0 in /usr/local/lib/python3.11/dist-packages (from bleach[css]!=5.0.0->nbconvert>=5->notebook->-r requirements.txt (line 6)) (1.4.0)\n",
      "Requirement already satisfied: prompt-toolkit>=3.0.36 in /usr/local/lib/python3.11/dist-packages (from click-repl>=0.2.0->celery->dvc->-r requirements.txt (line 4)) (3.0.51)\n",
      "Requirement already satisfied: gitdb<5,>=4.0.1 in /usr/local/lib/python3.11/dist-packages (from gitpython>3->scmrepo<4,>=3.3.8->dvc->-r requirements.txt (line 4)) (4.0.12)\n",
      "Requirement already satisfied: jedi>=0.16 in /usr/local/lib/python3.11/dist-packages (from ipython>=7.23.1->ipykernel->notebook->-r requirements.txt (line 6)) (0.19.2)\n",
      "Requirement already satisfied: decorator in /usr/local/lib/python3.11/dist-packages (from ipython>=7.23.1->ipykernel->notebook->-r requirements.txt (line 6)) (4.4.2)\n",
      "Requirement already satisfied: pickleshare in /usr/local/lib/python3.11/dist-packages (from ipython>=7.23.1->ipykernel->notebook->-r requirements.txt (line 6)) (0.7.5)\n",
      "Requirement already satisfied: backcall in /usr/local/lib/python3.11/dist-packages (from ipython>=7.23.1->ipykernel->notebook->-r requirements.txt (line 6)) (0.2.0)\n",
      "Requirement already satisfied: pexpect>4.3 in /usr/local/lib/python3.11/dist-packages (from ipython>=7.23.1->ipykernel->notebook->-r requirements.txt (line 6)) (4.9.0)\n",
      "Requirement already satisfied: jsonschema-specifications>=2023.03.6 in /usr/local/lib/python3.11/dist-packages (from jsonschema>=2.6->nbformat->notebook->-r requirements.txt (line 6)) (2025.4.1)\n",
      "Requirement already satisfied: referencing>=0.28.4 in /usr/local/lib/python3.11/dist-packages (from jsonschema>=2.6->nbformat->notebook->-r requirements.txt (line 6)) (0.36.2)\n",
      "Requirement already satisfied: rpds-py>=0.7.1 in /usr/local/lib/python3.11/dist-packages (from jsonschema>=2.6->nbformat->notebook->-r requirements.txt (line 6)) (0.24.0)\n",
      "Requirement already satisfied: mdurl~=0.1 in /usr/local/lib/python3.11/dist-packages (from markdown-it-py>=2.2.0->rich>=12->dvc->-r requirements.txt (line 4)) (0.1.2)\n",
      "Requirement already satisfied: jupyter-server<3,>=1.8 in /usr/local/lib/python3.11/dist-packages (from notebook-shim>=0.2.3->nbclassic>=0.4.7->notebook->-r requirements.txt (line 6)) (1.16.0)\n",
      "Requirement already satisfied: annotated-types>=0.6.0 in /usr/local/lib/python3.11/dist-packages (from pydantic!=2.0.0,<3,>=1.9.0->gto<2,>=1.6.0->dvc->-r requirements.txt (line 4)) (0.7.0)\n",
      "Requirement already satisfied: pydantic-core==2.33.1 in /usr/local/lib/python3.11/dist-packages (from pydantic!=2.0.0,<3,>=1.9.0->gto<2,>=1.6.0->dvc->-r requirements.txt (line 4)) (2.33.1)\n",
      "Requirement already satisfied: typing-inspection>=0.4.0 in /usr/local/lib/python3.11/dist-packages (from pydantic!=2.0.0,<3,>=1.9.0->gto<2,>=1.6.0->dvc->-r requirements.txt (line 4)) (0.4.0)\n",
      "Requirement already satisfied: cffi>=1.17.0 in /usr/local/lib/python3.11/dist-packages (from pygit2>=1.14.0->scmrepo<4,>=3.3.8->dvc->-r requirements.txt (line 4)) (1.17.1)\n",
      "Requirement already satisfied: shellingham>=1.3.0 in /usr/local/lib/python3.11/dist-packages (from typer>=0.4.1->gto<2,>=1.6.0->dvc->-r requirements.txt (line 4)) (1.5.4)\n",
      "Requirement already satisfied: soupsieve>1.2 in /usr/local/lib/python3.11/dist-packages (from beautifulsoup4->nbconvert>=5->notebook->-r requirements.txt (line 6)) (2.7)\n",
      "Requirement already satisfied: aiohappyeyeballs>=2.3.0 in /usr/local/lib/python3.11/dist-packages (from aiohttp->aiohttp-retry>=2.5.0->dvc-http>=2.29.0->dvc->-r requirements.txt (line 4)) (2.6.1)\n",
      "Requirement already satisfied: aiosignal>=1.1.2 in /usr/local/lib/python3.11/dist-packages (from aiohttp->aiohttp-retry>=2.5.0->dvc-http>=2.29.0->dvc->-r requirements.txt (line 4)) (1.3.2)\n",
      "Requirement already satisfied: frozenlist>=1.1.1 in /usr/local/lib/python3.11/dist-packages (from aiohttp->aiohttp-retry>=2.5.0->dvc-http>=2.29.0->dvc->-r requirements.txt (line 4)) (1.6.0)\n",
      "Requirement already satisfied: multidict<7.0,>=4.5 in /usr/local/lib/python3.11/dist-packages (from aiohttp->aiohttp-retry>=2.5.0->dvc-http>=2.29.0->dvc->-r requirements.txt (line 4)) (6.4.3)\n",
      "Requirement already satisfied: propcache>=0.2.0 in /usr/local/lib/python3.11/dist-packages (from aiohttp->aiohttp-retry>=2.5.0->dvc-http>=2.29.0->dvc->-r requirements.txt (line 4)) (0.3.1)\n",
      "Requirement already satisfied: yarl<2.0,>=1.17.0 in /usr/local/lib/python3.11/dist-packages (from aiohttp->aiohttp-retry>=2.5.0->dvc-http>=2.29.0->dvc->-r requirements.txt (line 4)) (1.20.0)\n",
      "Requirement already satisfied: pycparser in /usr/local/lib/python3.11/dist-packages (from cffi>=1.17.0->pygit2>=1.14.0->scmrepo<4,>=3.3.8->dvc->-r requirements.txt (line 4)) (2.22)\n",
      "Requirement already satisfied: smmap<6,>=3.0.1 in /usr/local/lib/python3.11/dist-packages (from gitdb<5,>=4.0.1->gitpython>3->scmrepo<4,>=3.3.8->dvc->-r requirements.txt (line 4)) (5.0.2)\n",
      "Requirement already satisfied: parso<0.9.0,>=0.8.4 in /usr/local/lib/python3.11/dist-packages (from jedi>=0.16->ipython>=7.23.1->ipykernel->notebook->-r requirements.txt (line 6)) (0.8.4)\n",
      "Requirement already satisfied: anyio>=3.1.0 in /usr/local/lib/python3.11/dist-packages (from jupyter-server<3,>=1.8->notebook-shim>=0.2.3->nbclassic>=0.4.7->notebook->-r requirements.txt (line 6)) (4.9.0)\n",
      "Requirement already satisfied: websocket-client in /usr/local/lib/python3.11/dist-packages (from jupyter-server<3,>=1.8->notebook-shim>=0.2.3->nbclassic>=0.4.7->notebook->-r requirements.txt (line 6)) (1.8.0)\n",
      "Requirement already satisfied: wcwidth in /usr/local/lib/python3.11/dist-packages (from prompt-toolkit>=3.0.36->click-repl>=0.2.0->celery->dvc->-r requirements.txt (line 4)) (0.2.13)\n",
      "Requirement already satisfied: sniffio>=1.1 in /usr/local/lib/python3.11/dist-packages (from anyio>=3.1.0->jupyter-server<3,>=1.8->notebook-shim>=0.2.3->nbclassic>=0.4.7->notebook->-r requirements.txt (line 6)) (1.3.1)\n",
      "Installing collected packages: classifier\n",
      "  Attempting uninstall: classifier\n",
      "    Found existing installation: classifier 0.0.0\n",
      "    Uninstalling classifier-0.0.0:\n",
      "      Successfully uninstalled classifier-0.0.0\n",
      "  Running setup.py develop for classifier\n",
      "Successfully installed classifier-0.0.0\n"
     ]
    }
   ],
   "source": [
    "!git pull\n",
    "!pip install -r requirements.txt"
   ]
  },
  {
   "cell_type": "markdown",
   "metadata": {
    "id": "w7ZduUn_6arv"
   },
   "source": [
    "# Thư viện"
   ]
  },
  {
   "cell_type": "code",
   "execution_count": null,
   "metadata": {
    "id": "PzqESPHR6322"
   },
   "outputs": [],
   "source": [
    "import os\n",
    "import matplotlib.pyplot as plt\n",
    "from Mylib import myfuncs\n",
    "from sklearn.model_selection import train_test_split\n",
    "import pandas as pd\n"
   ]
  },
  {
   "cell_type": "markdown",
   "metadata": {
    "id": "qldc5iAU7J1d"
   },
   "source": [
    "# Read the dataset\n"
   ]
  },
  {
   "cell_type": "code",
   "execution_count": null,
   "metadata": {
    "colab": {
     "base_uri": "https://localhost:8080/",
     "height": 377
    },
    "executionInfo": {
     "elapsed": 3384,
     "status": "ok",
     "timestamp": 1746178546677,
     "user": {
      "displayName": "andong giao",
      "userId": "08579771938911194368"
     },
     "user_tz": -420
    },
    "id": "UZfaxv3l7Kj-",
    "outputId": "952ffad1-e2d5-4823-9237-0b894ec12afe"
   },
   "outputs": [
    {
     "data": {
      "application/vnd.google.colaboratory.intrinsic+json": {
       "type": "dataframe",
       "variable_name": "df"
      },
      "text/html": [
       "\n",
       "  <div id=\"df-84e35f08-a372-4df3-9513-3ca8a1a61901\" class=\"colab-df-container\">\n",
       "    <div>\n",
       "<style scoped>\n",
       "    .dataframe tbody tr th:only-of-type {\n",
       "        vertical-align: middle;\n",
       "    }\n",
       "\n",
       "    .dataframe tbody tr th {\n",
       "        vertical-align: top;\n",
       "    }\n",
       "\n",
       "    .dataframe thead th {\n",
       "        text-align: right;\n",
       "    }\n",
       "</style>\n",
       "<table border=\"1\" class=\"dataframe\">\n",
       "  <thead>\n",
       "    <tr style=\"text-align: right;\">\n",
       "      <th></th>\n",
       "      <th>Unnamed: 0</th>\n",
       "      <th>Index</th>\n",
       "      <th>pH</th>\n",
       "      <th>Iron</th>\n",
       "      <th>Nitrate</th>\n",
       "      <th>Chloride</th>\n",
       "      <th>Lead</th>\n",
       "      <th>Zinc</th>\n",
       "      <th>Color</th>\n",
       "      <th>Turbidity</th>\n",
       "      <th>...</th>\n",
       "      <th>Chlorine</th>\n",
       "      <th>Manganese</th>\n",
       "      <th>Total Dissolved Solids</th>\n",
       "      <th>Source</th>\n",
       "      <th>Water Temperature</th>\n",
       "      <th>Air Temperature</th>\n",
       "      <th>Month</th>\n",
       "      <th>Day</th>\n",
       "      <th>Time of Day</th>\n",
       "      <th>Target</th>\n",
       "    </tr>\n",
       "  </thead>\n",
       "  <tbody>\n",
       "    <tr>\n",
       "      <th>0</th>\n",
       "      <td>597538</td>\n",
       "      <td>597538</td>\n",
       "      <td>9.522424</td>\n",
       "      <td>4.792145e-01</td>\n",
       "      <td>6.687850</td>\n",
       "      <td>359.702547</td>\n",
       "      <td>5.660000e-80</td>\n",
       "      <td>1.751097</td>\n",
       "      <td>Near Colorless</td>\n",
       "      <td>0.872356</td>\n",
       "      <td>...</td>\n",
       "      <td>2.141352</td>\n",
       "      <td>0.113169</td>\n",
       "      <td>512.778184</td>\n",
       "      <td>Lake</td>\n",
       "      <td>27.221744</td>\n",
       "      <td>58.985360</td>\n",
       "      <td>May</td>\n",
       "      <td>22.0</td>\n",
       "      <td>17.0</td>\n",
       "      <td>0</td>\n",
       "    </tr>\n",
       "    <tr>\n",
       "      <th>1</th>\n",
       "      <td>2274</td>\n",
       "      <td>2274</td>\n",
       "      <td>6.866225</td>\n",
       "      <td>1.095113e-03</td>\n",
       "      <td>2.481730</td>\n",
       "      <td>178.385858</td>\n",
       "      <td>1.610000e-126</td>\n",
       "      <td>0.410191</td>\n",
       "      <td>Near Colorless</td>\n",
       "      <td>0.294705</td>\n",
       "      <td>...</td>\n",
       "      <td>3.165534</td>\n",
       "      <td>0.000008</td>\n",
       "      <td>312.133243</td>\n",
       "      <td>Well</td>\n",
       "      <td>14.080138</td>\n",
       "      <td>54.410223</td>\n",
       "      <td>September</td>\n",
       "      <td>27.0</td>\n",
       "      <td>22.0</td>\n",
       "      <td>0</td>\n",
       "    </tr>\n",
       "    <tr>\n",
       "      <th>2</th>\n",
       "      <td>729626</td>\n",
       "      <td>729626</td>\n",
       "      <td>7.521999</td>\n",
       "      <td>7.055721e-02</td>\n",
       "      <td>11.359830</td>\n",
       "      <td>350.564642</td>\n",
       "      <td>5.290000e-158</td>\n",
       "      <td>2.477065</td>\n",
       "      <td>Yellow</td>\n",
       "      <td>0.438921</td>\n",
       "      <td>...</td>\n",
       "      <td>3.776310</td>\n",
       "      <td>0.000208</td>\n",
       "      <td>414.269400</td>\n",
       "      <td>Aquifer</td>\n",
       "      <td>13.973573</td>\n",
       "      <td>65.334872</td>\n",
       "      <td>November</td>\n",
       "      <td>25.0</td>\n",
       "      <td>22.0</td>\n",
       "      <td>1</td>\n",
       "    </tr>\n",
       "    <tr>\n",
       "      <th>3</th>\n",
       "      <td>75485</td>\n",
       "      <td>75485</td>\n",
       "      <td>6.026060</td>\n",
       "      <td>4.200000e-08</td>\n",
       "      <td>3.808772</td>\n",
       "      <td>169.217390</td>\n",
       "      <td>5.510000e-152</td>\n",
       "      <td>0.021406</td>\n",
       "      <td>Yellow</td>\n",
       "      <td>0.499565</td>\n",
       "      <td>...</td>\n",
       "      <td>3.721139</td>\n",
       "      <td>0.008046</td>\n",
       "      <td>306.345464</td>\n",
       "      <td>Ground</td>\n",
       "      <td>24.123817</td>\n",
       "      <td>50.562887</td>\n",
       "      <td>December</td>\n",
       "      <td>16.0</td>\n",
       "      <td>10.0</td>\n",
       "      <td>0</td>\n",
       "    </tr>\n",
       "    <tr>\n",
       "      <th>4</th>\n",
       "      <td>207631</td>\n",
       "      <td>207631</td>\n",
       "      <td>7.836850</td>\n",
       "      <td>4.196171e-02</td>\n",
       "      <td>7.905958</td>\n",
       "      <td>160.114303</td>\n",
       "      <td>3.460000e-64</td>\n",
       "      <td>0.759456</td>\n",
       "      <td>Colorless</td>\n",
       "      <td>0.094661</td>\n",
       "      <td>...</td>\n",
       "      <td>3.283765</td>\n",
       "      <td>0.007605</td>\n",
       "      <td>196.749287</td>\n",
       "      <td>Well</td>\n",
       "      <td>17.687728</td>\n",
       "      <td>43.722289</td>\n",
       "      <td>September</td>\n",
       "      <td>2.0</td>\n",
       "      <td>2.0</td>\n",
       "      <td>0</td>\n",
       "    </tr>\n",
       "  </tbody>\n",
       "</table>\n",
       "<p>5 rows × 25 columns</p>\n",
       "</div>\n",
       "    <div class=\"colab-df-buttons\">\n",
       "\n",
       "  <div class=\"colab-df-container\">\n",
       "    <button class=\"colab-df-convert\" onclick=\"convertToInteractive('df-84e35f08-a372-4df3-9513-3ca8a1a61901')\"\n",
       "            title=\"Convert this dataframe to an interactive table.\"\n",
       "            style=\"display:none;\">\n",
       "\n",
       "  <svg xmlns=\"http://www.w3.org/2000/svg\" height=\"24px\" viewBox=\"0 -960 960 960\">\n",
       "    <path d=\"M120-120v-720h720v720H120Zm60-500h600v-160H180v160Zm220 220h160v-160H400v160Zm0 220h160v-160H400v160ZM180-400h160v-160H180v160Zm440 0h160v-160H620v160ZM180-180h160v-160H180v160Zm440 0h160v-160H620v160Z\"/>\n",
       "  </svg>\n",
       "    </button>\n",
       "\n",
       "  <style>\n",
       "    .colab-df-container {\n",
       "      display:flex;\n",
       "      gap: 12px;\n",
       "    }\n",
       "\n",
       "    .colab-df-convert {\n",
       "      background-color: #E8F0FE;\n",
       "      border: none;\n",
       "      border-radius: 50%;\n",
       "      cursor: pointer;\n",
       "      display: none;\n",
       "      fill: #1967D2;\n",
       "      height: 32px;\n",
       "      padding: 0 0 0 0;\n",
       "      width: 32px;\n",
       "    }\n",
       "\n",
       "    .colab-df-convert:hover {\n",
       "      background-color: #E2EBFA;\n",
       "      box-shadow: 0px 1px 2px rgba(60, 64, 67, 0.3), 0px 1px 3px 1px rgba(60, 64, 67, 0.15);\n",
       "      fill: #174EA6;\n",
       "    }\n",
       "\n",
       "    .colab-df-buttons div {\n",
       "      margin-bottom: 4px;\n",
       "    }\n",
       "\n",
       "    [theme=dark] .colab-df-convert {\n",
       "      background-color: #3B4455;\n",
       "      fill: #D2E3FC;\n",
       "    }\n",
       "\n",
       "    [theme=dark] .colab-df-convert:hover {\n",
       "      background-color: #434B5C;\n",
       "      box-shadow: 0px 1px 3px 1px rgba(0, 0, 0, 0.15);\n",
       "      filter: drop-shadow(0px 1px 2px rgba(0, 0, 0, 0.3));\n",
       "      fill: #FFFFFF;\n",
       "    }\n",
       "  </style>\n",
       "\n",
       "    <script>\n",
       "      const buttonEl =\n",
       "        document.querySelector('#df-84e35f08-a372-4df3-9513-3ca8a1a61901 button.colab-df-convert');\n",
       "      buttonEl.style.display =\n",
       "        google.colab.kernel.accessAllowed ? 'block' : 'none';\n",
       "\n",
       "      async function convertToInteractive(key) {\n",
       "        const element = document.querySelector('#df-84e35f08-a372-4df3-9513-3ca8a1a61901');\n",
       "        const dataTable =\n",
       "          await google.colab.kernel.invokeFunction('convertToInteractive',\n",
       "                                                    [key], {});\n",
       "        if (!dataTable) return;\n",
       "\n",
       "        const docLinkHtml = 'Like what you see? Visit the ' +\n",
       "          '<a target=\"_blank\" href=https://colab.research.google.com/notebooks/data_table.ipynb>data table notebook</a>'\n",
       "          + ' to learn more about interactive tables.';\n",
       "        element.innerHTML = '';\n",
       "        dataTable['output_type'] = 'display_data';\n",
       "        await google.colab.output.renderOutput(dataTable, element);\n",
       "        const docLink = document.createElement('div');\n",
       "        docLink.innerHTML = docLinkHtml;\n",
       "        element.appendChild(docLink);\n",
       "      }\n",
       "    </script>\n",
       "  </div>\n",
       "\n",
       "\n",
       "    <div id=\"df-94de80a3-52b5-4e2b-939d-7220a6b4fa68\">\n",
       "      <button class=\"colab-df-quickchart\" onclick=\"quickchart('df-94de80a3-52b5-4e2b-939d-7220a6b4fa68')\"\n",
       "                title=\"Suggest charts\"\n",
       "                style=\"display:none;\">\n",
       "\n",
       "<svg xmlns=\"http://www.w3.org/2000/svg\" height=\"24px\"viewBox=\"0 0 24 24\"\n",
       "     width=\"24px\">\n",
       "    <g>\n",
       "        <path d=\"M19 3H5c-1.1 0-2 .9-2 2v14c0 1.1.9 2 2 2h14c1.1 0 2-.9 2-2V5c0-1.1-.9-2-2-2zM9 17H7v-7h2v7zm4 0h-2V7h2v10zm4 0h-2v-4h2v4z\"/>\n",
       "    </g>\n",
       "</svg>\n",
       "      </button>\n",
       "\n",
       "<style>\n",
       "  .colab-df-quickchart {\n",
       "      --bg-color: #E8F0FE;\n",
       "      --fill-color: #1967D2;\n",
       "      --hover-bg-color: #E2EBFA;\n",
       "      --hover-fill-color: #174EA6;\n",
       "      --disabled-fill-color: #AAA;\n",
       "      --disabled-bg-color: #DDD;\n",
       "  }\n",
       "\n",
       "  [theme=dark] .colab-df-quickchart {\n",
       "      --bg-color: #3B4455;\n",
       "      --fill-color: #D2E3FC;\n",
       "      --hover-bg-color: #434B5C;\n",
       "      --hover-fill-color: #FFFFFF;\n",
       "      --disabled-bg-color: #3B4455;\n",
       "      --disabled-fill-color: #666;\n",
       "  }\n",
       "\n",
       "  .colab-df-quickchart {\n",
       "    background-color: var(--bg-color);\n",
       "    border: none;\n",
       "    border-radius: 50%;\n",
       "    cursor: pointer;\n",
       "    display: none;\n",
       "    fill: var(--fill-color);\n",
       "    height: 32px;\n",
       "    padding: 0;\n",
       "    width: 32px;\n",
       "  }\n",
       "\n",
       "  .colab-df-quickchart:hover {\n",
       "    background-color: var(--hover-bg-color);\n",
       "    box-shadow: 0 1px 2px rgba(60, 64, 67, 0.3), 0 1px 3px 1px rgba(60, 64, 67, 0.15);\n",
       "    fill: var(--button-hover-fill-color);\n",
       "  }\n",
       "\n",
       "  .colab-df-quickchart-complete:disabled,\n",
       "  .colab-df-quickchart-complete:disabled:hover {\n",
       "    background-color: var(--disabled-bg-color);\n",
       "    fill: var(--disabled-fill-color);\n",
       "    box-shadow: none;\n",
       "  }\n",
       "\n",
       "  .colab-df-spinner {\n",
       "    border: 2px solid var(--fill-color);\n",
       "    border-color: transparent;\n",
       "    border-bottom-color: var(--fill-color);\n",
       "    animation:\n",
       "      spin 1s steps(1) infinite;\n",
       "  }\n",
       "\n",
       "  @keyframes spin {\n",
       "    0% {\n",
       "      border-color: transparent;\n",
       "      border-bottom-color: var(--fill-color);\n",
       "      border-left-color: var(--fill-color);\n",
       "    }\n",
       "    20% {\n",
       "      border-color: transparent;\n",
       "      border-left-color: var(--fill-color);\n",
       "      border-top-color: var(--fill-color);\n",
       "    }\n",
       "    30% {\n",
       "      border-color: transparent;\n",
       "      border-left-color: var(--fill-color);\n",
       "      border-top-color: var(--fill-color);\n",
       "      border-right-color: var(--fill-color);\n",
       "    }\n",
       "    40% {\n",
       "      border-color: transparent;\n",
       "      border-right-color: var(--fill-color);\n",
       "      border-top-color: var(--fill-color);\n",
       "    }\n",
       "    60% {\n",
       "      border-color: transparent;\n",
       "      border-right-color: var(--fill-color);\n",
       "    }\n",
       "    80% {\n",
       "      border-color: transparent;\n",
       "      border-right-color: var(--fill-color);\n",
       "      border-bottom-color: var(--fill-color);\n",
       "    }\n",
       "    90% {\n",
       "      border-color: transparent;\n",
       "      border-bottom-color: var(--fill-color);\n",
       "    }\n",
       "  }\n",
       "</style>\n",
       "\n",
       "      <script>\n",
       "        async function quickchart(key) {\n",
       "          const quickchartButtonEl =\n",
       "            document.querySelector('#' + key + ' button');\n",
       "          quickchartButtonEl.disabled = true;  // To prevent multiple clicks.\n",
       "          quickchartButtonEl.classList.add('colab-df-spinner');\n",
       "          try {\n",
       "            const charts = await google.colab.kernel.invokeFunction(\n",
       "                'suggestCharts', [key], {});\n",
       "          } catch (error) {\n",
       "            console.error('Error during call to suggestCharts:', error);\n",
       "          }\n",
       "          quickchartButtonEl.classList.remove('colab-df-spinner');\n",
       "          quickchartButtonEl.classList.add('colab-df-quickchart-complete');\n",
       "        }\n",
       "        (() => {\n",
       "          let quickchartButtonEl =\n",
       "            document.querySelector('#df-94de80a3-52b5-4e2b-939d-7220a6b4fa68 button');\n",
       "          quickchartButtonEl.style.display =\n",
       "            google.colab.kernel.accessAllowed ? 'block' : 'none';\n",
       "        })();\n",
       "      </script>\n",
       "    </div>\n",
       "\n",
       "    </div>\n",
       "  </div>\n"
      ],
      "text/plain": [
       "   Unnamed: 0   Index        pH          Iron    Nitrate    Chloride  \\\n",
       "0      597538  597538  9.522424  4.792145e-01   6.687850  359.702547   \n",
       "1        2274    2274  6.866225  1.095113e-03   2.481730  178.385858   \n",
       "2      729626  729626  7.521999  7.055721e-02  11.359830  350.564642   \n",
       "3       75485   75485  6.026060  4.200000e-08   3.808772  169.217390   \n",
       "4      207631  207631  7.836850  4.196171e-02   7.905958  160.114303   \n",
       "\n",
       "            Lead      Zinc           Color  Turbidity  ...  Chlorine  \\\n",
       "0   5.660000e-80  1.751097  Near Colorless   0.872356  ...  2.141352   \n",
       "1  1.610000e-126  0.410191  Near Colorless   0.294705  ...  3.165534   \n",
       "2  5.290000e-158  2.477065          Yellow   0.438921  ...  3.776310   \n",
       "3  5.510000e-152  0.021406          Yellow   0.499565  ...  3.721139   \n",
       "4   3.460000e-64  0.759456       Colorless   0.094661  ...  3.283765   \n",
       "\n",
       "   Manganese  Total Dissolved Solids   Source  Water Temperature  \\\n",
       "0   0.113169              512.778184     Lake          27.221744   \n",
       "1   0.000008              312.133243     Well          14.080138   \n",
       "2   0.000208              414.269400  Aquifer          13.973573   \n",
       "3   0.008046              306.345464   Ground          24.123817   \n",
       "4   0.007605              196.749287     Well          17.687728   \n",
       "\n",
       "   Air Temperature      Month   Day Time of Day  Target  \n",
       "0        58.985360        May  22.0        17.0       0  \n",
       "1        54.410223  September  27.0        22.0       0  \n",
       "2        65.334872   November  25.0        22.0       1  \n",
       "3        50.562887   December  16.0        10.0       0  \n",
       "4        43.722289  September   2.0         2.0       0  \n",
       "\n",
       "[5 rows x 25 columns]"
      ]
     },
     "execution_count": 14,
     "metadata": {},
     "output_type": "execute_result"
    }
   ],
   "source": [
    "df = pd.read_csv(\"data/Water Quality Prediction 300k.csv\")\n",
    "df.head()\n"
   ]
  },
  {
   "cell_type": "code",
   "execution_count": null,
   "metadata": {
    "colab": {
     "base_uri": "https://localhost:8080/"
    },
    "executionInfo": {
     "elapsed": 54,
     "status": "ok",
     "timestamp": 1746178551772,
     "user": {
      "displayName": "andong giao",
      "userId": "08579771938911194368"
     },
     "user_tz": -420
    },
    "id": "4Vm3kxZJvOMJ",
    "outputId": "146d1020-a06b-4f7f-c5c7-935395ada6a3"
   },
   "outputs": [
    {
     "data": {
      "text/plain": [
       "Index(['Unnamed: 0', 'Index', 'pH', 'Iron', 'Nitrate', 'Chloride', 'Lead',\n",
       "       'Zinc', 'Color', 'Turbidity', 'Fluoride', 'Copper', 'Odor', 'Sulfate',\n",
       "       'Conductivity', 'Chlorine', 'Manganese', 'Total Dissolved Solids',\n",
       "       'Source', 'Water Temperature', 'Air Temperature', 'Month', 'Day',\n",
       "       'Time of Day', 'Target'],\n",
       "      dtype='object')"
      ]
     },
     "execution_count": 15,
     "metadata": {},
     "output_type": "execute_result"
    }
   ],
   "source": [
    "df.columns"
   ]
  },
  {
   "cell_type": "code",
   "execution_count": null,
   "metadata": {
    "colab": {
     "base_uri": "https://localhost:8080/"
    },
    "executionInfo": {
     "elapsed": 49,
     "status": "ok",
     "timestamp": 1746178554068,
     "user": {
      "displayName": "andong giao",
      "userId": "08579771938911194368"
     },
     "user_tz": -420
    },
    "id": "n7i2IZRhV4lN",
    "outputId": "c621cfba-a256-4caa-e39a-f71935b7face"
   },
   "outputs": [
    {
     "data": {
      "text/plain": [
       "Index(['pH', 'Iron', 'Nitrate', 'Chloride', 'Lead', 'Zinc', 'Color',\n",
       "       'Turbidity', 'Fluoride', 'Copper', 'Odor', 'Sulfate', 'Conductivity',\n",
       "       'Chlorine', 'Manganese', 'Total Dissolved Solids', 'Source',\n",
       "       'Water Temperature', 'Air Temperature', 'Month', 'Day', 'Time of Day',\n",
       "       'Target'],\n",
       "      dtype='object')"
      ]
     },
     "execution_count": 16,
     "metadata": {},
     "output_type": "execute_result"
    }
   ],
   "source": [
    "df = df.drop(columns = ['Unnamed: 0', 'Index'])\n",
    "\n",
    "df.columns"
   ]
  },
  {
   "cell_type": "markdown",
   "metadata": {
    "id": "IQ7KMWHJU7Xs"
   },
   "source": [
    "# Xem xét cột target"
   ]
  },
  {
   "cell_type": "code",
   "execution_count": null,
   "metadata": {
    "colab": {
     "base_uri": "https://localhost:8080/"
    },
    "executionInfo": {
     "elapsed": 10,
     "status": "ok",
     "timestamp": 1746178403759,
     "user": {
      "displayName": "andong giao",
      "userId": "08579771938911194368"
     },
     "user_tz": -420
    },
    "id": "OE5P0N2mZgEH",
    "outputId": "27e4a99b-6f01-47c7-9d64-3b3e0fa3e025"
   },
   "outputs": [
    {
     "data": {
      "text/plain": [
       "0"
      ]
     },
     "execution_count": 6,
     "metadata": {},
     "output_type": "execute_result"
    }
   ],
   "source": [
    "df['Target'].isnull().sum()"
   ]
  },
  {
   "cell_type": "code",
   "execution_count": null,
   "metadata": {
    "colab": {
     "base_uri": "https://localhost:8080/"
    },
    "executionInfo": {
     "elapsed": 13,
     "status": "ok",
     "timestamp": 1746178406772,
     "user": {
      "displayName": "andong giao",
      "userId": "08579771938911194368"
     },
     "user_tz": -420
    },
    "id": "addpDVCTKXch",
    "outputId": "ac1f6761-9516-4fa5-d037-44950e98ad15"
   },
   "outputs": [
    {
     "data": {
      "text/plain": [
       "(314573, 23)"
      ]
     },
     "execution_count": 7,
     "metadata": {},
     "output_type": "execute_result"
    }
   ],
   "source": [
    "df.shape"
   ]
  },
  {
   "cell_type": "code",
   "execution_count": null,
   "metadata": {
    "colab": {
     "base_uri": "https://localhost:8080/"
    },
    "executionInfo": {
     "elapsed": 471,
     "status": "ok",
     "timestamp": 1746178583581,
     "user": {
      "displayName": "andong giao",
      "userId": "08579771938911194368"
     },
     "user_tz": -420
    },
    "id": "qFMsCPLqWm1R",
    "outputId": "73260625-504a-4ec5-a16f-2ef49f989243"
   },
   "outputs": [
    {
     "name": "stdout",
     "output_type": "stream",
     "text": [
      "pH -> [9.52242354 6.86622453 7.52199856 ... 8.0088107  8.39152498 8.86302209]\n",
      "Iron -> [4.79214469e-01 1.09511300e-03 7.05572080e-02 ... 3.23597000e-04\n",
      " 4.12435000e-04 4.54404115e-01]\n",
      "Nitrate -> [ 6.68784951  2.4817297  11.35982981 ...  6.81304519 10.26698032\n",
      "  3.41434743]\n",
      "Chloride -> [359.7025471  178.3858581  350.5646425  ...  47.24457825 129.1511748\n",
      " 187.6658915 ]\n",
      "Lead -> [5.66e-080 1.61e-126 5.29e-158 ... 6.46e-184 8.81e-051 3.59e-174]\n",
      "Zinc -> [1.75109692 0.4101912  2.47706538 ... 2.44526913 5.91089939 0.75695351]\n",
      "Color -> ['Near Colorless' 'Yellow' 'Colorless' 'Faint Yellow' 'Light Yellow' nan]\n",
      "Turbidity -> [0.872356   0.29470465 0.43892147 ... 0.43660748 1.23516529 1.58217681]\n",
      "Fluoride -> [0.40768929 0.17468591 0.72469701 ... 0.88835445 0.08315082 0.07205221]\n",
      "Copper -> [0.43071102 0.47069234 1.05540144 ... 0.31186559 0.96347775 0.62161666]\n",
      "Odor -> [0.77238123 1.83986026 3.17914161 ... 1.99317583 2.73417311 0.09728051]\n",
      "Sulfate -> [ 86.27791582  80.59789237  79.82708409 ...  72.24688256  42.23936708\n",
      " 139.4212588 ]\n",
      "Conductivity -> [247.4516857         nan 512.4943706 ... 531.5097757 179.4924914\n",
      " 234.3897501]\n",
      "Chlorine -> [2.14135172 3.16553406 3.77631005 ... 2.38984771 2.58092378 2.02021459]\n",
      "Manganese -> [1.13168679e-01 8.35000000e-06 2.08493000e-04 ... 2.19729560e-02\n",
      " 4.20000000e-15 3.97489340e-02]\n",
      "Total Dissolved Solids -> [512.7781845 312.1332426 414.2693995 ... 169.4334065 104.5882867\n",
      " 154.8041959]\n",
      "Source -> ['Lake' 'Well' 'Aquifer' 'Ground' nan 'Spring' 'Reservoir' 'Stream'\n",
      " 'River']\n",
      "Water Temperature -> [27.22174392 14.08013789 13.97357331 ... 16.3830641  20.03597421\n",
      " 16.67359264]\n",
      "Air Temperature -> [58.98536023 54.41022259 65.33487199 ... 42.22686458 71.76878057\n",
      " 69.18607148]\n",
      "Month -> ['May' 'September' 'November' 'December' 'February' 'October' 'August'\n",
      " 'March' 'June' 'April' 'July' 'January' nan]\n",
      "Day -> [22. 27. 25. 16.  2. 29. 12.  6. 24. 30.  9. 21.  3.  7. 23.  1. 18. 10.\n",
      " 11. 15. 31. 26.  5.  8. 19. 28. 14. 13. 20. 17.  4. nan]\n",
      "Time of Day -> [17. 22. 10.  2. 16. 14.  8.  0. 15. 23. 12. 13.  9.  5.  3. 21. 19. nan\n",
      "  4. 20.  1. 11. 18.  6.  7.]\n",
      "Target -> [0 1]\n"
     ]
    }
   ],
   "source": [
    "for col in df.columns:\n",
    "  print(f\"{col} -> {df[col].unique()}\")"
   ]
  },
  {
   "cell_type": "code",
   "execution_count": null,
   "metadata": {
    "colab": {
     "base_uri": "https://localhost:8080/",
     "height": 178
    },
    "executionInfo": {
     "elapsed": 35,
     "status": "ok",
     "timestamp": 1746178688794,
     "user": {
      "displayName": "andong giao",
      "userId": "08579771938911194368"
     },
     "user_tz": -420
    },
    "id": "mqVmxAvgWw5Z",
    "outputId": "68fe0686-1af1-40c3-bef4-906a476b96c0"
   },
   "outputs": [
    {
     "data": {
      "text/html": [
       "<div>\n",
       "<style scoped>\n",
       "    .dataframe tbody tr th:only-of-type {\n",
       "        vertical-align: middle;\n",
       "    }\n",
       "\n",
       "    .dataframe tbody tr th {\n",
       "        vertical-align: top;\n",
       "    }\n",
       "\n",
       "    .dataframe thead th {\n",
       "        text-align: right;\n",
       "    }\n",
       "</style>\n",
       "<table border=\"1\" class=\"dataframe\">\n",
       "  <thead>\n",
       "    <tr style=\"text-align: right;\">\n",
       "      <th></th>\n",
       "      <th>0</th>\n",
       "    </tr>\n",
       "  </thead>\n",
       "  <tbody>\n",
       "    <tr>\n",
       "      <th>Month</th>\n",
       "      <td>1.581827</td>\n",
       "    </tr>\n",
       "    <tr>\n",
       "      <th>Day</th>\n",
       "      <td>1.671790</td>\n",
       "    </tr>\n",
       "    <tr>\n",
       "      <th>Time of Day</th>\n",
       "      <td>1.911798</td>\n",
       "    </tr>\n",
       "  </tbody>\n",
       "</table>\n",
       "</div><br><label><b>dtype:</b> float64</label>"
      ],
      "text/plain": [
       "Month          1.581827\n",
       "Day            1.671790\n",
       "Time of Day    1.911798\n",
       "dtype: float64"
      ]
     },
     "execution_count": 18,
     "metadata": {},
     "output_type": "execute_result"
    }
   ],
   "source": [
    "df[['Month', 'Day', 'Time of Day']].isnull().mean() * 100"
   ]
  },
  {
   "cell_type": "code",
   "execution_count": null,
   "metadata": {
    "colab": {
     "base_uri": "https://localhost:8080/",
     "height": 178
    },
    "executionInfo": {
     "elapsed": 247,
     "status": "ok",
     "timestamp": 1746178746547,
     "user": {
      "displayName": "andong giao",
      "userId": "08579771938911194368"
     },
     "user_tz": -420
    },
    "id": "FIOMYD4tXON5",
    "outputId": "db1600bb-cf86-4602-e92c-aa571b602d44"
   },
   "outputs": [
    {
     "data": {
      "text/html": [
       "<div>\n",
       "<style scoped>\n",
       "    .dataframe tbody tr th:only-of-type {\n",
       "        vertical-align: middle;\n",
       "    }\n",
       "\n",
       "    .dataframe tbody tr th {\n",
       "        vertical-align: top;\n",
       "    }\n",
       "\n",
       "    .dataframe thead th {\n",
       "        text-align: right;\n",
       "    }\n",
       "</style>\n",
       "<table border=\"1\" class=\"dataframe\">\n",
       "  <thead>\n",
       "    <tr style=\"text-align: right;\">\n",
       "      <th></th>\n",
       "      <th>0</th>\n",
       "    </tr>\n",
       "  </thead>\n",
       "  <tbody>\n",
       "    <tr>\n",
       "      <th>Month</th>\n",
       "      <td>0.0</td>\n",
       "    </tr>\n",
       "    <tr>\n",
       "      <th>Day</th>\n",
       "      <td>0.0</td>\n",
       "    </tr>\n",
       "    <tr>\n",
       "      <th>Time of Day</th>\n",
       "      <td>0.0</td>\n",
       "    </tr>\n",
       "  </tbody>\n",
       "</table>\n",
       "</div><br><label><b>dtype:</b> float64</label>"
      ],
      "text/plain": [
       "Month          0.0\n",
       "Day            0.0\n",
       "Time of Day    0.0\n",
       "dtype: float64"
      ]
     },
     "execution_count": 19,
     "metadata": {},
     "output_type": "execute_result"
    }
   ],
   "source": [
    "df = df.dropna(subset=['Month', 'Day', 'Time of Day'])\n",
    "\n",
    "df[['Month', 'Day', 'Time of Day']].isnull().mean() * 100"
   ]
  },
  {
   "cell_type": "code",
   "execution_count": null,
   "metadata": {
    "colab": {
     "base_uri": "https://localhost:8080/"
    },
    "executionInfo": {
     "elapsed": 104,
     "status": "ok",
     "timestamp": 1746178779731,
     "user": {
      "displayName": "andong giao",
      "userId": "08579771938911194368"
     },
     "user_tz": -420
    },
    "id": "5AULjZBFXUlc",
    "outputId": "344277fb-4923-423d-80bc-87ae1df16782"
   },
   "outputs": [
    {
     "name": "stdout",
     "output_type": "stream",
     "text": [
      "Month -> ['May', 'September', 'November', 'December', 'February', 'October', 'August', 'March', 'June', 'April', 'July', 'January']\n",
      "Day -> [22.0, 27.0, 25.0, 16.0, 2.0, 29.0, 12.0, 6.0, 24.0, 30.0, 9.0, 21.0, 3.0, 7.0, 23.0, 1.0, 18.0, 10.0, 11.0, 15.0, 31.0, 26.0, 5.0, 8.0, 19.0, 28.0, 14.0, 13.0, 20.0, 17.0, 4.0]\n",
      "Time of Day -> [17.0, 22.0, 10.0, 2.0, 16.0, 14.0, 8.0, 0.0, 15.0, 23.0, 12.0, 13.0, 9.0, 5.0, 3.0, 21.0, 19.0, 4.0, 20.0, 1.0, 11.0, 18.0, 6.0, 7.0]\n"
     ]
    }
   ],
   "source": [
    "for col in ['Month', 'Day', 'Time of Day']:\n",
    "  print(f\"{col} -> {df[col].unique().tolist()}\")"
   ]
  },
  {
   "cell_type": "code",
   "execution_count": null,
   "metadata": {
    "colab": {
     "base_uri": "https://localhost:8080/"
    },
    "executionInfo": {
     "elapsed": 6,
     "status": "ok",
     "timestamp": 1746178831080,
     "user": {
      "displayName": "andong giao",
      "userId": "08579771938911194368"
     },
     "user_tz": -420
    },
    "id": "R_EFJF4SXmkC",
    "outputId": "7feb421b-2a89-434b-d801-f004f575a50e"
   },
   "outputs": [
    {
     "data": {
      "text/plain": [
       "(298624, 23)"
      ]
     },
     "execution_count": 21,
     "metadata": {},
     "output_type": "execute_result"
    }
   ],
   "source": [
    "df.shape"
   ]
  },
  {
   "cell_type": "code",
   "execution_count": null,
   "metadata": {
    "colab": {
     "base_uri": "https://localhost:8080/"
    },
    "executionInfo": {
     "elapsed": 116,
     "status": "ok",
     "timestamp": 1746178918862,
     "user": {
      "displayName": "andong giao",
      "userId": "08579771938911194368"
     },
     "user_tz": -420
    },
    "id": "FqIsXdY_XdE5",
    "outputId": "f7acb93b-d0d4-4575-a03d-7b2fe7f45bc3"
   },
   "outputs": [
    {
     "data": {
      "text/plain": [
       "[5, 9, 11, 12, 2, 10, 8, 3, 6, 4, 7, 1]"
      ]
     },
     "execution_count": 22,
     "metadata": {},
     "output_type": "execute_result"
    }
   ],
   "source": [
    "month_dict = {\n",
    "    \"January\": 1,\n",
    "    \"February\": 2,\n",
    "    \"March\": 3,\n",
    "    \"April\": 4,\n",
    "    \"May\": 5,\n",
    "    \"June\": 6,\n",
    "    \"July\": 7,\n",
    "    \"August\": 8,\n",
    "    \"September\": 9,\n",
    "    \"October\": 10,\n",
    "    \"November\": 11,\n",
    "    \"December\": 12,\n",
    "}\n",
    "\n",
    "df['Month'] = df['Month'].apply(lambda item: month_dict[item])\n",
    "\n",
    "df['Month'].unique().tolist()"
   ]
  },
  {
   "cell_type": "code",
   "execution_count": null,
   "metadata": {
    "colab": {
     "base_uri": "https://localhost:8080/",
     "height": 240
    },
    "executionInfo": {
     "elapsed": 2515,
     "status": "ok",
     "timestamp": 1746179146332,
     "user": {
      "displayName": "andong giao",
      "userId": "08579771938911194368"
     },
     "user_tz": -420
    },
    "id": "L6xlTuXGX-fw",
    "outputId": "062ca130-4240-4fd2-e0e7-11c705990e63"
   },
   "outputs": [
    {
     "data": {
      "text/html": [
       "<div>\n",
       "<style scoped>\n",
       "    .dataframe tbody tr th:only-of-type {\n",
       "        vertical-align: middle;\n",
       "    }\n",
       "\n",
       "    .dataframe tbody tr th {\n",
       "        vertical-align: top;\n",
       "    }\n",
       "\n",
       "    .dataframe thead th {\n",
       "        text-align: right;\n",
       "    }\n",
       "</style>\n",
       "<table border=\"1\" class=\"dataframe\">\n",
       "  <thead>\n",
       "    <tr style=\"text-align: right;\">\n",
       "      <th></th>\n",
       "      <th>taken_time</th>\n",
       "    </tr>\n",
       "  </thead>\n",
       "  <tbody>\n",
       "    <tr>\n",
       "      <th>0</th>\n",
       "      <td>1900-05-22 17:00:00</td>\n",
       "    </tr>\n",
       "    <tr>\n",
       "      <th>1</th>\n",
       "      <td>1900-09-27 22:00:00</td>\n",
       "    </tr>\n",
       "    <tr>\n",
       "      <th>2</th>\n",
       "      <td>1900-11-25 22:00:00</td>\n",
       "    </tr>\n",
       "    <tr>\n",
       "      <th>3</th>\n",
       "      <td>1900-12-16 10:00:00</td>\n",
       "    </tr>\n",
       "    <tr>\n",
       "      <th>4</th>\n",
       "      <td>1900-09-02 02:00:00</td>\n",
       "    </tr>\n",
       "  </tbody>\n",
       "</table>\n",
       "</div><br><label><b>dtype:</b> datetime64[ns]</label>"
      ],
      "text/plain": [
       "0   1900-05-22 17:00:00\n",
       "1   1900-09-27 22:00:00\n",
       "2   1900-11-25 22:00:00\n",
       "3   1900-12-16 10:00:00\n",
       "4   1900-09-02 02:00:00\n",
       "Name: taken_time, dtype: datetime64[ns]"
      ]
     },
     "execution_count": 24,
     "metadata": {},
     "output_type": "execute_result"
    }
   ],
   "source": [
    "df['Day'] = df['Day'].astype('int')\n",
    "df['Time of Day'] = df['Time of Day'].astype('int')\n",
    "df['taken_time'] = df[['Month', 'Day', 'Time of Day']].astype('str').agg('-'.join, axis=1)\n",
    "df['taken_time'] = pd.to_datetime(df['taken_time'], format='%m-%d-%H')\n",
    "\n",
    "df['taken_time'].head()"
   ]
  },
  {
   "cell_type": "code",
   "execution_count": null,
   "metadata": {
    "colab": {
     "base_uri": "https://localhost:8080/",
     "height": 377
    },
    "executionInfo": {
     "elapsed": 744,
     "status": "ok",
     "timestamp": 1746179184479,
     "user": {
      "displayName": "andong giao",
      "userId": "08579771938911194368"
     },
     "user_tz": -420
    },
    "id": "ehdtAoxXY2bD",
    "outputId": "151f4c8c-0c88-4e3c-b243-53e4244043d9"
   },
   "outputs": [
    {
     "data": {
      "application/vnd.google.colaboratory.intrinsic+json": {
       "type": "dataframe",
       "variable_name": "df"
      },
      "text/html": [
       "\n",
       "  <div id=\"df-1f78c839-3225-406d-a484-711cda2a4ffe\" class=\"colab-df-container\">\n",
       "    <div>\n",
       "<style scoped>\n",
       "    .dataframe tbody tr th:only-of-type {\n",
       "        vertical-align: middle;\n",
       "    }\n",
       "\n",
       "    .dataframe tbody tr th {\n",
       "        vertical-align: top;\n",
       "    }\n",
       "\n",
       "    .dataframe thead th {\n",
       "        text-align: right;\n",
       "    }\n",
       "</style>\n",
       "<table border=\"1\" class=\"dataframe\">\n",
       "  <thead>\n",
       "    <tr style=\"text-align: right;\">\n",
       "      <th></th>\n",
       "      <th>pH</th>\n",
       "      <th>Iron</th>\n",
       "      <th>Nitrate</th>\n",
       "      <th>Chloride</th>\n",
       "      <th>Lead</th>\n",
       "      <th>Zinc</th>\n",
       "      <th>Color</th>\n",
       "      <th>Turbidity</th>\n",
       "      <th>Fluoride</th>\n",
       "      <th>Copper</th>\n",
       "      <th>...</th>\n",
       "      <th>Manganese</th>\n",
       "      <th>Total Dissolved Solids</th>\n",
       "      <th>Source</th>\n",
       "      <th>Water Temperature</th>\n",
       "      <th>Air Temperature</th>\n",
       "      <th>Month</th>\n",
       "      <th>Day</th>\n",
       "      <th>Time of Day</th>\n",
       "      <th>Target</th>\n",
       "      <th>taken_time</th>\n",
       "    </tr>\n",
       "  </thead>\n",
       "  <tbody>\n",
       "    <tr>\n",
       "      <th>116899</th>\n",
       "      <td>7.034305</td>\n",
       "      <td>3.510000e-14</td>\n",
       "      <td>2.859233</td>\n",
       "      <td>132.125438</td>\n",
       "      <td>6.540000e-235</td>\n",
       "      <td>2.152380</td>\n",
       "      <td>Light Yellow</td>\n",
       "      <td>1.377299</td>\n",
       "      <td>1.551360</td>\n",
       "      <td>0.095312</td>\n",
       "      <td>...</td>\n",
       "      <td>0.000332</td>\n",
       "      <td>504.928844</td>\n",
       "      <td>Reservoir</td>\n",
       "      <td>7.116495</td>\n",
       "      <td>72.255851</td>\n",
       "      <td>1</td>\n",
       "      <td>1</td>\n",
       "      <td>0</td>\n",
       "      <td>1</td>\n",
       "      <td>1900-01-01</td>\n",
       "    </tr>\n",
       "    <tr>\n",
       "      <th>155434</th>\n",
       "      <td>6.599581</td>\n",
       "      <td>3.990000e-07</td>\n",
       "      <td>5.371393</td>\n",
       "      <td>199.138779</td>\n",
       "      <td>1.330000e-58</td>\n",
       "      <td>1.552503</td>\n",
       "      <td>Near Colorless</td>\n",
       "      <td>0.071201</td>\n",
       "      <td>1.776722</td>\n",
       "      <td>0.420041</td>\n",
       "      <td>...</td>\n",
       "      <td>0.021912</td>\n",
       "      <td>403.644429</td>\n",
       "      <td>Spring</td>\n",
       "      <td>23.035464</td>\n",
       "      <td>26.433255</td>\n",
       "      <td>1</td>\n",
       "      <td>1</td>\n",
       "      <td>0</td>\n",
       "      <td>0</td>\n",
       "      <td>1900-01-01</td>\n",
       "    </tr>\n",
       "    <tr>\n",
       "      <th>165968</th>\n",
       "      <td>7.670866</td>\n",
       "      <td>9.310000e-06</td>\n",
       "      <td>1.156363</td>\n",
       "      <td>245.548989</td>\n",
       "      <td>7.130000e-66</td>\n",
       "      <td>0.608690</td>\n",
       "      <td>Colorless</td>\n",
       "      <td>0.428635</td>\n",
       "      <td>0.506733</td>\n",
       "      <td>0.234863</td>\n",
       "      <td>...</td>\n",
       "      <td>0.002062</td>\n",
       "      <td>391.642190</td>\n",
       "      <td>Spring</td>\n",
       "      <td>5.728718</td>\n",
       "      <td>54.360327</td>\n",
       "      <td>1</td>\n",
       "      <td>1</td>\n",
       "      <td>0</td>\n",
       "      <td>0</td>\n",
       "      <td>1900-01-01</td>\n",
       "    </tr>\n",
       "    <tr>\n",
       "      <th>150476</th>\n",
       "      <td>8.024941</td>\n",
       "      <td>8.664510e-02</td>\n",
       "      <td>3.146721</td>\n",
       "      <td>174.001989</td>\n",
       "      <td>2.460000e-113</td>\n",
       "      <td>1.151119</td>\n",
       "      <td>Colorless</td>\n",
       "      <td>0.583815</td>\n",
       "      <td>0.543565</td>\n",
       "      <td>0.169842</td>\n",
       "      <td>...</td>\n",
       "      <td>0.002520</td>\n",
       "      <td>53.432049</td>\n",
       "      <td>River</td>\n",
       "      <td>26.853255</td>\n",
       "      <td>71.579596</td>\n",
       "      <td>1</td>\n",
       "      <td>1</td>\n",
       "      <td>0</td>\n",
       "      <td>0</td>\n",
       "      <td>1900-01-01</td>\n",
       "    </tr>\n",
       "    <tr>\n",
       "      <th>255559</th>\n",
       "      <td>6.738499</td>\n",
       "      <td>3.550000e-11</td>\n",
       "      <td>3.481104</td>\n",
       "      <td>225.121948</td>\n",
       "      <td>5.470000e-05</td>\n",
       "      <td>1.494975</td>\n",
       "      <td>Faint Yellow</td>\n",
       "      <td>0.863283</td>\n",
       "      <td>1.961606</td>\n",
       "      <td>NaN</td>\n",
       "      <td>...</td>\n",
       "      <td>0.000029</td>\n",
       "      <td>157.238713</td>\n",
       "      <td>Well</td>\n",
       "      <td>9.778199</td>\n",
       "      <td>66.545395</td>\n",
       "      <td>1</td>\n",
       "      <td>1</td>\n",
       "      <td>0</td>\n",
       "      <td>0</td>\n",
       "      <td>1900-01-01</td>\n",
       "    </tr>\n",
       "  </tbody>\n",
       "</table>\n",
       "<p>5 rows × 24 columns</p>\n",
       "</div>\n",
       "    <div class=\"colab-df-buttons\">\n",
       "\n",
       "  <div class=\"colab-df-container\">\n",
       "    <button class=\"colab-df-convert\" onclick=\"convertToInteractive('df-1f78c839-3225-406d-a484-711cda2a4ffe')\"\n",
       "            title=\"Convert this dataframe to an interactive table.\"\n",
       "            style=\"display:none;\">\n",
       "\n",
       "  <svg xmlns=\"http://www.w3.org/2000/svg\" height=\"24px\" viewBox=\"0 -960 960 960\">\n",
       "    <path d=\"M120-120v-720h720v720H120Zm60-500h600v-160H180v160Zm220 220h160v-160H400v160Zm0 220h160v-160H400v160ZM180-400h160v-160H180v160Zm440 0h160v-160H620v160ZM180-180h160v-160H180v160Zm440 0h160v-160H620v160Z\"/>\n",
       "  </svg>\n",
       "    </button>\n",
       "\n",
       "  <style>\n",
       "    .colab-df-container {\n",
       "      display:flex;\n",
       "      gap: 12px;\n",
       "    }\n",
       "\n",
       "    .colab-df-convert {\n",
       "      background-color: #E8F0FE;\n",
       "      border: none;\n",
       "      border-radius: 50%;\n",
       "      cursor: pointer;\n",
       "      display: none;\n",
       "      fill: #1967D2;\n",
       "      height: 32px;\n",
       "      padding: 0 0 0 0;\n",
       "      width: 32px;\n",
       "    }\n",
       "\n",
       "    .colab-df-convert:hover {\n",
       "      background-color: #E2EBFA;\n",
       "      box-shadow: 0px 1px 2px rgba(60, 64, 67, 0.3), 0px 1px 3px 1px rgba(60, 64, 67, 0.15);\n",
       "      fill: #174EA6;\n",
       "    }\n",
       "\n",
       "    .colab-df-buttons div {\n",
       "      margin-bottom: 4px;\n",
       "    }\n",
       "\n",
       "    [theme=dark] .colab-df-convert {\n",
       "      background-color: #3B4455;\n",
       "      fill: #D2E3FC;\n",
       "    }\n",
       "\n",
       "    [theme=dark] .colab-df-convert:hover {\n",
       "      background-color: #434B5C;\n",
       "      box-shadow: 0px 1px 3px 1px rgba(0, 0, 0, 0.15);\n",
       "      filter: drop-shadow(0px 1px 2px rgba(0, 0, 0, 0.3));\n",
       "      fill: #FFFFFF;\n",
       "    }\n",
       "  </style>\n",
       "\n",
       "    <script>\n",
       "      const buttonEl =\n",
       "        document.querySelector('#df-1f78c839-3225-406d-a484-711cda2a4ffe button.colab-df-convert');\n",
       "      buttonEl.style.display =\n",
       "        google.colab.kernel.accessAllowed ? 'block' : 'none';\n",
       "\n",
       "      async function convertToInteractive(key) {\n",
       "        const element = document.querySelector('#df-1f78c839-3225-406d-a484-711cda2a4ffe');\n",
       "        const dataTable =\n",
       "          await google.colab.kernel.invokeFunction('convertToInteractive',\n",
       "                                                    [key], {});\n",
       "        if (!dataTable) return;\n",
       "\n",
       "        const docLinkHtml = 'Like what you see? Visit the ' +\n",
       "          '<a target=\"_blank\" href=https://colab.research.google.com/notebooks/data_table.ipynb>data table notebook</a>'\n",
       "          + ' to learn more about interactive tables.';\n",
       "        element.innerHTML = '';\n",
       "        dataTable['output_type'] = 'display_data';\n",
       "        await google.colab.output.renderOutput(dataTable, element);\n",
       "        const docLink = document.createElement('div');\n",
       "        docLink.innerHTML = docLinkHtml;\n",
       "        element.appendChild(docLink);\n",
       "      }\n",
       "    </script>\n",
       "  </div>\n",
       "\n",
       "\n",
       "    <div id=\"df-6c42910d-8a98-4dd8-a172-aab0e138e1f1\">\n",
       "      <button class=\"colab-df-quickchart\" onclick=\"quickchart('df-6c42910d-8a98-4dd8-a172-aab0e138e1f1')\"\n",
       "                title=\"Suggest charts\"\n",
       "                style=\"display:none;\">\n",
       "\n",
       "<svg xmlns=\"http://www.w3.org/2000/svg\" height=\"24px\"viewBox=\"0 0 24 24\"\n",
       "     width=\"24px\">\n",
       "    <g>\n",
       "        <path d=\"M19 3H5c-1.1 0-2 .9-2 2v14c0 1.1.9 2 2 2h14c1.1 0 2-.9 2-2V5c0-1.1-.9-2-2-2zM9 17H7v-7h2v7zm4 0h-2V7h2v10zm4 0h-2v-4h2v4z\"/>\n",
       "    </g>\n",
       "</svg>\n",
       "      </button>\n",
       "\n",
       "<style>\n",
       "  .colab-df-quickchart {\n",
       "      --bg-color: #E8F0FE;\n",
       "      --fill-color: #1967D2;\n",
       "      --hover-bg-color: #E2EBFA;\n",
       "      --hover-fill-color: #174EA6;\n",
       "      --disabled-fill-color: #AAA;\n",
       "      --disabled-bg-color: #DDD;\n",
       "  }\n",
       "\n",
       "  [theme=dark] .colab-df-quickchart {\n",
       "      --bg-color: #3B4455;\n",
       "      --fill-color: #D2E3FC;\n",
       "      --hover-bg-color: #434B5C;\n",
       "      --hover-fill-color: #FFFFFF;\n",
       "      --disabled-bg-color: #3B4455;\n",
       "      --disabled-fill-color: #666;\n",
       "  }\n",
       "\n",
       "  .colab-df-quickchart {\n",
       "    background-color: var(--bg-color);\n",
       "    border: none;\n",
       "    border-radius: 50%;\n",
       "    cursor: pointer;\n",
       "    display: none;\n",
       "    fill: var(--fill-color);\n",
       "    height: 32px;\n",
       "    padding: 0;\n",
       "    width: 32px;\n",
       "  }\n",
       "\n",
       "  .colab-df-quickchart:hover {\n",
       "    background-color: var(--hover-bg-color);\n",
       "    box-shadow: 0 1px 2px rgba(60, 64, 67, 0.3), 0 1px 3px 1px rgba(60, 64, 67, 0.15);\n",
       "    fill: var(--button-hover-fill-color);\n",
       "  }\n",
       "\n",
       "  .colab-df-quickchart-complete:disabled,\n",
       "  .colab-df-quickchart-complete:disabled:hover {\n",
       "    background-color: var(--disabled-bg-color);\n",
       "    fill: var(--disabled-fill-color);\n",
       "    box-shadow: none;\n",
       "  }\n",
       "\n",
       "  .colab-df-spinner {\n",
       "    border: 2px solid var(--fill-color);\n",
       "    border-color: transparent;\n",
       "    border-bottom-color: var(--fill-color);\n",
       "    animation:\n",
       "      spin 1s steps(1) infinite;\n",
       "  }\n",
       "\n",
       "  @keyframes spin {\n",
       "    0% {\n",
       "      border-color: transparent;\n",
       "      border-bottom-color: var(--fill-color);\n",
       "      border-left-color: var(--fill-color);\n",
       "    }\n",
       "    20% {\n",
       "      border-color: transparent;\n",
       "      border-left-color: var(--fill-color);\n",
       "      border-top-color: var(--fill-color);\n",
       "    }\n",
       "    30% {\n",
       "      border-color: transparent;\n",
       "      border-left-color: var(--fill-color);\n",
       "      border-top-color: var(--fill-color);\n",
       "      border-right-color: var(--fill-color);\n",
       "    }\n",
       "    40% {\n",
       "      border-color: transparent;\n",
       "      border-right-color: var(--fill-color);\n",
       "      border-top-color: var(--fill-color);\n",
       "    }\n",
       "    60% {\n",
       "      border-color: transparent;\n",
       "      border-right-color: var(--fill-color);\n",
       "    }\n",
       "    80% {\n",
       "      border-color: transparent;\n",
       "      border-right-color: var(--fill-color);\n",
       "      border-bottom-color: var(--fill-color);\n",
       "    }\n",
       "    90% {\n",
       "      border-color: transparent;\n",
       "      border-bottom-color: var(--fill-color);\n",
       "    }\n",
       "  }\n",
       "</style>\n",
       "\n",
       "      <script>\n",
       "        async function quickchart(key) {\n",
       "          const quickchartButtonEl =\n",
       "            document.querySelector('#' + key + ' button');\n",
       "          quickchartButtonEl.disabled = true;  // To prevent multiple clicks.\n",
       "          quickchartButtonEl.classList.add('colab-df-spinner');\n",
       "          try {\n",
       "            const charts = await google.colab.kernel.invokeFunction(\n",
       "                'suggestCharts', [key], {});\n",
       "          } catch (error) {\n",
       "            console.error('Error during call to suggestCharts:', error);\n",
       "          }\n",
       "          quickchartButtonEl.classList.remove('colab-df-spinner');\n",
       "          quickchartButtonEl.classList.add('colab-df-quickchart-complete');\n",
       "        }\n",
       "        (() => {\n",
       "          let quickchartButtonEl =\n",
       "            document.querySelector('#df-6c42910d-8a98-4dd8-a172-aab0e138e1f1 button');\n",
       "          quickchartButtonEl.style.display =\n",
       "            google.colab.kernel.accessAllowed ? 'block' : 'none';\n",
       "        })();\n",
       "      </script>\n",
       "    </div>\n",
       "\n",
       "    </div>\n",
       "  </div>\n"
      ],
      "text/plain": [
       "              pH          Iron   Nitrate    Chloride           Lead      Zinc  \\\n",
       "116899  7.034305  3.510000e-14  2.859233  132.125438  6.540000e-235  2.152380   \n",
       "155434  6.599581  3.990000e-07  5.371393  199.138779   1.330000e-58  1.552503   \n",
       "165968  7.670866  9.310000e-06  1.156363  245.548989   7.130000e-66  0.608690   \n",
       "150476  8.024941  8.664510e-02  3.146721  174.001989  2.460000e-113  1.151119   \n",
       "255559  6.738499  3.550000e-11  3.481104  225.121948   5.470000e-05  1.494975   \n",
       "\n",
       "                 Color  Turbidity  Fluoride    Copper  ...  Manganese  \\\n",
       "116899    Light Yellow   1.377299  1.551360  0.095312  ...   0.000332   \n",
       "155434  Near Colorless   0.071201  1.776722  0.420041  ...   0.021912   \n",
       "165968       Colorless   0.428635  0.506733  0.234863  ...   0.002062   \n",
       "150476       Colorless   0.583815  0.543565  0.169842  ...   0.002520   \n",
       "255559    Faint Yellow   0.863283  1.961606       NaN  ...   0.000029   \n",
       "\n",
       "        Total Dissolved Solids     Source  Water Temperature  Air Temperature  \\\n",
       "116899              504.928844  Reservoir           7.116495        72.255851   \n",
       "155434              403.644429     Spring          23.035464        26.433255   \n",
       "165968              391.642190     Spring           5.728718        54.360327   \n",
       "150476               53.432049      River          26.853255        71.579596   \n",
       "255559              157.238713       Well           9.778199        66.545395   \n",
       "\n",
       "        Month Day  Time of Day  Target  taken_time  \n",
       "116899      1   1            0       1  1900-01-01  \n",
       "155434      1   1            0       0  1900-01-01  \n",
       "165968      1   1            0       0  1900-01-01  \n",
       "150476      1   1            0       0  1900-01-01  \n",
       "255559      1   1            0       0  1900-01-01  \n",
       "\n",
       "[5 rows x 24 columns]"
      ]
     },
     "execution_count": 25,
     "metadata": {},
     "output_type": "execute_result"
    }
   ],
   "source": [
    "df = df.sort_values(by = 'taken_time', ascending = True)\n",
    "\n",
    "df.head()"
   ]
  },
  {
   "cell_type": "code",
   "execution_count": 33,
   "metadata": {
    "colab": {
     "base_uri": "https://localhost:8080/"
    },
    "executionInfo": {
     "elapsed": 6,
     "status": "ok",
     "timestamp": 1746180925100,
     "user": {
      "displayName": "andong giao",
      "userId": "08579771938911194368"
     },
     "user_tz": -420
    },
    "id": "5qsydLjrfllR",
    "outputId": "3ef4c443-037b-4b64-a618-f6519acc7f8d"
   },
   "outputs": [
    {
     "data": {
      "text/plain": [
       "Index(['pH', 'Iron', 'Nitrate', 'Chloride', 'Lead', 'Zinc', 'Color',\n",
       "       'Turbidity', 'Fluoride', 'Copper', 'Odor', 'Sulfate', 'Conductivity',\n",
       "       'Chlorine', 'Manganese', 'Total Dissolved Solids', 'Source',\n",
       "       'Water Temperature', 'Air Temperature', 'Month', 'Day', 'Time of Day',\n",
       "       'Target', 'taken_time'],\n",
       "      dtype='object')"
      ]
     },
     "execution_count": 33,
     "metadata": {},
     "output_type": "execute_result"
    }
   ],
   "source": [
    "df.columns"
   ]
  },
  {
   "cell_type": "code",
   "execution_count": 34,
   "metadata": {
    "colab": {
     "base_uri": "https://localhost:8080/"
    },
    "executionInfo": {
     "elapsed": 54,
     "status": "ok",
     "timestamp": 1746180946200,
     "user": {
      "displayName": "andong giao",
      "userId": "08579771938911194368"
     },
     "user_tz": -420
    },
    "id": "XL0jCxY4fmuN",
    "outputId": "c20c5bd0-5740-4329-85b9-8c7f8c5106de"
   },
   "outputs": [
    {
     "data": {
      "text/plain": [
       "Index(['pH', 'Iron', 'Nitrate', 'Chloride', 'Lead', 'Zinc', 'Color',\n",
       "       'Turbidity', 'Fluoride', 'Copper', 'Odor', 'Sulfate', 'Conductivity',\n",
       "       'Chlorine', 'Manganese', 'Total Dissolved Solids', 'Source',\n",
       "       'Water Temperature', 'Air Temperature', 'Target', 'taken_time'],\n",
       "      dtype='object')"
      ]
     },
     "execution_count": 34,
     "metadata": {},
     "output_type": "execute_result"
    }
   ],
   "source": [
    "df = df.drop(columns = ['Month', 'Day', 'Time of Day'])\n",
    "\n",
    "df.columns"
   ]
  },
  {
   "cell_type": "markdown",
   "metadata": {
    "id": "ZNgcmoPF7Sxw"
   },
   "source": [
    "# CHia dữ liệu thành tập train, tập val, tập test\n",
    "- 60% -> training\n",
    "- 20% -> val\n",
    "- 20% -> test\n"
   ]
  },
  {
   "cell_type": "code",
   "execution_count": 35,
   "metadata": {
    "colab": {
     "base_uri": "https://localhost:8080/"
    },
    "executionInfo": {
     "elapsed": 10,
     "status": "ok",
     "timestamp": 1746180951942,
     "user": {
      "displayName": "andong giao",
      "userId": "08579771938911194368"
     },
     "user_tz": -420
    },
    "id": "srUD6uRr7TYV",
    "outputId": "cc2f1df0-e6e9-4e87-aa08-6fc2798b5fd4"
   },
   "outputs": [
    {
     "data": {
      "text/plain": [
       "((179174, 21), (59724, 21), (59726, 21))"
      ]
     },
     "execution_count": 35,
     "metadata": {},
     "output_type": "execute_result"
    }
   ],
   "source": [
    "train_size = 0.6\n",
    "val_size = 0.2\n",
    "\n",
    "num_train = int(train_size * len(df))\n",
    "num_val = int(val_size * len(df))\n",
    "\n",
    "df_train = df.iloc[:num_train, :]\n",
    "df_val = df.iloc[num_train: num_train + num_val, :]\n",
    "df_test = df.iloc[num_train + num_val:, :]\n",
    "\n",
    "df_train.shape, df_val.shape, df_test.shape"
   ]
  },
  {
   "cell_type": "markdown",
   "metadata": {
    "id": "5nK3Jzek7VE7"
   },
   "source": [
    "# Lưu dữ liệu\n",
    "\n"
   ]
  },
  {
   "cell_type": "code",
   "execution_count": 36,
   "metadata": {
    "executionInfo": {
     "elapsed": 887,
     "status": "ok",
     "timestamp": 1746180956585,
     "user": {
      "displayName": "andong giao",
      "userId": "08579771938911194368"
     },
     "user_tz": -420
    },
    "id": "nsNoaw4t7aVj"
   },
   "outputs": [],
   "source": [
    "data_folder = \"artifacts/data_ingestion\"\n",
    "os.makedirs(data_folder, exist_ok=True)\n",
    "\n",
    "myfuncs.save_python_object(os.path.join(data_folder, \"raw_data.pkl\"), df)\n",
    "myfuncs.save_python_object(os.path.join(data_folder, \"train_data.pkl\"), df_train)\n",
    "myfuncs.save_python_object(os.path.join(data_folder, \"val_data.pkl\"), df_val)\n",
    "myfuncs.save_python_object(os.path.join(data_folder, \"test_data.pkl\"), df_test)"
   ]
  }
 ],
 "metadata": {
  "colab": {
   "provenance": [],
   "toc_visible": true
  },
  "kernelspec": {
   "display_name": "Python 3",
   "name": "python3"
  },
  "language_info": {
   "name": "python"
  }
 },
 "nbformat": 4,
 "nbformat_minor": 0
}
